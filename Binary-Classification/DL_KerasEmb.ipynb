{
  "nbformat": 4,
  "nbformat_minor": 0,
  "metadata": {
    "colab": {
      "name": "DL- KerasEmb.ipynb",
      "provenance": [],
      "collapsed_sections": [],
      "include_colab_link": true
    },
    "kernelspec": {
      "name": "python3",
      "display_name": "Python 3"
    },
    "accelerator": "GPU"
  },
  "cells": [
    {
      "cell_type": "markdown",
      "metadata": {
        "id": "view-in-github",
        "colab_type": "text"
      },
      "source": [
        "<a href=\"https://colab.research.google.com/github/parsa-abbasi/Sentiment-Analysis/blob/master/Binary-Classification/DL_KerasEmb.ipynb\" target=\"_parent\"><img src=\"https://colab.research.google.com/assets/colab-badge.svg\" alt=\"Open In Colab\"/></a>"
      ]
    },
    {
      "cell_type": "markdown",
      "metadata": {
        "id": "QthdEc8Cp5Nt",
        "colab_type": "text"
      },
      "source": [
        "# Requirements"
      ]
    },
    {
      "cell_type": "markdown",
      "metadata": {
        "id": "m1eImT5Ehsfs",
        "colab_type": "text"
      },
      "source": [
        "## Install required libraries"
      ]
    },
    {
      "cell_type": "code",
      "metadata": {
        "id": "0yHgWvqWBAqS",
        "colab_type": "code",
        "outputId": "7c2f164b-e07a-4921-aefb-fde0b0abecc6",
        "colab": {
          "base_uri": "https://localhost:8080/",
          "height": 238
        }
      },
      "source": [
        "!pip install hazm\n",
        "!pip install stopwords_guilannlp\n",
        "!pip install matplotlib==3.1.0"
      ],
      "execution_count": 1,
      "outputs": [
        {
          "output_type": "stream",
          "text": [
            "Requirement already satisfied: hazm in /usr/local/lib/python3.6/dist-packages (0.7.0)\n",
            "Requirement already satisfied: nltk==3.3 in /usr/local/lib/python3.6/dist-packages (from hazm) (3.3)\n",
            "Requirement already satisfied: libwapiti>=0.2.1; platform_system != \"Windows\" in /usr/local/lib/python3.6/dist-packages (from hazm) (0.2.1)\n",
            "Requirement already satisfied: six in /usr/local/lib/python3.6/dist-packages (from nltk==3.3->hazm) (1.12.0)\n",
            "Requirement already satisfied: stopwords_guilannlp in /usr/local/lib/python3.6/dist-packages (13.2019.3.5)\n",
            "Requirement already satisfied: matplotlib==3.1.0 in /usr/local/lib/python3.6/dist-packages (3.1.0)\n",
            "Requirement already satisfied: numpy>=1.11 in /usr/local/lib/python3.6/dist-packages (from matplotlib==3.1.0) (1.17.4)\n",
            "Requirement already satisfied: kiwisolver>=1.0.1 in /usr/local/lib/python3.6/dist-packages (from matplotlib==3.1.0) (1.1.0)\n",
            "Requirement already satisfied: python-dateutil>=2.1 in /usr/local/lib/python3.6/dist-packages (from matplotlib==3.1.0) (2.6.1)\n",
            "Requirement already satisfied: cycler>=0.10 in /usr/local/lib/python3.6/dist-packages (from matplotlib==3.1.0) (0.10.0)\n",
            "Requirement already satisfied: pyparsing!=2.0.4,!=2.1.2,!=2.1.6,>=2.0.1 in /usr/local/lib/python3.6/dist-packages (from matplotlib==3.1.0) (2.4.5)\n",
            "Requirement already satisfied: setuptools in /usr/local/lib/python3.6/dist-packages (from kiwisolver>=1.0.1->matplotlib==3.1.0) (41.6.0)\n",
            "Requirement already satisfied: six>=1.5 in /usr/local/lib/python3.6/dist-packages (from python-dateutil>=2.1->matplotlib==3.1.0) (1.12.0)\n"
          ],
          "name": "stdout"
        }
      ]
    },
    {
      "cell_type": "markdown",
      "metadata": {
        "id": "qHENRyUpp-fb",
        "colab_type": "text"
      },
      "source": [
        "## Import Libraries"
      ]
    },
    {
      "cell_type": "code",
      "metadata": {
        "id": "DyJ0hqR8nku1",
        "colab_type": "code",
        "outputId": "243db6ab-5709-43d0-d9ef-a675de23c671",
        "colab": {
          "base_uri": "https://localhost:8080/",
          "height": 80
        }
      },
      "source": [
        "# General\n",
        "import numpy as np\n",
        "import pandas as pd\n",
        "import codecs\n",
        "from google.colab import files\n",
        "# Keras\n",
        "from keras import optimizers\n",
        "from keras.models import Model, Sequential\n",
        "from keras.layers import Dense, Input, Embedding, Dropout\n",
        "from keras.layers import GlobalMaxPool1D, MaxPooling1D, GlobalMaxPooling1D\n",
        "from keras.layers import CuDNNLSTM, LSTM, Bidirectional\n",
        "from keras.layers.convolutional import Conv1D\n",
        "from keras.utils import plot_model\n",
        "from keras.preprocessing.text import Tokenizer\n",
        "from keras.preprocessing.sequence import pad_sequences\n",
        "# Preprocessing\n",
        "from stopwords_guilannlp import stopwords_output\n",
        "from hazm import *\n",
        "# Visualization\n",
        "%matplotlib inline\n",
        "import matplotlib.pyplot as plt\n",
        "from keras.utils import plot_model"
      ],
      "execution_count": 2,
      "outputs": [
        {
          "output_type": "stream",
          "text": [
            "Using TensorFlow backend.\n"
          ],
          "name": "stderr"
        },
        {
          "output_type": "display_data",
          "data": {
            "text/html": [
              "<p style=\"color: red;\">\n",
              "The default version of TensorFlow in Colab will soon switch to TensorFlow 2.x.<br>\n",
              "We recommend you <a href=\"https://www.tensorflow.org/guide/migrate\" target=\"_blank\">upgrade</a> now \n",
              "or ensure your notebook will continue to use TensorFlow 1.x via the <code>%tensorflow_version 1.x</code> magic:\n",
              "<a href=\"https://colab.research.google.com/notebooks/tensorflow_version.ipynb\" target=\"_blank\">more info</a>.</p>\n"
            ],
            "text/plain": [
              "<IPython.core.display.HTML object>"
            ]
          },
          "metadata": {
            "tags": []
          }
        }
      ]
    },
    {
      "cell_type": "markdown",
      "metadata": {
        "id": "56Zm6edfuwXC",
        "colab_type": "text"
      },
      "source": [
        "# Upload dataset files"
      ]
    },
    {
      "cell_type": "markdown",
      "metadata": {
        "id": "wamGYNk-sbGV",
        "colab_type": "text"
      },
      "source": [
        "Upload dataset files to colab environment\n",
        "\n",
        "You can access to dataset files through following links:\n",
        "\n",
        "(x_train, x_test, y_train, y_test)\n",
        "- [Original dataset](https://github.com/parsa-abbasi/Sentiment-Analysis/tree/master/Dataset/Original)\n",
        "- [Balanced with extra data](https://github.com/parsa-abbasi/Sentiment-Analysis/tree/master/Dataset/BalancedWithExtra)\n",
        "- [Data Augmentation - Full Translate](https://github.com/parsa-abbasi/Sentiment-Analysis/tree/master/Dataset/FullTranslate)\n",
        "- [Data Augmentation - Synonyms](https://github.com/parsa-abbasi/Sentiment-Analysis/tree/master/Dataset/Synonyms)"
      ]
    },
    {
      "cell_type": "code",
      "metadata": {
        "id": "VvTYlRzbuwcd",
        "colab_type": "code",
        "colab": {}
      },
      "source": [
        "from google.colab import files\n",
        "uploaded = files.upload()"
      ],
      "execution_count": 0,
      "outputs": []
    },
    {
      "cell_type": "markdown",
      "metadata": {
        "id": "6FbuK-Gmupe2",
        "colab_type": "text"
      },
      "source": [
        "\n",
        "# Import & Analyze Dataset"
      ]
    },
    {
      "cell_type": "code",
      "metadata": {
        "id": "RXEXLFZoupUr",
        "colab_type": "code",
        "colab": {}
      },
      "source": [
        "x_train = pd.read_csv('x_train.csv', sep='\\t', index_col=None, header=None, encoding=\"utf-8\")[1]\n",
        "x_test = pd.read_csv('x_test.csv', sep='\\t', index_col=None, header=None, encoding=\"utf-8\")[1]\n",
        "y_train = pd.read_csv('y_train.csv', sep='\\t', index_col=None, header=None)[1]\n",
        "y_test = pd.read_csv('y_test.csv', sep='\\t', index_col=None, header=None)[1]"
      ],
      "execution_count": 0,
      "outputs": []
    },
    {
      "cell_type": "code",
      "metadata": {
        "id": "QX67vEWVyhTQ",
        "colab_type": "code",
        "colab": {}
      },
      "source": [
        "# The dataset csv files created using old version of Pandas\n",
        "# so we need to do some additional preparation\n",
        "x_train = x_train[1:]\n",
        "x_train = x_train.reset_index(drop=True)\n",
        "x_test = x_test[1:]\n",
        "x_test = x_test.reset_index(drop=True)\n",
        "y_train = y_train[1:]\n",
        "y_train = y_train.reset_index(drop=True)\n",
        "y_test = y_test[1:]\n",
        "y_test = y_test.reset_index(drop=True)"
      ],
      "execution_count": 0,
      "outputs": []
    },
    {
      "cell_type": "code",
      "metadata": {
        "id": "MATiU_eixlin",
        "colab_type": "code",
        "outputId": "36f065a5-ba37-496a-87a5-4e097b076e04",
        "colab": {
          "base_uri": "https://localhost:8080/",
          "height": 85
        }
      },
      "source": [
        "print('Number of training sentence: ', x_train.shape)\n",
        "print('Number of training label: ', y_train.shape)\n",
        "print('Number of testing sentence: ', x_test.shape)\n",
        "print('Number of testing label: ', y_test.shape)"
      ],
      "execution_count": 6,
      "outputs": [
        {
          "output_type": "stream",
          "text": [
            "Number of training sentence:  (7023,)\n",
            "Number of training label:  (7023,)\n",
            "Number of testing sentence:  (1854,)\n",
            "Number of testing label:  (1854,)\n"
          ],
          "name": "stdout"
        }
      ]
    },
    {
      "cell_type": "markdown",
      "metadata": {
        "id": "wIqtTfLZA-OT",
        "colab_type": "text"
      },
      "source": [
        "Remove *neutral* sentences from the dataset"
      ]
    },
    {
      "cell_type": "code",
      "metadata": {
        "id": "ci1-C2DmA9TD",
        "colab_type": "code",
        "colab": {}
      },
      "source": [
        "binary_y_train = []\n",
        "binary_y_test = []\n",
        "binary_x_train = []\n",
        "binary_x_test = []\n",
        "for i, y in enumerate(y_train):\n",
        "  if y != 0:\n",
        "    if y > 0:\n",
        "      binary_y_train.append(1)\n",
        "      binary_x_train.append(x_train[i])\n",
        "    else:\n",
        "      binary_y_train.append(0)\n",
        "      binary_x_train.append(x_train[i])\n",
        "      \n",
        "for i, y in enumerate(y_test):\n",
        "  if y != 0:\n",
        "    if y > 0:\n",
        "      binary_y_test.append(1)\n",
        "      binary_x_test.append(x_test[i])\n",
        "    else:\n",
        "      binary_y_test.append(0)\n",
        "      binary_x_test.append(x_test[i])"
      ],
      "execution_count": 0,
      "outputs": []
    },
    {
      "cell_type": "code",
      "metadata": {
        "id": "nL5mDIUfzjyG",
        "colab_type": "code",
        "colab": {}
      },
      "source": [
        "# Convert dataframes to numpy arrays\n",
        "x_train = np.asarray(binary_x_train)\n",
        "x_test = np.asarray(binary_x_test)\n",
        "y_train = np.asarray(binary_y_train)\n",
        "y_test = np.asarray(binary_y_test)"
      ],
      "execution_count": 0,
      "outputs": []
    },
    {
      "cell_type": "code",
      "metadata": {
        "id": "t2oX_KNK4t0p",
        "colab_type": "code",
        "outputId": "0f19db90-002a-4310-c541-8b8461328381",
        "colab": {
          "base_uri": "https://localhost:8080/",
          "height": 34
        }
      },
      "source": [
        "# See the data number of sentence in each category \n",
        "from collections import Counter\n",
        "cnt = Counter(y_train)\n",
        "cnt = dict(cnt)\n",
        "print(cnt)"
      ],
      "execution_count": 9,
      "outputs": [
        {
          "output_type": "stream",
          "text": [
            "{1: 3928, 0: 1095}\n"
          ],
          "name": "stdout"
        }
      ]
    },
    {
      "cell_type": "code",
      "metadata": {
        "id": "iPDHe3qf3hMC",
        "colab_type": "code",
        "outputId": "d90bbb0e-a2c7-45bb-8b9c-456bac8f634b",
        "colab": {
          "base_uri": "https://localhost:8080/",
          "height": 297
        }
      },
      "source": [
        "labels = list(cnt.keys())\n",
        "sizes = list(cnt.values())\n",
        "colors = ['#3fba36', '#66b3ff','#ffcc99','#ff9999', '#d44444']\n",
        "fig1, ax1 = plt.subplots()\n",
        "ax1.pie(sizes, labels=labels, colors=colors,\n",
        "        autopct='%1.1f%%', startangle=90)\n",
        "#draw circle\n",
        "centre_circle = plt.Circle((0,0),0.70,fc='white')\n",
        "fig = plt.gcf()\n",
        "fig.gca().add_artist(centre_circle)\n",
        "# Equal aspect ratio ensures that pie is drawn as a circle\n",
        "ax1.axis('equal')  \n",
        "plt.tight_layout()\n",
        "# Decomment following line if you want to save the figure\n",
        "# plt.savefig('balanced_with_extra_binary.png')\n",
        "plt.show()"
      ],
      "execution_count": 10,
      "outputs": [
        {
          "output_type": "display_data",
          "data": {
            "image/png": "[encoded data removed]",
            "text/plain": [
              "<Figure size 432x288 with 1 Axes>"
            ]
          },
          "metadata": {
            "tags": []
          }
        }
      ]
    },
    {
      "cell_type": "code",
      "metadata": {
        "id": "OBn3mkJKtGgH",
        "colab_type": "code",
        "colab": {}
      },
      "source": [
        "# Decomment following line if you want to download dataset figure\n",
        "# files.download('balanced_with_extra_binary.png')"
      ],
      "execution_count": 0,
      "outputs": []
    },
    {
      "cell_type": "code",
      "metadata": {
        "id": "tFMNBOb-9r0F",
        "colab_type": "code",
        "outputId": "8ffe2ba0-50bd-4d53-90c5-73e10abefe2f",
        "colab": {
          "base_uri": "https://localhost:8080/",
          "height": 286
        }
      },
      "source": [
        "plt.bar(labels[::-1], sizes[::-1], width=0.8, bottom=None, align='center')\n",
        "plt.ylim([0, 5000])\n",
        "# plt.savefig('bar_balanced_with_extra_binary.png')"
      ],
      "execution_count": 12,
      "outputs": [
        {
          "output_type": "execute_result",
          "data": {
            "text/plain": [
              "(0, 5000)"
            ]
          },
          "metadata": {
            "tags": []
          },
          "execution_count": 12
        },
        {
          "output_type": "display_data",
          "data": {
            "image/png": "[encoded data removed]",
            "text/plain": [
              "<Figure size 432x288 with 1 Axes>"
            ]
          },
          "metadata": {
            "tags": []
          }
        }
      ]
    },
    {
      "cell_type": "code",
      "metadata": {
        "colab_type": "code",
        "id": "eyefmueEChNG",
        "colab": {}
      },
      "source": [
        "# Decomment following line if you want to download dataset figure\n",
        "# files.download('bar_balanced_with_extra_binary.png')"
      ],
      "execution_count": 0,
      "outputs": []
    },
    {
      "cell_type": "markdown",
      "metadata": {
        "id": "2imgOHrg7Pzz",
        "colab_type": "text"
      },
      "source": [
        "# Preprocess"
      ]
    },
    {
      "cell_type": "code",
      "metadata": {
        "id": "4-XiHjK87VpK",
        "colab_type": "code",
        "colab": {}
      },
      "source": [
        "# Customize preprocessing\n",
        "puncs = ['،', '.', ',', ':', ';', '\"']\n",
        "\n",
        "# Hazm library\n",
        "normalizer = Normalizer()\n",
        "lemmatizer = Lemmatizer()\n",
        "\n",
        "# Apply preprocessing to a document\n",
        "def clean_doc(doc):\n",
        "  # Normalize document\n",
        "  doc = normalizer.normalize(doc)\n",
        "  # Tokenize text\n",
        "  tokenized = word_tokenize(doc)\n",
        "  # Remove punctuation\n",
        "  tokens = []\n",
        "  for t in tokenized:\n",
        "    temp = t\n",
        "    for p in puncs:\n",
        "      temp = temp.replace(p, '')\n",
        "    if temp.isdigit():\n",
        "      tokens.append('<DIGIT>')\n",
        "    else:\n",
        "      tokens.append(temp)\n",
        "  # Remove stop words\n",
        "  # tokens = [w for w in tokens if not w in stop_set]\n",
        "  # Remove one length words\n",
        "  tokens = [w for w in tokens if not len(w) <= 1]\n",
        "  # Remove digits\n",
        "  #tokens = [w for w in tokens if not w.isdigit()]\n",
        "  # Lemmatize sentence words using Hazm Lemmatizer\n",
        "  tokens = [lemmatizer.lemmatize(w) for w in tokens]\n",
        "  # Merge tokens to a single string\n",
        "  tokens = ' '.join(tokens)\n",
        "  return tokens"
      ],
      "execution_count": 0,
      "outputs": []
    },
    {
      "cell_type": "markdown",
      "metadata": {
        "id": "CwV8zcFJ8pki",
        "colab_type": "text"
      },
      "source": [
        "# Prepare data for Deep Learning model"
      ]
    },
    {
      "cell_type": "markdown",
      "metadata": {
        "id": "TSEcRKge69NI",
        "colab_type": "text"
      },
      "source": [
        "## Apply preprocessing to data"
      ]
    },
    {
      "cell_type": "code",
      "metadata": {
        "id": "Eaz_5RG90E8D",
        "colab_type": "code",
        "colab": {}
      },
      "source": [
        "# Apply preprocessing step to training data\n",
        "train_docs = np.empty_like(x_train)\n",
        "for index, document in enumerate(x_train):\n",
        "  train_docs[index] = clean_doc(document)"
      ],
      "execution_count": 0,
      "outputs": []
    },
    {
      "cell_type": "code",
      "metadata": {
        "id": "ZM1XsKN06BXb",
        "colab_type": "code",
        "colab": {}
      },
      "source": [
        "# Applying preprocessing step to test data\n",
        "test_docs = np.empty_like(x_test)\n",
        "for index, document in enumerate(x_test):\n",
        "  test_docs[index] = clean_doc(document)"
      ],
      "execution_count": 0,
      "outputs": []
    },
    {
      "cell_type": "markdown",
      "metadata": {
        "id": "zOVanzfQ7Etd",
        "colab_type": "text"
      },
      "source": [
        "## Setting tokenizer up"
      ]
    },
    {
      "cell_type": "code",
      "metadata": {
        "id": "yXOfMkE1yMOG",
        "colab_type": "code",
        "colab": {}
      },
      "source": [
        "num_words = 2500\n",
        "\n",
        "# Create the tokenizer\n",
        "tokenizer = Tokenizer()\n",
        "\n",
        "# fFt the tokenizer on the training documents\n",
        "tokenizer.fit_on_texts(train_docs)"
      ],
      "execution_count": 0,
      "outputs": []
    },
    {
      "cell_type": "code",
      "metadata": {
        "id": "xp3Hgq8m6gnI",
        "colab_type": "code",
        "colab": {}
      },
      "source": [
        "# Find maximum length of training sentences\n",
        "max_length = max([len(s.split()) for s in train_docs])"
      ],
      "execution_count": 0,
      "outputs": []
    },
    {
      "cell_type": "markdown",
      "metadata": {
        "id": "YfKPCiJs7RPS",
        "colab_type": "text"
      },
      "source": [
        "## Embed sentences"
      ]
    },
    {
      "cell_type": "code",
      "metadata": {
        "id": "Hl42Ym2W6PeU",
        "colab_type": "code",
        "colab": {}
      },
      "source": [
        "# Embed training sequences\n",
        "encoded_docs = tokenizer.texts_to_sequences(train_docs)\n",
        "\n",
        "# Pad embeded training sequences\n",
        "x_train_padded = pad_sequences(encoded_docs, maxlen=max_length, padding='post')"
      ],
      "execution_count": 0,
      "outputs": []
    },
    {
      "cell_type": "code",
      "metadata": {
        "id": "mQ_6Su9L16J9",
        "colab_type": "code",
        "colab": {}
      },
      "source": [
        "# Define vocabulary size (largest integer value)\n",
        "vocab_size = len(tokenizer.word_index)"
      ],
      "execution_count": 0,
      "outputs": []
    },
    {
      "cell_type": "code",
      "metadata": {
        "id": "o8NcUFxQpN1f",
        "colab_type": "code",
        "colab": {}
      },
      "source": [
        "# Embed testing sequences\n",
        "encoded_docs = tokenizer.texts_to_sequences(test_docs)\n",
        "# Pad testing sequences\n",
        "x_test_padded = pad_sequences(encoded_docs, maxlen=max_length, padding='post')"
      ],
      "execution_count": 0,
      "outputs": []
    },
    {
      "cell_type": "markdown",
      "metadata": {
        "id": "f8IrxurU7xXB",
        "colab_type": "text"
      },
      "source": [
        "# Deep Learning Models"
      ]
    },
    {
      "cell_type": "markdown",
      "metadata": {
        "id": "UGzX4V3J2U9F",
        "colab_type": "text"
      },
      "source": [
        "## B-LSTM Model"
      ]
    },
    {
      "cell_type": "code",
      "metadata": {
        "id": "sFdUGLh4-v6P",
        "colab_type": "code",
        "outputId": "1b634a0a-3d2b-4c70-fe0d-c5d4c70df7be",
        "colab": {
          "base_uri": "https://localhost:8080/",
          "height": 224
        }
      },
      "source": [
        "model_blstm = Sequential()\n",
        "model_blstm.add(Embedding(vocab_size, 500, input_length=max_length))\n",
        "model_blstm.add(Bidirectional(CuDNNLSTM(500, return_sequences=True, name='lstm_layer')))\n",
        "model_blstm.add(GlobalMaxPool1D())\n",
        "model_blstm.add(Dropout(0.1))\n",
        "model_blstm.add(Dense(500, activation=\"relu\"))\n",
        "model_blstm.add(Dropout(0.1))\n",
        "model_blstm.add(Dense(1, activation='sigmoid'))"
      ],
      "execution_count": 22,
      "outputs": [
        {
          "output_type": "stream",
          "text": [
            "WARNING:tensorflow:From /usr/local/lib/python3.6/dist-packages/keras/backend/tensorflow_backend.py:66: The name tf.get_default_graph is deprecated. Please use tf.compat.v1.get_default_graph instead.\n",
            "\n",
            "WARNING:tensorflow:From /usr/local/lib/python3.6/dist-packages/keras/backend/tensorflow_backend.py:541: The name tf.placeholder is deprecated. Please use tf.compat.v1.placeholder instead.\n",
            "\n",
            "WARNING:tensorflow:From /usr/local/lib/python3.6/dist-packages/keras/backend/tensorflow_backend.py:4432: The name tf.random_uniform is deprecated. Please use tf.random.uniform instead.\n",
            "\n",
            "WARNING:tensorflow:From /usr/local/lib/python3.6/dist-packages/keras/backend/tensorflow_backend.py:148: The name tf.placeholder_with_default is deprecated. Please use tf.compat.v1.placeholder_with_default instead.\n",
            "\n",
            "WARNING:tensorflow:From /usr/local/lib/python3.6/dist-packages/keras/backend/tensorflow_backend.py:3733: calling dropout (from tensorflow.python.ops.nn_ops) with keep_prob is deprecated and will be removed in a future version.\n",
            "Instructions for updating:\n",
            "Please use `rate` instead of `keep_prob`. Rate should be set to `rate = 1 - keep_prob`.\n"
          ],
          "name": "stdout"
        }
      ]
    },
    {
      "cell_type": "code",
      "metadata": {
        "id": "MadF-98Rufk-",
        "colab_type": "code",
        "outputId": "2ff35dbd-eb97-47fe-ba3d-287fd7fd02ab",
        "colab": {
          "base_uri": "https://localhost:8080/",
          "height": 530
        }
      },
      "source": [
        "model_blstm.compile(loss='binary_crossentropy',\n",
        "              optimizer='adam',\n",
        "              metrics=['accuracy'])\n",
        "\n",
        "model_blstm.summary()\n",
        "batch_size_blstm = 32\n",
        "epochs_blstm = 3"
      ],
      "execution_count": 23,
      "outputs": [
        {
          "output_type": "stream",
          "text": [
            "WARNING:tensorflow:From /usr/local/lib/python3.6/dist-packages/keras/optimizers.py:793: The name tf.train.Optimizer is deprecated. Please use tf.compat.v1.train.Optimizer instead.\n",
            "\n",
            "WARNING:tensorflow:From /usr/local/lib/python3.6/dist-packages/keras/backend/tensorflow_backend.py:3657: The name tf.log is deprecated. Please use tf.math.log instead.\n",
            "\n",
            "WARNING:tensorflow:From /usr/local/lib/python3.6/dist-packages/tensorflow_core/python/ops/nn_impl.py:183: where (from tensorflow.python.ops.array_ops) is deprecated and will be removed in a future version.\n",
            "Instructions for updating:\n",
            "Use tf.where in 2.0, which has the same broadcast rule as np.where\n",
            "Model: \"sequential_1\"\n",
            "_________________________________________________________________\n",
            "Layer (type)                 Output Shape              Param #   \n",
            "=================================================================\n",
            "embedding_1 (Embedding)      (None, 259, 500)          2965000   \n",
            "_________________________________________________________________\n",
            "bidirectional_1 (Bidirection (None, 259, 1000)         4008000   \n",
            "_________________________________________________________________\n",
            "global_max_pooling1d_1 (Glob (None, 1000)              0         \n",
            "_________________________________________________________________\n",
            "dropout_1 (Dropout)          (None, 1000)              0         \n",
            "_________________________________________________________________\n",
            "dense_1 (Dense)              (None, 500)               500500    \n",
            "_________________________________________________________________\n",
            "dropout_2 (Dropout)          (None, 500)               0         \n",
            "_________________________________________________________________\n",
            "dense_2 (Dense)              (None, 1)                 501       \n",
            "=================================================================\n",
            "Total params: 7,474,001\n",
            "Trainable params: 7,474,001\n",
            "Non-trainable params: 0\n",
            "_________________________________________________________________\n"
          ],
          "name": "stdout"
        }
      ]
    },
    {
      "cell_type": "code",
      "metadata": {
        "id": "Yvltc4_D8Sjp",
        "colab_type": "code",
        "outputId": "a80fbdde-b510-4477-eb07-ff362117cc11",
        "colab": {
          "base_uri": "https://localhost:8080/",
          "height": 411
        }
      },
      "source": [
        "# Train model\n",
        "hist_blstm = model_blstm.fit(x_train_padded, y_train, batch_size=batch_size_blstm, epochs=epochs_blstm)"
      ],
      "execution_count": 24,
      "outputs": [
        {
          "output_type": "stream",
          "text": [
            "WARNING:tensorflow:From /usr/local/lib/python3.6/dist-packages/keras/backend/tensorflow_backend.py:1033: The name tf.assign_add is deprecated. Please use tf.compat.v1.assign_add instead.\n",
            "\n",
            "WARNING:tensorflow:From /usr/local/lib/python3.6/dist-packages/keras/backend/tensorflow_backend.py:1020: The name tf.assign is deprecated. Please use tf.compat.v1.assign instead.\n",
            "\n",
            "WARNING:tensorflow:From /usr/local/lib/python3.6/dist-packages/keras/backend/tensorflow_backend.py:3005: The name tf.Session is deprecated. Please use tf.compat.v1.Session instead.\n",
            "\n",
            "Epoch 1/3\n",
            "WARNING:tensorflow:From /usr/local/lib/python3.6/dist-packages/keras/backend/tensorflow_backend.py:190: The name tf.get_default_session is deprecated. Please use tf.compat.v1.get_default_session instead.\n",
            "\n",
            "WARNING:tensorflow:From /usr/local/lib/python3.6/dist-packages/keras/backend/tensorflow_backend.py:197: The name tf.ConfigProto is deprecated. Please use tf.compat.v1.ConfigProto instead.\n",
            "\n",
            "WARNING:tensorflow:From /usr/local/lib/python3.6/dist-packages/keras/backend/tensorflow_backend.py:207: The name tf.global_variables is deprecated. Please use tf.compat.v1.global_variables instead.\n",
            "\n",
            "WARNING:tensorflow:From /usr/local/lib/python3.6/dist-packages/keras/backend/tensorflow_backend.py:216: The name tf.is_variable_initialized is deprecated. Please use tf.compat.v1.is_variable_initialized instead.\n",
            "\n",
            "WARNING:tensorflow:From /usr/local/lib/python3.6/dist-packages/keras/backend/tensorflow_backend.py:223: The name tf.variables_initializer is deprecated. Please use tf.compat.v1.variables_initializer instead.\n",
            "\n",
            "5023/5023 [==============================] - 18s 4ms/step - loss: 0.4457 - acc: 0.8053\n",
            "Epoch 2/3\n",
            "5023/5023 [==============================] - 15s 3ms/step - loss: 0.2379 - acc: 0.9056\n",
            "Epoch 3/3\n",
            "5023/5023 [==============================] - 15s 3ms/step - loss: 0.1382 - acc: 0.9510\n"
          ],
          "name": "stdout"
        }
      ]
    },
    {
      "cell_type": "code",
      "metadata": {
        "id": "hiqdfnXMKlsZ",
        "colab_type": "code",
        "outputId": "93f887b8-b78a-41c3-fc72-5457c404debe",
        "colab": {
          "base_uri": "https://localhost:8080/",
          "height": 34
        }
      },
      "source": [
        "# Evaluate model\n",
        "loss_blstm, acc_blstm = model_blstm.evaluate(x_test_padded, y_test, verbose=0)\n",
        "print('Test Accuracy: %f' % (acc_blstm*100))"
      ],
      "execution_count": 25,
      "outputs": [
        {
          "output_type": "stream",
          "text": [
            "Test Accuracy: 91.809181\n"
          ],
          "name": "stdout"
        }
      ]
    },
    {
      "cell_type": "code",
      "metadata": {
        "id": "imptdlcYXZF5",
        "colab_type": "code",
        "colab": {}
      },
      "source": [
        "# Get prediction label\n",
        "y_pred_blstm = model_blstm.predict_classes(x_test_padded[:-1])"
      ],
      "execution_count": 0,
      "outputs": []
    },
    {
      "cell_type": "markdown",
      "metadata": {
        "colab_type": "text",
        "id": "mjCMX44DEv-4"
      },
      "source": [
        "## CNN Model"
      ]
    },
    {
      "cell_type": "code",
      "metadata": {
        "colab_type": "code",
        "id": "FemjzX3_FJFN",
        "colab": {}
      },
      "source": [
        "model_cnn = Sequential()\n",
        "model_cnn.add(Embedding(vocab_size, 2000, input_length=max_length))\n",
        "model_cnn.add(Conv1D(filters=64, kernel_size=4, activation='relu', padding='same'))\n",
        "model_cnn.add(MaxPooling1D(pool_size=2))\n",
        "model_cnn.add(Conv1D(filters=64, kernel_size=8, activation='relu', padding='same'))\n",
        "model_cnn.add(MaxPooling1D(pool_size=2))\n",
        "model_cnn.add(Conv1D(filters=64, kernel_size=16, activation='relu', padding='same'))\n",
        "model_cnn.add(GlobalMaxPooling1D())\n",
        "model_cnn.add(Dropout(0.1))\n",
        "model_cnn.add(Dense(2000, activation=\"sigmoid\"))\n",
        "model_cnn.add(Dense(1, activation='sigmoid'))"
      ],
      "execution_count": 0,
      "outputs": []
    },
    {
      "cell_type": "code",
      "metadata": {
        "colab_type": "code",
        "outputId": "da25636b-62d1-4154-d68d-cb6840da5233",
        "id": "k79NbUPiFJFT",
        "colab": {
          "base_uri": "https://localhost:8080/",
          "height": 493
        }
      },
      "source": [
        "model_cnn.compile(loss='binary_crossentropy',\n",
        "              optimizer='adam',\n",
        "              metrics=['accuracy'])\n",
        "\n",
        "model_cnn.summary()\n",
        "batch_size_cnn = 64\n",
        "epochs_cnn = 5"
      ],
      "execution_count": 30,
      "outputs": [
        {
          "output_type": "stream",
          "text": [
            "Model: \"sequential_3\"\n",
            "_________________________________________________________________\n",
            "Layer (type)                 Output Shape              Param #   \n",
            "=================================================================\n",
            "embedding_3 (Embedding)      (None, 259, 2000)         11860000  \n",
            "_________________________________________________________________\n",
            "conv1d_4 (Conv1D)            (None, 259, 64)           512064    \n",
            "_________________________________________________________________\n",
            "max_pooling1d_3 (MaxPooling1 (None, 129, 64)           0         \n",
            "_________________________________________________________________\n",
            "conv1d_5 (Conv1D)            (None, 129, 64)           32832     \n",
            "_________________________________________________________________\n",
            "max_pooling1d_4 (MaxPooling1 (None, 64, 64)            0         \n",
            "_________________________________________________________________\n",
            "conv1d_6 (Conv1D)            (None, 64, 64)            65600     \n",
            "_________________________________________________________________\n",
            "global_max_pooling1d_3 (Glob (None, 64)                0         \n",
            "_________________________________________________________________\n",
            "dropout_4 (Dropout)          (None, 64)                0         \n",
            "_________________________________________________________________\n",
            "dense_5 (Dense)              (None, 2000)              130000    \n",
            "_________________________________________________________________\n",
            "dense_6 (Dense)              (None, 1)                 2001      \n",
            "=================================================================\n",
            "Total params: 12,602,497\n",
            "Trainable params: 12,602,497\n",
            "Non-trainable params: 0\n",
            "_________________________________________________________________\n"
          ],
          "name": "stdout"
        }
      ]
    },
    {
      "cell_type": "code",
      "metadata": {
        "colab_type": "code",
        "outputId": "a6acd837-fcc7-40c8-a797-a692a9abff76",
        "id": "z-k6q09sFJFX",
        "colab": {
          "base_uri": "https://localhost:8080/",
          "height": 187
        }
      },
      "source": [
        "# Train model\n",
        "hist_cnn = model_cnn.fit(x_train_padded, y_train, batch_size=batch_size_cnn, epochs=epochs_cnn)"
      ],
      "execution_count": 31,
      "outputs": [
        {
          "output_type": "stream",
          "text": [
            "Epoch 1/5\n",
            "5023/5023 [==============================] - 4s 718us/step - loss: 0.5473 - acc: 0.7728\n",
            "Epoch 2/5\n",
            "5023/5023 [==============================] - 2s 439us/step - loss: 0.4268 - acc: 0.8085\n",
            "Epoch 3/5\n",
            "5023/5023 [==============================] - 2s 438us/step - loss: 0.2136 - acc: 0.9208\n",
            "Epoch 4/5\n",
            "5023/5023 [==============================] - 2s 437us/step - loss: 0.0864 - acc: 0.9679\n",
            "Epoch 5/5\n",
            "5023/5023 [==============================] - 2s 438us/step - loss: 0.0452 - acc: 0.9875\n"
          ],
          "name": "stdout"
        }
      ]
    },
    {
      "cell_type": "code",
      "metadata": {
        "colab_type": "code",
        "id": "96Sh1kXWFJFa",
        "outputId": "4d7e96ac-28c3-4b92-adfc-e0781d088ee7",
        "colab": {
          "base_uri": "https://localhost:8080/",
          "height": 34
        }
      },
      "source": [
        "# Evaluate model\n",
        "loss_cnn, acc_cnn = model_cnn.evaluate(x_test_padded, y_test, verbose=0)\n",
        "print('Test Accuracy: %f' % (acc_cnn*100))"
      ],
      "execution_count": 32,
      "outputs": [
        {
          "output_type": "stream",
          "text": [
            "Test Accuracy: 91.089109\n"
          ],
          "name": "stdout"
        }
      ]
    },
    {
      "cell_type": "code",
      "metadata": {
        "colab_type": "code",
        "id": "T4BdQvmYFJFd",
        "colab": {}
      },
      "source": [
        "# Get prediction label\n",
        "y_pred_cnn = model_cnn.predict_classes(x_test_padded[:-1])"
      ],
      "execution_count": 0,
      "outputs": []
    },
    {
      "cell_type": "markdown",
      "metadata": {
        "id": "UmU5nDXelR39",
        "colab_type": "text"
      },
      "source": [
        "# Confusion Matrix"
      ]
    },
    {
      "cell_type": "code",
      "metadata": {
        "id": "b5OhWcBv9K3T",
        "colab_type": "code",
        "colab": {}
      },
      "source": [
        "from sklearn.metrics import confusion_matrix\n",
        "from sklearn.utils.multiclass import unique_labels\n",
        "\n",
        "def plot_confusion_matrix(y_true, y_pred, classes,\n",
        "                          normalize=False,\n",
        "                          title=None,\n",
        "                          cmap=plt.cm.Blues):\n",
        "    \"\"\"\n",
        "    This function prints and plots the confusion matrix.\n",
        "    Normalization can be applied by setting `normalize=True`.\n",
        "    \"\"\"\n",
        "    # Compute confusion matrix\n",
        "    cm = confusion_matrix(y_true, y_pred)\n",
        "    # Only use the labels that appear in the data\n",
        "    classes = classes[unique_labels(y_true, y_pred)]\n",
        "    if normalize:\n",
        "        cm = cm.astype('float') / cm.sum(axis=1)[:, np.newaxis]\n",
        "        print(\"Normalized confusion matrix\")\n",
        "    else:\n",
        "        print('Confusion matrix, without normalization')\n",
        "    \n",
        "    print(cm)\n",
        "\n",
        "    fig, ax = plt.subplots()\n",
        "    im = ax.imshow(cm, interpolation='nearest', cmap=cmap)\n",
        "    print(im)\n",
        "    ax.figure.colorbar(im, ax=ax)\n",
        "    # We want to show all ticks...\n",
        "    ax.set(xticks=np.arange(cm.shape[1]),\n",
        "           yticks=np.arange(cm.shape[0]),\n",
        "           # ... and label them with the respective list entries\n",
        "           xticklabels=classes, yticklabels=classes,\n",
        "           title=title,\n",
        "           ylabel='True label',\n",
        "           xlabel='Predicted label')\n",
        "\n",
        "    # Rotate the tick labels and set their alignment.\n",
        "    plt.setp(ax.get_xticklabels(), rotation=45, ha=\"right\",\n",
        "             rotation_mode=\"anchor\")\n",
        "\n",
        "    # Loop over data dimensions and create text annotations.\n",
        "    fmt = '.2f' if normalize else 'd'\n",
        "    thresh = cm.max() / 2.\n",
        "    for i in range(cm.shape[0]):\n",
        "        for j in range(cm.shape[1]):\n",
        "            ax.text(j, i, format(cm[i, j], fmt),\n",
        "                    ha=\"center\", va=\"center\",\n",
        "                    color=\"white\" if cm[i, j] > thresh else \"black\")\n",
        "    fig.tight_layout()\n",
        "    return ax\n",
        "\n",
        "class_names = np.array([0, 1])\n",
        "np.set_printoptions(precision=2)"
      ],
      "execution_count": 0,
      "outputs": []
    },
    {
      "cell_type": "code",
      "metadata": {
        "id": "O0LipgtoEYLb",
        "colab_type": "code",
        "outputId": "c528d2a7-c495-48d5-99c0-14efd46ab7bd",
        "colab": {
          "base_uri": "https://localhost:8080/",
          "height": 713
        }
      },
      "source": [
        "# Plot non-normalized confusion matrix\n",
        "plot_confusion_matrix(y_test[:-1], y_pred_blstm, classes=class_names)\n",
        "plt.savefig('cm-blstm.png')\n",
        "# Plot normalized confusion matrix\n",
        "plot_confusion_matrix(y_test[:-1], y_pred_blstm, classes=class_names, normalize=True)\n",
        "# Decomment following line if you want to save the figure\n",
        "plt.savefig('cm-blstm-normalized.png')\n",
        "plt.show()"
      ],
      "execution_count": 50,
      "outputs": [
        {
          "output_type": "stream",
          "text": [
            "Confusion matrix, without normalization\n",
            "[[159  37]\n",
            " [ 54 860]]\n",
            "AxesImage(54,36;334.8x217.44)\n",
            "Normalized confusion matrix\n",
            "[[0.81 0.19]\n",
            " [0.06 0.94]]\n",
            "AxesImage(54,36;334.8x217.44)\n"
          ],
          "name": "stdout"
        },
        {
          "output_type": "display_data",
          "data": {
            "image/png": "[encoded data removed]",
            "text/plain": [
              "<Figure size 432x288 with 2 Axes>"
            ]
          },
          "metadata": {
            "tags": []
          }
        },
        {
          "output_type": "display_data",
          "data": {
            "image/png": "[encoded data removed]",
            "text/plain": [
              "<Figure size 432x288 with 2 Axes>"
            ]
          },
          "metadata": {
            "tags": []
          }
        }
      ]
    },
    {
      "cell_type": "code",
      "metadata": {
        "id": "WuPbjqe-z2Uk",
        "colab_type": "code",
        "colab": {}
      },
      "source": [
        "# Decomment following line if you want to download confusion matrix figure\n",
        "# files.download('cm-blstm.png')\n",
        "# files.download('cm-blstm-normalized.png')"
      ],
      "execution_count": 0,
      "outputs": []
    },
    {
      "cell_type": "code",
      "metadata": {
        "id": "k9qtpFehmYah",
        "colab_type": "code",
        "outputId": "354dbdd8-04a7-4d98-8a08-cc2368edce4e",
        "colab": {
          "base_uri": "https://localhost:8080/",
          "height": 713
        }
      },
      "source": [
        "# Plot non-normalized confusion matrix\n",
        "plot_confusion_matrix(y_test[:-1], y_pred_cnn, classes=class_names)\n",
        "plt.savefig('cm-cnn.png')\n",
        "# Plot normalized confusion matrix\n",
        "plot_confusion_matrix(y_test[:-1], y_pred_cnn, classes=class_names, normalize=True)\n",
        "plt.savefig('cm-cnn-normalized.png')\n",
        "plt.show()"
      ],
      "execution_count": 53,
      "outputs": [
        {
          "output_type": "stream",
          "text": [
            "Confusion matrix, without normalization\n",
            "[[146  50]\n",
            " [ 49 865]]\n",
            "AxesImage(54,36;334.8x217.44)\n",
            "Normalized confusion matrix\n",
            "[[0.74 0.26]\n",
            " [0.05 0.95]]\n",
            "AxesImage(54,36;334.8x217.44)\n"
          ],
          "name": "stdout"
        },
        {
          "output_type": "display_data",
          "data": {
            "image/png": "[encoded data removed]",
            "text/plain": [
              "<Figure size 432x288 with 2 Axes>"
            ]
          },
          "metadata": {
            "tags": []
          }
        },
        {
          "output_type": "display_data",
          "data": {
            "image/png": "[encoded data removed]",
            "text/plain": [
              "<Figure size 432x288 with 2 Axes>"
            ]
          },
          "metadata": {
            "tags": []
          }
        }
      ]
    },
    {
      "cell_type": "code",
      "metadata": {
        "id": "pKk9FarH5c0w",
        "colab_type": "code",
        "colab": {}
      },
      "source": [
        "# Decomment following line if you want to download confusion matrix figure\n",
        "# files.download('cm-cnn.png')\n",
        "# files.download('cm-cnn-normalized.png')"
      ],
      "execution_count": 0,
      "outputs": []
    },
    {
      "cell_type": "markdown",
      "metadata": {
        "id": "sm3iEv4qrRpb",
        "colab_type": "text"
      },
      "source": [
        "# Model Visualization"
      ]
    },
    {
      "cell_type": "code",
      "metadata": {
        "id": "ONz-Y-uRHAAS",
        "colab_type": "code",
        "outputId": "4bece8c2-10dd-4802-ba44-f64ce8669f3d",
        "colab": {
          "base_uri": "https://localhost:8080/",
          "height": 758
        }
      },
      "source": [
        "plot_model(model_blstm, to_file='binary-blstm.png')"
      ],
      "execution_count": 55,
      "outputs": [
        {
          "output_type": "execute_result",
          "data": {
            "image/png": "[encoded data removed]",
            "text/plain": [
              "<IPython.core.display.Image object>"
            ]
          },
          "metadata": {
            "tags": []
          },
          "execution_count": 55
        }
      ]
    },
    {
      "cell_type": "code",
      "metadata": {
        "id": "lmjcuNfT05vZ",
        "colab_type": "code",
        "colab": {}
      },
      "source": [
        "# Decomment following line if you want to download model figure\n",
        "# files.download('binary-blstm.png')"
      ],
      "execution_count": 0,
      "outputs": []
    },
    {
      "cell_type": "code",
      "metadata": {
        "id": "qxhbbDPfrvD8",
        "colab_type": "code",
        "outputId": "44b28035-51f4-484e-fc0a-6cb89c8bb14b",
        "colab": {
          "base_uri": "https://localhost:8080/",
          "height": 1000
        }
      },
      "source": [
        "plot_model(model_cnn, to_file='binary-cnn.png')"
      ],
      "execution_count": 57,
      "outputs": [
        {
          "output_type": "execute_result",
          "data": {
            "image/png": "[encoded data removed]",
            "text/plain": [
              "<IPython.core.display.Image object>"
            ]
          },
          "metadata": {
            "tags": []
          },
          "execution_count": 57
        }
      ]
    },
    {
      "cell_type": "code",
      "metadata": {
        "id": "-ItW2BcC0WKB",
        "colab_type": "code",
        "colab": {}
      },
      "source": [
        "# Decomment following line if you want to download model figure\n",
        "# files.download('binary-cnn.png')"
      ],
      "execution_count": 0,
      "outputs": []
    },
    {
      "cell_type": "code",
      "metadata": {
        "id": "EnH-wBSQ1BTl",
        "colab_type": "code",
        "colab": {}
      },
      "source": [
        ""
      ],
      "execution_count": 0,
      "outputs": []
    }
  ]
}