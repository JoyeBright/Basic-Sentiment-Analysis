{
  "nbformat": 4,
  "nbformat_minor": 0,
  "metadata": {
    "colab": {
      "name": "CNN_FastTextEmb.ipynb",
      "version": "0.3.2",
      "provenance": [],
      "collapsed_sections": [],
      "include_colab_link": true
    },
    "kernelspec": {
      "name": "python3",
      "display_name": "Python 3"
    },
    "accelerator": "GPU"
  },
  "cells": [
    {
      "cell_type": "markdown",
      "metadata": {
        "id": "view-in-github",
        "colab_type": "text"
      },
      "source": [
        "<a href=\"https://colab.research.google.com/github/parsa-abbasi/Sentiment-Analysis/blob/master/SentiPers/BinaryClassifier/NN/GoogleColab/DataAugmentation/FullTranslate/CNN_FastTextEmb_NN.ipynb\" target=\"_parent\"><img src=\"https://colab.research.google.com/assets/colab-badge.svg\" alt=\"Open In Colab\"/></a>"
      ]
    },
    {
      "metadata": {
        "id": "QthdEc8Cp5Nt",
        "colab_type": "text"
      },
      "cell_type": "markdown",
      "source": [
        "# Get FastText Persian"
      ]
    },
    {
      "metadata": {
        "id": "4wCOcr1ao1VX",
        "colab_type": "code",
        "outputId": "5475d944-0a1a-43a4-bd5a-df7d52575e46",
        "colab": {
          "base_uri": "https://localhost:8080/"
        }
      },
      "cell_type": "code",
      "source": [
        "!wget https://dl.fbaipublicfiles.com/fasttext/vectors-wiki/wiki.fa.vec"
      ],
      "execution_count": 1,
      "outputs": [
        {
          "output_type": "stream",
          "text": [
            "--2019-04-17 09:15:32--  https://dl.fbaipublicfiles.com/fasttext/vectors-wiki/wiki.fa.vec\n",
            "Resolving dl.fbaipublicfiles.com (dl.fbaipublicfiles.com)... 104.20.22.166, 104.20.6.166, 2606:4700:10::6814:16a6, ...\n",
            "Connecting to dl.fbaipublicfiles.com (dl.fbaipublicfiles.com)|104.20.22.166|:443... connected.\n",
            "HTTP request sent, awaiting response... 200 OK\n",
            "Length: 1105157170 (1.0G) [binary/octet-stream]\n",
            "Saving to: ‘wiki.fa.vec’\n",
            "\n",
            "wiki.fa.vec         100%[===================>]   1.03G  33.7MB/s    in 30s     \n",
            "\n",
            "2019-04-17 09:16:02 (35.3 MB/s) - ‘wiki.fa.vec’ saved [1105157170/1105157170]\n",
            "\n"
          ],
          "name": "stdout"
        },
        {
          "output_type": "error",
          "ename": "MessageError",
          "evalue": "ignored",
          "traceback": [
            "\u001b[0;31m---------------------------------------------------------------------------\u001b[0m",
            "\u001b[0;31mMessageError\u001b[0m                              Traceback (most recent call last)",
            "\u001b[0;32m<ipython-input-1-e52ec7ec5e71>\u001b[0m in \u001b[0;36m<module>\u001b[0;34m()\u001b[0m\n\u001b[0;32m----> 1\u001b[0;31m \u001b[0mget_ipython\u001b[0m\u001b[0;34m(\u001b[0m\u001b[0;34m)\u001b[0m\u001b[0;34m.\u001b[0m\u001b[0msystem\u001b[0m\u001b[0;34m(\u001b[0m\u001b[0;34m'wget https://dl.fbaipublicfiles.com/fasttext/vectors-wiki/wiki.fa.vec'\u001b[0m\u001b[0;34m)\u001b[0m\u001b[0;34m\u001b[0m\u001b[0;34m\u001b[0m\u001b[0m\n\u001b[0m",
            "\u001b[0;32m/usr/local/lib/python3.6/dist-packages/google/colab/_shell.py\u001b[0m in \u001b[0;36msystem\u001b[0;34m(self, *args, **kwargs)\u001b[0m\n\u001b[1;32m     71\u001b[0m       \u001b[0mkwargs\u001b[0m\u001b[0;34m.\u001b[0m\u001b[0mupdate\u001b[0m\u001b[0;34m(\u001b[0m\u001b[0;34m{\u001b[0m\u001b[0;34m'also_return_output'\u001b[0m\u001b[0;34m:\u001b[0m \u001b[0;32mTrue\u001b[0m\u001b[0;34m}\u001b[0m\u001b[0;34m)\u001b[0m\u001b[0;34m\u001b[0m\u001b[0;34m\u001b[0m\u001b[0m\n\u001b[1;32m     72\u001b[0m \u001b[0;34m\u001b[0m\u001b[0m\n\u001b[0;32m---> 73\u001b[0;31m     \u001b[0moutput\u001b[0m \u001b[0;34m=\u001b[0m \u001b[0m_system_commands\u001b[0m\u001b[0;34m.\u001b[0m\u001b[0m_system_compat\u001b[0m\u001b[0;34m(\u001b[0m\u001b[0mself\u001b[0m\u001b[0;34m,\u001b[0m \u001b[0;34m*\u001b[0m\u001b[0margs\u001b[0m\u001b[0;34m,\u001b[0m \u001b[0;34m**\u001b[0m\u001b[0mkwargs\u001b[0m\u001b[0;34m)\u001b[0m  \u001b[0;31m# pylint:disable=protected-access\u001b[0m\u001b[0;34m\u001b[0m\u001b[0;34m\u001b[0m\u001b[0m\n\u001b[0m\u001b[1;32m     74\u001b[0m \u001b[0;34m\u001b[0m\u001b[0m\n\u001b[1;32m     75\u001b[0m     \u001b[0;32mif\u001b[0m \u001b[0mpip_warn\u001b[0m\u001b[0;34m:\u001b[0m\u001b[0;34m\u001b[0m\u001b[0;34m\u001b[0m\u001b[0m\n",
            "\u001b[0;32m/usr/local/lib/python3.6/dist-packages/google/colab/_system_commands.py\u001b[0m in \u001b[0;36m_system_compat\u001b[0;34m(shell, cmd, also_return_output)\u001b[0m\n\u001b[1;32m    436\u001b[0m   \u001b[0;31m# stack.\u001b[0m\u001b[0;34m\u001b[0m\u001b[0;34m\u001b[0m\u001b[0;34m\u001b[0m\u001b[0m\n\u001b[1;32m    437\u001b[0m   result = _run_command(\n\u001b[0;32m--> 438\u001b[0;31m       shell.var_expand(cmd, depth=2), clear_streamed_output=False)\n\u001b[0m\u001b[1;32m    439\u001b[0m   \u001b[0mshell\u001b[0m\u001b[0;34m.\u001b[0m\u001b[0muser_ns\u001b[0m\u001b[0;34m[\u001b[0m\u001b[0;34m'_exit_code'\u001b[0m\u001b[0;34m]\u001b[0m \u001b[0;34m=\u001b[0m \u001b[0mresult\u001b[0m\u001b[0;34m.\u001b[0m\u001b[0mreturncode\u001b[0m\u001b[0;34m\u001b[0m\u001b[0;34m\u001b[0m\u001b[0m\n\u001b[1;32m    440\u001b[0m   \u001b[0;32mif\u001b[0m \u001b[0;34m-\u001b[0m\u001b[0mresult\u001b[0m\u001b[0;34m.\u001b[0m\u001b[0mreturncode\u001b[0m \u001b[0;32min\u001b[0m \u001b[0m_INTERRUPTED_SIGNALS\u001b[0m\u001b[0;34m:\u001b[0m\u001b[0;34m\u001b[0m\u001b[0;34m\u001b[0m\u001b[0m\n",
            "\u001b[0;32m/usr/local/lib/python3.6/dist-packages/google/colab/_system_commands.py\u001b[0m in \u001b[0;36m_run_command\u001b[0;34m(cmd, clear_streamed_output)\u001b[0m\n\u001b[1;32m    193\u001b[0m       \u001b[0mos\u001b[0m\u001b[0;34m.\u001b[0m\u001b[0mclose\u001b[0m\u001b[0;34m(\u001b[0m\u001b[0mchild_pty\u001b[0m\u001b[0;34m)\u001b[0m\u001b[0;34m\u001b[0m\u001b[0;34m\u001b[0m\u001b[0m\n\u001b[1;32m    194\u001b[0m \u001b[0;34m\u001b[0m\u001b[0m\n\u001b[0;32m--> 195\u001b[0;31m       \u001b[0;32mreturn\u001b[0m \u001b[0m_monitor_process\u001b[0m\u001b[0;34m(\u001b[0m\u001b[0mparent_pty\u001b[0m\u001b[0;34m,\u001b[0m \u001b[0mepoll\u001b[0m\u001b[0;34m,\u001b[0m \u001b[0mp\u001b[0m\u001b[0;34m,\u001b[0m \u001b[0mcmd\u001b[0m\u001b[0;34m,\u001b[0m \u001b[0mupdate_stdin_widget\u001b[0m\u001b[0;34m)\u001b[0m\u001b[0;34m\u001b[0m\u001b[0;34m\u001b[0m\u001b[0m\n\u001b[0m\u001b[1;32m    196\u001b[0m   \u001b[0;32mfinally\u001b[0m\u001b[0;34m:\u001b[0m\u001b[0;34m\u001b[0m\u001b[0;34m\u001b[0m\u001b[0m\n\u001b[1;32m    197\u001b[0m     \u001b[0mepoll\u001b[0m\u001b[0;34m.\u001b[0m\u001b[0mclose\u001b[0m\u001b[0;34m(\u001b[0m\u001b[0;34m)\u001b[0m\u001b[0;34m\u001b[0m\u001b[0;34m\u001b[0m\u001b[0m\n",
            "\u001b[0;32m/usr/lib/python3.6/contextlib.py\u001b[0m in \u001b[0;36m__exit__\u001b[0;34m(self, type, value, traceback)\u001b[0m\n\u001b[1;32m     86\u001b[0m         \u001b[0;32mif\u001b[0m \u001b[0mtype\u001b[0m \u001b[0;32mis\u001b[0m \u001b[0;32mNone\u001b[0m\u001b[0;34m:\u001b[0m\u001b[0;34m\u001b[0m\u001b[0;34m\u001b[0m\u001b[0m\n\u001b[1;32m     87\u001b[0m             \u001b[0;32mtry\u001b[0m\u001b[0;34m:\u001b[0m\u001b[0;34m\u001b[0m\u001b[0;34m\u001b[0m\u001b[0m\n\u001b[0;32m---> 88\u001b[0;31m                 \u001b[0mnext\u001b[0m\u001b[0;34m(\u001b[0m\u001b[0mself\u001b[0m\u001b[0;34m.\u001b[0m\u001b[0mgen\u001b[0m\u001b[0;34m)\u001b[0m\u001b[0;34m\u001b[0m\u001b[0;34m\u001b[0m\u001b[0m\n\u001b[0m\u001b[1;32m     89\u001b[0m             \u001b[0;32mexcept\u001b[0m \u001b[0mStopIteration\u001b[0m\u001b[0;34m:\u001b[0m\u001b[0;34m\u001b[0m\u001b[0;34m\u001b[0m\u001b[0m\n\u001b[1;32m     90\u001b[0m                 \u001b[0;32mreturn\u001b[0m \u001b[0;32mFalse\u001b[0m\u001b[0;34m\u001b[0m\u001b[0;34m\u001b[0m\u001b[0m\n",
            "\u001b[0;32m/usr/local/lib/python3.6/dist-packages/google/colab/_system_commands.py\u001b[0m in \u001b[0;36m_display_stdin_widget\u001b[0;34m(delay_millis)\u001b[0m\n\u001b[1;32m    353\u001b[0m \u001b[0;34m\u001b[0m\u001b[0m\n\u001b[1;32m    354\u001b[0m   \u001b[0mhide_args\u001b[0m \u001b[0;34m=\u001b[0m \u001b[0;34m[\u001b[0m\u001b[0;34m'cell_remove_stdin'\u001b[0m\u001b[0;34m,\u001b[0m \u001b[0;34m{\u001b[0m\u001b[0;34m}\u001b[0m\u001b[0;34m]\u001b[0m\u001b[0;34m\u001b[0m\u001b[0;34m\u001b[0m\u001b[0m\n\u001b[0;32m--> 355\u001b[0;31m   \u001b[0m_message\u001b[0m\u001b[0;34m.\u001b[0m\u001b[0mblocking_request\u001b[0m\u001b[0;34m(\u001b[0m\u001b[0;34m*\u001b[0m\u001b[0mhide_args\u001b[0m\u001b[0;34m,\u001b[0m \u001b[0mparent\u001b[0m\u001b[0;34m=\u001b[0m\u001b[0mshell\u001b[0m\u001b[0;34m.\u001b[0m\u001b[0mparent_header\u001b[0m\u001b[0;34m)\u001b[0m\u001b[0;34m\u001b[0m\u001b[0;34m\u001b[0m\u001b[0m\n\u001b[0m\u001b[1;32m    356\u001b[0m \u001b[0;34m\u001b[0m\u001b[0m\n\u001b[1;32m    357\u001b[0m \u001b[0;34m\u001b[0m\u001b[0m\n",
            "\u001b[0;32m/usr/local/lib/python3.6/dist-packages/google/colab/_message.py\u001b[0m in \u001b[0;36mblocking_request\u001b[0;34m(request_type, request, timeout_sec, parent)\u001b[0m\n\u001b[1;32m    169\u001b[0m   \u001b[0;31m# unique.\u001b[0m\u001b[0;34m\u001b[0m\u001b[0;34m\u001b[0m\u001b[0;34m\u001b[0m\u001b[0m\n\u001b[1;32m    170\u001b[0m   \u001b[0mrequest_id\u001b[0m \u001b[0;34m=\u001b[0m \u001b[0msend_request\u001b[0m\u001b[0;34m(\u001b[0m\u001b[0mrequest_type\u001b[0m\u001b[0;34m,\u001b[0m \u001b[0mrequest\u001b[0m\u001b[0;34m,\u001b[0m \u001b[0mparent\u001b[0m\u001b[0;34m=\u001b[0m\u001b[0mparent\u001b[0m\u001b[0;34m)\u001b[0m\u001b[0;34m\u001b[0m\u001b[0;34m\u001b[0m\u001b[0m\n\u001b[0;32m--> 171\u001b[0;31m   \u001b[0;32mreturn\u001b[0m \u001b[0mread_reply_from_input\u001b[0m\u001b[0;34m(\u001b[0m\u001b[0mrequest_id\u001b[0m\u001b[0;34m,\u001b[0m \u001b[0mtimeout_sec\u001b[0m\u001b[0;34m)\u001b[0m\u001b[0;34m\u001b[0m\u001b[0;34m\u001b[0m\u001b[0m\n\u001b[0m",
            "\u001b[0;32m/usr/local/lib/python3.6/dist-packages/google/colab/_message.py\u001b[0m in \u001b[0;36mread_reply_from_input\u001b[0;34m(message_id, timeout_sec)\u001b[0m\n\u001b[1;32m    104\u001b[0m         reply.get('colab_msg_id') == message_id):\n\u001b[1;32m    105\u001b[0m       \u001b[0;32mif\u001b[0m \u001b[0;34m'error'\u001b[0m \u001b[0;32min\u001b[0m \u001b[0mreply\u001b[0m\u001b[0;34m:\u001b[0m\u001b[0;34m\u001b[0m\u001b[0;34m\u001b[0m\u001b[0m\n\u001b[0;32m--> 106\u001b[0;31m         \u001b[0;32mraise\u001b[0m \u001b[0mMessageError\u001b[0m\u001b[0;34m(\u001b[0m\u001b[0mreply\u001b[0m\u001b[0;34m[\u001b[0m\u001b[0;34m'error'\u001b[0m\u001b[0;34m]\u001b[0m\u001b[0;34m)\u001b[0m\u001b[0;34m\u001b[0m\u001b[0;34m\u001b[0m\u001b[0m\n\u001b[0m\u001b[1;32m    107\u001b[0m       \u001b[0;32mreturn\u001b[0m \u001b[0mreply\u001b[0m\u001b[0;34m.\u001b[0m\u001b[0mget\u001b[0m\u001b[0;34m(\u001b[0m\u001b[0;34m'data'\u001b[0m\u001b[0;34m,\u001b[0m \u001b[0;32mNone\u001b[0m\u001b[0;34m)\u001b[0m\u001b[0;34m\u001b[0m\u001b[0;34m\u001b[0m\u001b[0m\n\u001b[1;32m    108\u001b[0m \u001b[0;34m\u001b[0m\u001b[0m\n",
            "\u001b[0;31mMessageError\u001b[0m: CustomError: timed out waiting for iframe configuration URL https://localhost:8080/"
          ]
        }
      ]
    },
    {
      "metadata": {
        "id": "0yHgWvqWBAqS",
        "colab_type": "code",
        "outputId": "bc54a1c5-2469-42ae-bdd3-98409f1008c3",
        "colab": {
          "base_uri": "https://localhost:8080/",
          "height": 461
        }
      },
      "cell_type": "code",
      "source": [
        "!pip install hazm\n",
        "!pip install stopwords_guilannlp"
      ],
      "execution_count": 2,
      "outputs": [
        {
          "output_type": "stream",
          "text": [
            "Collecting hazm\n",
            "\u001b[?25l  Downloading https://files.pythonhosted.org/packages/22/13/5a7074bc11d20dbbb46239349ac3f85f7edc148b4cf68e9b8c2f8263830c/hazm-0.7.0-py3-none-any.whl (316kB)\n",
            "\r\u001b[K    3% |█                               | 10kB 16.9MB/s eta 0:00:01\r\u001b[K    6% |██                              | 20kB 2.1MB/s eta 0:00:01\r\u001b[K    9% |███                             | 30kB 3.1MB/s eta 0:00:01\r\u001b[K    12% |████▏                           | 40kB 2.1MB/s eta 0:00:01\r\u001b[K    16% |█████▏                          | 51kB 2.6MB/s eta 0:00:01\r\u001b[K    19% |██████▏                         | 61kB 3.0MB/s eta 0:00:01\r\u001b[K    22% |███████▎                        | 71kB 3.5MB/s eta 0:00:01\r\u001b[K    25% |████████▎                       | 81kB 4.0MB/s eta 0:00:01\r\u001b[K    29% |█████████▎                      | 92kB 4.4MB/s eta 0:00:01\r\u001b[K    32% |██████████▍                     | 102kB 3.4MB/s eta 0:00:01\r\u001b[K    35% |███████████▍                    | 112kB 3.4MB/s eta 0:00:01\r\u001b[K    38% |████████████▍                   | 122kB 4.9MB/s eta 0:00:01\r\u001b[K    42% |█████████████▌                  | 133kB 4.9MB/s eta 0:00:01\r\u001b[K    45% |██████████████▌                 | 143kB 9.1MB/s eta 0:00:01\r\u001b[K    48% |███████████████▌                | 153kB 9.1MB/s eta 0:00:01\r\u001b[K    51% |████████████████▋               | 163kB 9.1MB/s eta 0:00:01\r\u001b[K    54% |█████████████████▋              | 174kB 9.2MB/s eta 0:00:01\r\u001b[K    58% |██████████████████▋             | 184kB 9.2MB/s eta 0:00:01\r\u001b[K    61% |███████████████████▋            | 194kB 9.3MB/s eta 0:00:01\r\u001b[K    64% |████████████████████▊           | 204kB 56.3MB/s eta 0:00:01\r\u001b[K    67% |█████████████████████▊          | 215kB 10.1MB/s eta 0:00:01\r\u001b[K    71% |██████████████████████▊         | 225kB 10.1MB/s eta 0:00:01\r\u001b[K    74% |███████████████████████▉        | 235kB 10.2MB/s eta 0:00:01\r\u001b[K    77% |████████████████████████▉       | 245kB 10.2MB/s eta 0:00:01\r\u001b[K    80% |█████████████████████████▉      | 256kB 10.2MB/s eta 0:00:01\r\u001b[K    84% |███████████████████████████     | 266kB 9.9MB/s eta 0:00:01\r\u001b[K    87% |████████████████████████████    | 276kB 9.9MB/s eta 0:00:01\r\u001b[K    90% |█████████████████████████████   | 286kB 9.9MB/s eta 0:00:01\r\u001b[K    93% |██████████████████████████████  | 296kB 9.9MB/s eta 0:00:01\r\u001b[K    97% |███████████████████████████████ | 307kB 10.1MB/s eta 0:00:01\r\u001b[K    100% |████████████████████████████████| 317kB 32.2MB/s \n",
            "\u001b[?25hCollecting libwapiti>=0.2.1; platform_system != \"Windows\" (from hazm)\n",
            "\u001b[?25l  Downloading https://files.pythonhosted.org/packages/bc/0f/1c9b49bb49821b5856a64ea6fac8d96a619b9f291d1f06999ea98a32c89c/libwapiti-0.2.1.tar.gz (233kB)\n",
            "\r\u001b[K    4% |█▍                              | 10kB 25.2MB/s eta 0:00:01\r\u001b[K    8% |██▉                             | 20kB 33.6MB/s eta 0:00:01\r\u001b[K    13% |████▏                           | 30kB 40.5MB/s eta 0:00:01\r\u001b[K    17% |█████▋                          | 40kB 46.4MB/s eta 0:00:01\r\u001b[K    21% |███████                         | 51kB 50.3MB/s eta 0:00:01\r\u001b[K    26% |████████▍                       | 61kB 54.9MB/s eta 0:00:01\r\u001b[K    30% |█████████▉                      | 71kB 57.9MB/s eta 0:00:01\r\u001b[K    35% |███████████▏                    | 81kB 60.1MB/s eta 0:00:01\r\u001b[K    39% |████████████▋                   | 92kB 63.0MB/s eta 0:00:01\r\u001b[K    43% |██████████████                  | 102kB 65.2MB/s eta 0:00:01\r\u001b[K    48% |███████████████▍                | 112kB 79.1MB/s eta 0:00:01\r\u001b[K    52% |████████████████▉               | 122kB 85.4MB/s eta 0:00:01\r\u001b[K    56% |██████████████████▎             | 133kB 86.8MB/s eta 0:00:01\r\u001b[K    61% |███████████████████▋            | 143kB 89.1MB/s eta 0:00:01\r\u001b[K    65% |█████████████████████           | 153kB 92.1MB/s eta 0:00:01\r\u001b[K    70% |██████████████████████▍         | 163kB 91.9MB/s eta 0:00:01\r\u001b[K    74% |███████████████████████▉        | 174kB 92.5MB/s eta 0:00:01\r\u001b[K    78% |█████████████████████████▎      | 184kB 94.0MB/s eta 0:00:01\r\u001b[K    83% |██████████████████████████▋     | 194kB 94.7MB/s eta 0:00:01\r\u001b[K    87% |████████████████████████████    | 204kB 86.3MB/s eta 0:00:01\r\u001b[K    92% |█████████████████████████████▌  | 215kB 85.8MB/s eta 0:00:01\r\u001b[K    96% |██████████████████████████████▉ | 225kB 86.6MB/s eta 0:00:01\r\u001b[K    100% |████████████████████████████████| 235kB 42.4MB/s \n",
            "\u001b[?25hCollecting nltk==3.3 (from hazm)\n",
            "\u001b[?25l  Downloading https://files.pythonhosted.org/packages/50/09/3b1755d528ad9156ee7243d52aa5cd2b809ef053a0f31b53d92853dd653a/nltk-3.3.0.zip (1.4MB)\n",
            "\r\u001b[K    0% |▎                               | 10kB 20.5MB/s eta 0:00:01\r\u001b[K    1% |▌                               | 20kB 29.3MB/s eta 0:00:01\r\u001b[K    2% |▊                               | 30kB 37.7MB/s eta 0:00:01\r\u001b[K    2% |█                               | 40kB 42.0MB/s eta 0:00:01\r\u001b[K    3% |█▏                              | 51kB 45.4MB/s eta 0:00:01\r\u001b[K    4% |█▍                              | 61kB 49.1MB/s eta 0:00:01\r\u001b[K    5% |█▋                              | 71kB 51.3MB/s eta 0:00:01\r\u001b[K    5% |█▉                              | 81kB 52.5MB/s eta 0:00:01\r\u001b[K    6% |██▏                             | 92kB 55.4MB/s eta 0:00:01\r\u001b[K    7% |██▍                             | 102kB 57.7MB/s eta 0:00:01\r\u001b[K    8% |██▋                             | 112kB 71.8MB/s eta 0:00:01\r\u001b[K    8% |██▉                             | 122kB 76.5MB/s eta 0:00:01\r\u001b[K    9% |███                             | 133kB 71.8MB/s eta 0:00:01\r\u001b[K    10% |███▎                            | 143kB 74.3MB/s eta 0:00:01\r\u001b[K    11% |███▌                            | 153kB 76.4MB/s eta 0:00:01\r\u001b[K    11% |███▊                            | 163kB 76.8MB/s eta 0:00:01\r\u001b[K    12% |████                            | 174kB 74.5MB/s eta 0:00:01\r\u001b[K    13% |████▎                           | 184kB 76.1MB/s eta 0:00:01\r\u001b[K    13% |████▌                           | 194kB 76.2MB/s eta 0:00:01\r\u001b[K    14% |████▊                           | 204kB 61.2MB/s eta 0:00:01\r\u001b[K    15% |█████                           | 215kB 61.2MB/s eta 0:00:01\r\u001b[K    16% |█████▏                          | 225kB 61.7MB/s eta 0:00:01\r\u001b[K    16% |█████▍                          | 235kB 65.3MB/s eta 0:00:01\r\u001b[K    17% |█████▋                          | 245kB 65.3MB/s eta 0:00:01\r\u001b[K    18% |██████                          | 256kB 66.0MB/s eta 0:00:01\r\u001b[K    19% |██████▏                         | 266kB 61.9MB/s eta 0:00:01\r\u001b[K    19% |██████▍                         | 276kB 64.5MB/s eta 0:00:01\r\u001b[K    20% |██████▋                         | 286kB 15.9MB/s eta 0:00:01\r\u001b[K    21% |██████▉                         | 296kB 15.5MB/s eta 0:00:01\r\u001b[K    22% |███████                         | 307kB 16.2MB/s eta 0:00:01\r\u001b[K    22% |███████▎                        | 317kB 15.6MB/s eta 0:00:01\r\u001b[K    23% |███████▌                        | 327kB 15.3MB/s eta 0:00:01\r\u001b[K    24% |███████▊                        | 337kB 15.3MB/s eta 0:00:01\r\u001b[K    25% |████████                        | 348kB 15.1MB/s eta 0:00:01\r\u001b[K    25% |████████▎                       | 358kB 15.1MB/s eta 0:00:01\r\u001b[K    26% |████████▌                       | 368kB 15.3MB/s eta 0:00:01\r\u001b[K    27% |████████▊                       | 378kB 15.2MB/s eta 0:00:01\r\u001b[K    27% |█████████                       | 389kB 56.2MB/s eta 0:00:01\r\u001b[K    28% |█████████▏                      | 399kB 59.5MB/s eta 0:00:01\r\u001b[K    29% |█████████▍                      | 409kB 61.1MB/s eta 0:00:01\r\u001b[K    30% |█████████▋                      | 419kB 73.5MB/s eta 0:00:01\r\u001b[K    30% |██████████                      | 430kB 79.5MB/s eta 0:00:01\r\u001b[K    31% |██████████▏                     | 440kB 80.2MB/s eta 0:00:01\r\u001b[K    32% |██████████▍                     | 450kB 81.1MB/s eta 0:00:01\r\u001b[K    33% |██████████▋                     | 460kB 79.7MB/s eta 0:00:01\r\u001b[K    33% |██████████▉                     | 471kB 80.2MB/s eta 0:00:01\r\u001b[K    34% |███████████                     | 481kB 82.5MB/s eta 0:00:01\r\u001b[K    35% |███████████▎                    | 491kB 82.1MB/s eta 0:00:01\r\u001b[K    36% |███████████▌                    | 501kB 84.7MB/s eta 0:00:01\r\u001b[K    36% |███████████▉                    | 512kB 71.2MB/s eta 0:00:01\r\u001b[K    37% |████████████                    | 522kB 70.5MB/s eta 0:00:01\r\u001b[K    38% |████████████▎                   | 532kB 70.1MB/s eta 0:00:01\r\u001b[K    39% |████████████▌                   | 542kB 68.7MB/s eta 0:00:01\r\u001b[K    39% |████████████▊                   | 552kB 73.6MB/s eta 0:00:01\r\u001b[K    40% |█████████████                   | 563kB 75.9MB/s eta 0:00:01\r\u001b[K    41% |█████████████▏                  | 573kB 75.7MB/s eta 0:00:01\r\u001b[K    41% |█████████████▍                  | 583kB 76.1MB/s eta 0:00:01\r\u001b[K    42% |█████████████▊                  | 593kB 76.5MB/s eta 0:00:01\r\u001b[K    43% |██████████████                  | 604kB 76.7MB/s eta 0:00:01\r\u001b[K    44% |██████████████▏                 | 614kB 93.7MB/s eta 0:00:01\r\u001b[K    44% |██████████████▍                 | 624kB 93.7MB/s eta 0:00:01\r\u001b[K    45% |██████████████▋                 | 634kB 94.0MB/s eta 0:00:01\r\u001b[K    46% |██████████████▉                 | 645kB 95.8MB/s eta 0:00:01\r\u001b[K    47% |███████████████                 | 655kB 94.7MB/s eta 0:00:01\r\u001b[K    47% |███████████████▎                | 665kB 74.1MB/s eta 0:00:01\r\u001b[K    48% |███████████████▌                | 675kB 72.9MB/s eta 0:00:01\r\u001b[K    49% |███████████████▉                | 686kB 72.4MB/s eta 0:00:01\r\u001b[K    50% |████████████████                | 696kB 71.7MB/s eta 0:00:01\r\u001b[K    50% |████████████████▎               | 706kB 70.5MB/s eta 0:00:01\r\u001b[K    51% |████████████████▌               | 716kB 70.6MB/s eta 0:00:01\r\u001b[K    52% |████████████████▊               | 727kB 70.9MB/s eta 0:00:01\r\u001b[K    53% |█████████████████               | 737kB 70.7MB/s eta 0:00:01\r\u001b[K    53% |█████████████████▏              | 747kB 71.5MB/s eta 0:00:01\r\u001b[K    54% |█████████████████▍              | 757kB 71.4MB/s eta 0:00:01\r\u001b[K    55% |█████████████████▊              | 768kB 91.0MB/s eta 0:00:01\r\u001b[K    55% |██████████████████              | 778kB 90.6MB/s eta 0:00:01\r\u001b[K    56% |██████████████████▏             | 788kB 86.0MB/s eta 0:00:01\r\u001b[K    57% |██████████████████▍             | 798kB 87.2MB/s eta 0:00:01\r\u001b[K    58% |██████████████████▋             | 808kB 85.7MB/s eta 0:00:01\r\u001b[K    58% |██████████████████▉             | 819kB 84.3MB/s eta 0:00:01\r\u001b[K    59% |███████████████████             | 829kB 85.8MB/s eta 0:00:01\r\u001b[K    60% |███████████████████▎            | 839kB 86.7MB/s eta 0:00:01\r\u001b[K    61% |███████████████████▋            | 849kB 86.2MB/s eta 0:00:01\r\u001b[K    61% |███████████████████▉            | 860kB 74.4MB/s eta 0:00:01\r\u001b[K    62% |████████████████████            | 870kB 72.0MB/s eta 0:00:01\r\u001b[K    63% |████████████████████▎           | 880kB 74.6MB/s eta 0:00:01\r\u001b[K    64% |████████████████████▌           | 890kB 30.4MB/s eta 0:00:01\r\u001b[K    64% |████████████████████▊           | 901kB 30.0MB/s eta 0:00:01\r\u001b[K    65% |█████████████████████           | 911kB 30.2MB/s eta 0:00:01\r\u001b[K    66% |█████████████████████▏          | 921kB 30.4MB/s eta 0:00:01\r\u001b[K    67% |█████████████████████▌          | 931kB 29.9MB/s eta 0:00:01\r\u001b[K    67% |█████████████████████▊          | 942kB 29.2MB/s eta 0:00:01\r\u001b[K    68% |██████████████████████          | 952kB 28.7MB/s eta 0:00:01\r\u001b[K    69% |██████████████████████▏         | 962kB 29.8MB/s eta 0:00:01\r\u001b[K    69% |██████████████████████▍         | 972kB 30.0MB/s eta 0:00:01\r\u001b[K    70% |██████████████████████▋         | 983kB 29.9MB/s eta 0:00:01\r\u001b[K    71% |██████████████████████▉         | 993kB 75.9MB/s eta 0:00:01\r\u001b[K    72% |███████████████████████         | 1.0MB 78.3MB/s eta 0:00:01\r\u001b[K    72% |███████████████████████▎        | 1.0MB 78.0MB/s eta 0:00:01\r\u001b[K    73% |███████████████████████▋        | 1.0MB 78.1MB/s eta 0:00:01\r\u001b[K    74% |███████████████████████▉        | 1.0MB 80.7MB/s eta 0:00:01\r\u001b[K    75% |████████████████████████        | 1.0MB 87.6MB/s eta 0:00:01\r\u001b[K    75% |████████████████████████▎       | 1.1MB 91.1MB/s eta 0:00:01\r\u001b[K    76% |████████████████████████▌       | 1.1MB 95.1MB/s eta 0:00:01\r\u001b[K    77% |████████████████████████▊       | 1.1MB 97.5MB/s eta 0:00:01\r\u001b[K    78% |█████████████████████████       | 1.1MB 98.3MB/s eta 0:00:01\r\u001b[K    78% |█████████████████████████▏      | 1.1MB 74.2MB/s eta 0:00:01\r\u001b[K    79% |█████████████████████████▌      | 1.1MB 72.9MB/s eta 0:00:01\r\u001b[K    80% |█████████████████████████▊      | 1.1MB 72.7MB/s eta 0:00:01\r\u001b[K    81% |██████████████████████████      | 1.1MB 73.1MB/s eta 0:00:01\r\u001b[K    81% |██████████████████████████▏     | 1.1MB 72.8MB/s eta 0:00:01\r\u001b[K    82% |██████████████████████████▍     | 1.1MB 71.8MB/s eta 0:00:01\r\u001b[K    83% |██████████████████████████▋     | 1.2MB 72.5MB/s eta 0:00:01\r\u001b[K    83% |██████████████████████████▉     | 1.2MB 72.1MB/s eta 0:00:01\r\u001b[K    84% |███████████████████████████     | 1.2MB 70.7MB/s eta 0:00:01\r\u001b[K    85% |███████████████████████████▍    | 1.2MB 70.3MB/s eta 0:00:01\r\u001b[K    86% |███████████████████████████▋    | 1.2MB 90.3MB/s eta 0:00:01\r\u001b[K    86% |███████████████████████████▉    | 1.2MB 93.0MB/s eta 0:00:01\r\u001b[K    87% |████████████████████████████    | 1.2MB 93.7MB/s eta 0:00:01\r\u001b[K    88% |████████████████████████████▎   | 1.2MB 129kB/s eta 0:00:02\r\u001b[K    89% |████████████████████████████▌   | 1.2MB 129kB/s eta 0:00:02\r\u001b[K    89% |████████████████████████████▊   | 1.2MB 129kB/s eta 0:00:02\r\u001b[K    90% |█████████████████████████████   | 1.3MB 129kB/s eta 0:00:02\r\u001b[K    91% |█████████████████████████████▎  | 1.3MB 129kB/s eta 0:00:01\r\u001b[K    92% |█████████████████████████████▌  | 1.3MB 129kB/s eta 0:00:01\r\u001b[K    92% |█████████████████████████████▊  | 1.3MB 129kB/s eta 0:00:01\r\u001b[K    93% |██████████████████████████████  | 1.3MB 129kB/s eta 0:00:01\r\u001b[K    94% |██████████████████████████████▏ | 1.3MB 129kB/s eta 0:00:01\r\u001b[K    95% |██████████████████████████████▍ | 1.3MB 129kB/s eta 0:00:01\r\u001b[K    95% |██████████████████████████████▋ | 1.3MB 65.3MB/s eta 0:00:01\r\u001b[K    96% |██████████████████████████████▉ | 1.3MB 72.7MB/s eta 0:00:01\r\u001b[K    97% |███████████████████████████████ | 1.4MB 75.7MB/s eta 0:00:01\r\u001b[K    97% |███████████████████████████████▍| 1.4MB 77.7MB/s eta 0:00:01\r\u001b[K    98% |███████████████████████████████▋| 1.4MB 80.2MB/s eta 0:00:01\r\u001b[K    99% |███████████████████████████████▉| 1.4MB 81.4MB/s eta 0:00:01\r\u001b[K    100% |████████████████████████████████| 1.4MB 18.0MB/s \n",
            "\u001b[?25hRequirement already satisfied: six in /usr/local/lib/python3.6/dist-packages (from libwapiti>=0.2.1; platform_system != \"Windows\"->hazm) (1.11.0)\n",
            "Building wheels for collected packages: libwapiti, nltk\n",
            "  Building wheel for libwapiti (setup.py) ... \u001b[?25ldone\n",
            "\u001b[?25h  Stored in directory: /root/.cache/pip/wheels/66/15/54/4510dce8bb958b1cdd2c47425cbd1e1eecc0480ac9bb1fb9ab\n",
            "  Building wheel for nltk (setup.py) ... \u001b[?25ldone\n",
            "\u001b[?25h  Stored in directory: /root/.cache/pip/wheels/d1/ab/40/3bceea46922767e42986aef7606a600538ca80de6062dc266c\n",
            "Successfully built libwapiti nltk\n",
            "Installing collected packages: libwapiti, nltk, hazm\n",
            "  Found existing installation: nltk 3.2.5\n",
            "    Uninstalling nltk-3.2.5:\n",
            "      Successfully uninstalled nltk-3.2.5\n",
            "Successfully installed hazm-0.7.0 libwapiti-0.2.1 nltk-3.3\n",
            "Collecting stopwords_guilannlp\n",
            "  Downloading https://files.pythonhosted.org/packages/44/bc/a01c003b59a91187e89d11e73e8bb2834bb9ae6b36fe576a4b617c90bd23/stopwords_guilannlp-13.2019.3.5-py3-none-any.whl\n",
            "Installing collected packages: stopwords-guilannlp\n",
            "Successfully installed stopwords-guilannlp-13.2019.3.5\n"
          ],
          "name": "stdout"
        }
      ]
    },
    {
      "metadata": {
        "id": "qHENRyUpp-fb",
        "colab_type": "text"
      },
      "cell_type": "markdown",
      "source": [
        "# Import Libraries"
      ]
    },
    {
      "metadata": {
        "id": "DyJ0hqR8nku1",
        "colab_type": "code",
        "outputId": "28c5cb3f-698c-489f-ebc2-89c740193d9b",
        "colab": {
          "base_uri": "https://localhost:8080/",
          "height": 52
        }
      },
      "cell_type": "code",
      "source": [
        "from keras.layers import Dense, Input, LSTM, Embedding, Dropout\n",
        "from keras.layers import Bidirectional, GlobalMaxPool1D, MaxPooling1D, Convolution1D, GlobalMaxPooling1D\n",
        "from keras.layers.merge import concatenate\n",
        "from keras.models import Sequential\n",
        "from keras.layers import Flatten\n",
        "from keras.layers.convolutional import Conv1D\n",
        "from keras.models import Model\n",
        "from keras import optimizers\n",
        "import numpy as np\n",
        "import pandas as pd\n",
        "from keras.utils.np_utils import to_categorical\n",
        "from keras.metrics import categorical_accuracy\n",
        "from keras.utils import plot_model\n",
        "from keras.preprocessing.text import Tokenizer\n",
        "from keras.preprocessing.sequence import pad_sequences\n",
        "from gensim.models import KeyedVectors\n",
        "import codecs\n",
        "from stopwords_guilannlp import stopwords_output\n",
        "from hazm import *"
      ],
      "execution_count": 3,
      "outputs": [
        {
          "output_type": "stream",
          "text": [
            "Using TensorFlow backend.\n",
            "paramiko missing, opening SSH/SCP/SFTP paths will be disabled.  `pip install paramiko` to suppress\n"
          ],
          "name": "stderr"
        }
      ]
    },
    {
      "metadata": {
        "id": "56Zm6edfuwXC",
        "colab_type": "text"
      },
      "cell_type": "markdown",
      "source": [
        "# File uploader"
      ]
    },
    {
      "metadata": {
        "id": "VvTYlRzbuwcd",
        "colab_type": "code",
        "outputId": "e26b8230-bb79-4417-df45-7caaf6f07081",
        "colab": {
          "resources": {
            "http://localhost:8080/nbextensions/google.colab/files.js": {
              "data": "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",
              "ok": true,
              "headers": [
                [
                  "content-type",
                  "application/javascript"
                ]
              ],
              "status": 200,
              "status_text": ""
            }
          },
          "base_uri": "https://localhost:8080/",
          "height": 177
        }
      },
      "cell_type": "code",
      "source": [
        "from google.colab import files\n",
        "uploaded = files.upload()"
      ],
      "execution_count": 54,
      "outputs": [
        {
          "output_type": "display_data",
          "data": {
            "text/html": [
              "\n",
              "     <input type=\"file\" id=\"files-b9bd99ed-6738-4b4b-a28d-bb96033fa4fa\" name=\"files[]\" multiple disabled />\n",
              "     <output id=\"result-b9bd99ed-6738-4b4b-a28d-bb96033fa4fa\">\n",
              "      Upload widget is only available when the cell has been executed in the\n",
              "      current browser session. Please rerun this cell to enable.\n",
              "      </output>\n",
              "      <script src=\"/nbextensions/google.colab/files.js\"></script> "
            ],
            "text/plain": [
              "<IPython.core.display.HTML object>"
            ]
          },
          "metadata": {
            "tags": []
          }
        },
        {
          "output_type": "stream",
          "text": [
            "Saving x_test.csv to x_test (1).csv\n",
            "Saving x_train.csv to x_train (1).csv\n",
            "Saving y_test.csv to y_test (1).csv\n",
            "Saving y_train.csv to y_train (1).csv\n"
          ],
          "name": "stdout"
        }
      ]
    },
    {
      "metadata": {
        "id": "6FbuK-Gmupe2",
        "colab_type": "text"
      },
      "cell_type": "markdown",
      "source": [
        "\n",
        "# Import Dataset"
      ]
    },
    {
      "metadata": {
        "id": "RXEXLFZoupUr",
        "colab_type": "code",
        "outputId": "7ccd9ff5-8b85-419a-dcb3-8804853ceff9",
        "colab": {
          "base_uri": "https://localhost:8080/",
          "height": 72
        }
      },
      "cell_type": "code",
      "source": [
        "x_train = pd.Series.from_csv('x_train (1).csv', sep='\\t')\n",
        "x_test = pd.Series.from_csv('x_test (1).csv', sep='\\t')\n",
        "y_train = pd.Series.from_csv('y_train (1).csv', sep='\\t', header=0)\n",
        "y_test = pd.Series.from_csv('y_test (1).csv', sep='\\t', header=0)"
      ],
      "execution_count": 85,
      "outputs": [
        {
          "output_type": "stream",
          "text": [
            "/usr/local/lib/python3.6/dist-packages/pandas/core/series.py:3727: FutureWarning: from_csv is deprecated. Please use read_csv(...) instead. Note that some of the default arguments are different, so please refer to the documentation for from_csv when changing your function calls\n",
            "  infer_datetime_format=infer_datetime_format)\n"
          ],
          "name": "stderr"
        }
      ]
    },
    {
      "metadata": {
        "id": "HMIMBSUa97Zm",
        "colab_type": "code",
        "colab": {}
      },
      "cell_type": "code",
      "source": [
        "x_train = x_train.iloc[1:, ]\n",
        "x_test = x_test.iloc[1:, ]"
      ],
      "execution_count": 0,
      "outputs": []
    },
    {
      "metadata": {
        "id": "OgJCr-PFx9d7",
        "colab_type": "code",
        "outputId": "9a498635-99a6-4f66-bc01-a3e708bd2e4b",
        "colab": {
          "base_uri": "https://localhost:8080/",
          "height": 87
        }
      },
      "cell_type": "code",
      "source": [
        "print('x_train shape: ', x_train.shape)\n",
        "print('x_test shape: ', x_test.shape)\n",
        "print('y_train shape: ', y_train.shape)\n",
        "print('y_test shape: ', y_test.shape)"
      ],
      "execution_count": 88,
      "outputs": [
        {
          "output_type": "stream",
          "text": [
            "x_train shape:  (11122,)\n",
            "x_test shape:  (1854,)\n",
            "y_train shape:  (11122,)\n",
            "y_test shape:  (1854,)\n"
          ],
          "name": "stdout"
        }
      ]
    },
    {
      "metadata": {
        "id": "JdigOBNwqkcq",
        "colab_type": "code",
        "colab": {}
      },
      "cell_type": "code",
      "source": [
        "x_train = np.asarray(x_train)\n",
        "x_test = np.asarray(x_test)\n",
        "y_train = np.asarray(y_train)\n",
        "y_test = np.asarray(y_test)"
      ],
      "execution_count": 0,
      "outputs": []
    },
    {
      "metadata": {
        "id": "-oRS6Zj-qlgm",
        "colab_type": "code",
        "colab": {
          "base_uri": "https://localhost:8080/",
          "height": 34
        },
        "outputId": "4e439383-3119-445b-9af8-e58bfc35b343"
      },
      "cell_type": "code",
      "source": [
        "# See the data number of each category \n",
        "from collections import Counter\n",
        "cnt = Counter(y_train)\n",
        "cnt = dict(cnt)\n",
        "print(cnt)"
      ],
      "execution_count": 90,
      "outputs": [
        {
          "output_type": "stream",
          "text": [
            "{1: 3246, 2: 1976, 0: 4818, -1: 1026, -2: 56}\n"
          ],
          "name": "stdout"
        }
      ]
    },
    {
      "metadata": {
        "id": "LtAKKhvqqnyH",
        "colab_type": "code",
        "colab": {
          "base_uri": "https://localhost:8080/",
          "height": 87
        },
        "outputId": "19f937f3-3f2e-434e-af5a-6976c6c2bd5a"
      },
      "cell_type": "code",
      "source": [
        "binary_y_train = []\n",
        "binary_y_test = []\n",
        "binary_x_train = []\n",
        "binary_x_test = []\n",
        "for i, y in enumerate(y_train):\n",
        "  if y != 0:\n",
        "    if y > 0:\n",
        "      binary_y_train.append(1)\n",
        "      binary_x_train.append(x_train[i])\n",
        "    else:\n",
        "      binary_y_train.append(0)\n",
        "      binary_x_train.append(x_train[i])\n",
        "  else:\n",
        "      binary_y_train.append(0)\n",
        "      binary_x_train.append(x_train[i])\n",
        "      \n",
        "for i, y in enumerate(y_test):\n",
        "  if y != 0:\n",
        "    if y > 0:\n",
        "      binary_y_test.append(1)\n",
        "      binary_x_test.append(x_test[i])\n",
        "    else:\n",
        "      binary_y_test.append(0)\n",
        "      binary_x_test.append(x_test[i])\n",
        "  else:\n",
        "      binary_y_test.append(0)\n",
        "      binary_x_test.append(x_test[i])\n",
        "      \n",
        "\n",
        "x_train = np.asarray(binary_x_train)\n",
        "x_test = np.asarray(binary_x_test)\n",
        "y_train = np.asarray(binary_y_train)\n",
        "y_test = np.asarray(binary_y_test)\n",
        "print('x_train shape: ', x_train.shape)\n",
        "print('x_test shape: ', x_test.shape)\n",
        "print('y_train shape: ', y_train.shape)\n",
        "print('y_test shape: ', y_test.shape)"
      ],
      "execution_count": 91,
      "outputs": [
        {
          "output_type": "stream",
          "text": [
            "x_train shape:  (11122,)\n",
            "x_test shape:  (1854,)\n",
            "y_train shape:  (11122,)\n",
            "y_test shape:  (1854,)\n"
          ],
          "name": "stdout"
        }
      ]
    },
    {
      "metadata": {
        "id": "ndOdtdw8qqXU",
        "colab_type": "code",
        "colab": {
          "base_uri": "https://localhost:8080/",
          "height": 34
        },
        "outputId": "63fb6547-d038-4188-d0d6-caa55a32f55e"
      },
      "cell_type": "code",
      "source": [
        "# See the data number of each category \n",
        "from collections import Counter\n",
        "cnt = Counter(y_train)\n",
        "cnt = dict(cnt)\n",
        "print(cnt)"
      ],
      "execution_count": 92,
      "outputs": [
        {
          "output_type": "stream",
          "text": [
            "{1: 5222, 0: 5900}\n"
          ],
          "name": "stdout"
        }
      ]
    },
    {
      "metadata": {
        "id": "S-YylKUoqElV",
        "colab_type": "text"
      },
      "cell_type": "markdown",
      "source": [
        "# Make FastText Model"
      ]
    },
    {
      "metadata": {
        "id": "1F_olE5An-5I",
        "colab_type": "code",
        "colab": {}
      },
      "cell_type": "code",
      "source": [
        "EMBEDDING_FILE = 'wiki.fa.vec'\n",
        "\n",
        "def import_with_gensim(file_address):\n",
        "    # Creating the model\n",
        "    ft_model = KeyedVectors.load_word2vec_format(file_address)\n",
        "    # Getting the tokens\n",
        "    ft_words = []\n",
        "    for ft_word in ft_model.vocab:\n",
        "        ft_words.append(ft_word)\n",
        "\n",
        "    return ft_model, ft_words\n",
        "  \n",
        "model, words = import_with_gensim(EMBEDDING_FILE)"
      ],
      "execution_count": 0,
      "outputs": []
    },
    {
      "metadata": {
        "id": "WbXOKymz-OS1",
        "colab_type": "code",
        "colab": {}
      },
      "cell_type": "code",
      "source": [
        "embed_size = 300"
      ],
      "execution_count": 0,
      "outputs": []
    },
    {
      "metadata": {
        "id": "0lraPVp4ptF1",
        "colab_type": "code",
        "colab": {}
      },
      "cell_type": "code",
      "source": [
        "# We get the mean and standard deviation of the embedding weights so that we could maintain the\n",
        "# same statistics for the rest of our own random generated weights.\\\n",
        "embedding_list = list()\n",
        "for w in words:\n",
        "    embedding_list.append(model[w])\n",
        "\n",
        "all_embedding = np.stack(embedding_list)\n",
        "emb_mean, emb_std = all_embedding.mean(), all_embedding.std()"
      ],
      "execution_count": 0,
      "outputs": []
    },
    {
      "metadata": {
        "id": "aCPR-DfhyUWi",
        "colab_type": "code",
        "colab": {}
      },
      "cell_type": "code",
      "source": [
        "stop_set = stopwords_output(\"Persian\", \"set\")\n",
        "stop_useful = ['سلام', 'دیجی', 'کالا']\n",
        "useful_set = ['خوب', 'بد', 'کاملا', 'کاملاً', 'بسیار', 'واقعا', 'واقعاً', 'فوق', 'بخش', 'طرفدارترین', 'نیست', 'هست']\n",
        "puncs = ['،', '.', ',', ':', ';']\n",
        "\n",
        "for word in stop_useful:\n",
        "  if word not in stop_set:\n",
        "    stop_set.add(word)\n",
        "\n",
        "for word in useful_set:\n",
        "  if word in stop_set:\n",
        "    stop_set.remove(word)\n",
        "\n",
        "# turn a doc into clean tokens\n",
        "def clean_doc(doc):\n",
        "    tokenized = word_tokenize(doc)  # Tokenize text\n",
        "    tokens = []\n",
        "    for t in tokenized:\n",
        "      temp = t\n",
        "      for p in puncs:\n",
        "        temp = temp.replace(p, '')\n",
        "      tokens.append(temp)\n",
        "    tokens = [w for w in tokens if not w in stop_set]    # Remove stop words\n",
        "    tokens = [w for w in tokens if not len(w) <= 1]\n",
        "    tokens = [w for w in tokens if not w.isdigit()]\n",
        "    tokens = ' '.join(tokens)\n",
        "    return tokens\n",
        "\n",
        "\n",
        "train_docs = list()\n",
        "for document in x_train:\n",
        "    train_docs.append(clean_doc(document))"
      ],
      "execution_count": 0,
      "outputs": []
    },
    {
      "metadata": {
        "id": "yXOfMkE1yMOG",
        "colab_type": "code",
        "colab": {}
      },
      "cell_type": "code",
      "source": [
        "num_words = 2500\n",
        "\n",
        "# create the tokenizer\n",
        "tokenizer = Tokenizer(num_words=num_words)\n",
        "\n",
        "# fit the tokenizer on the documents\n",
        "tokenizer.fit_on_texts(train_docs)\n",
        "\n",
        "# sequence encode\n",
        "encoded_docs = tokenizer.texts_to_sequences(train_docs)\n",
        "\n",
        "# pad sequences\n",
        "max_length = max([len(s.split()) for s in train_docs])\n",
        "x_train = pad_sequences(encoded_docs, maxlen=max_length, padding='post')\n",
        "\n",
        "test_docs = list()\n",
        "for document in x_test:\n",
        "    test_docs.append(clean_doc(document))\n",
        "\n",
        "# define vocabulary size (largest integer value)\n",
        "vocab_size = len(tokenizer.word_index) + 1"
      ],
      "execution_count": 0,
      "outputs": []
    },
    {
      "metadata": {
        "id": "WZnIkLd4rUrb",
        "colab_type": "code",
        "outputId": "8e6eae0c-7cfc-49e7-a09b-24cee2be5b14",
        "colab": {
          "base_uri": "https://localhost:8080/",
          "height": 52
        }
      },
      "cell_type": "code",
      "source": [
        "# We are going to set the embedding size to the pre-trained dimension as we are replicating it\n",
        "nb_words = len(tokenizer.word_index)\n",
        "\n",
        "# the size will be Number of Words in Vocab X Embedding Size\n",
        "embedding_matrix = np.random.normal(emb_mean, emb_std, (nb_words, embed_size))\n",
        "\n",
        "# With the newly created embedding matrix, we'll fill it up with the words that we have in both\n",
        "# our own dictionary and loaded pre-trained embedding.\n",
        "embeddedCount = 0\n",
        "for word, i in tokenizer.word_index.items():\n",
        "    i -= 1\n",
        "    # then we see if this word is in glove's dictionary, if yes, get the corresponding weights\n",
        "    if word in model.vocab:\n",
        "        embedding_vector = model[word]\n",
        "        # and store inside the embedding matrix that we will train later on.\n",
        "        embedding_matrix[i] = embedding_vector\n",
        "        embeddedCount += 1\n",
        "    else:   # Unknown words\n",
        "        embedding_vector = model['subdivision_name']\n",
        "        # and store inside the embedding matrix that we will train later on.\n",
        "        embedding_matrix[i] = embedding_vector\n",
        "        embeddedCount += 1\n",
        "\n",
        "print('total embedded:', embeddedCount, 'common words')\n",
        "print('Embedding matrix shape:', embedding_matrix.shape)"
      ],
      "execution_count": 98,
      "outputs": [
        {
          "output_type": "stream",
          "text": [
            "total embedded: 10039 common words\n",
            "Embedding matrix shape: (10039, 300)\n"
          ],
          "name": "stdout"
        }
      ]
    },
    {
      "metadata": {
        "id": "o8NcUFxQpN1f",
        "colab_type": "code",
        "colab": {}
      },
      "cell_type": "code",
      "source": [
        "encoded_docs = tokenizer.texts_to_sequences(test_docs)\n",
        "x_test = pad_sequences(encoded_docs, maxlen=max_length, padding='post')\n"
      ],
      "execution_count": 0,
      "outputs": []
    },
    {
      "metadata": {
        "id": "UGzX4V3J2U9F",
        "colab_type": "text"
      },
      "cell_type": "markdown",
      "source": [
        "# CNN Model"
      ]
    },
    {
      "metadata": {
        "id": "ITMRqJHnAFCf",
        "colab_type": "code",
        "outputId": "9de36fd5-9713-41e4-a683-970851dc41f3",
        "colab": {
          "base_uri": "https://localhost:8080/",
          "height": 905
        }
      },
      "cell_type": "code",
      "source": [
        "inp = Input(shape=(max_length, ))\n",
        "x = Embedding(len(tokenizer.word_index), embedding_matrix.shape[1], weights=[embedding_matrix], trainable=False)(inp)\n",
        "x = Conv1D(filters=64, kernel_size=4, activation='relu', padding='same')(x)\n",
        "x = MaxPooling1D(pool_size=2)(x)\n",
        "x = Conv1D(filters=64, kernel_size=8, activation='relu', padding='same')(x)\n",
        "x = MaxPooling1D(pool_size=2)(x)\n",
        "x = Conv1D(filters=64, kernel_size=16, activation='relu', padding='same')(x)\n",
        "x = GlobalMaxPooling1D()(x)\n",
        "x = Dropout(0.5)(x)\n",
        "x = Dense(500, activation=\"sigmoid\")(x)\n",
        "x = Dense(1, activation=\"sigmoid\")(x)\n",
        "\n",
        "# optimizers.RMSprop(lr=0.001, rho=0.9, epsilon=None, decay=0.0)\n",
        "# optimizers.Adagrad(lr=0.01, epsilon=None, decay=0.0)\n",
        "# optimizers.Adadelta(lr=1.0, rho=0.95, epsilon=None, decay=0.0)\n",
        "# optimizers.Adam(lr=0.001, beta_1=0.9, beta_2=0.999, epsilon=None, decay=0.0, amsgrad=False)\n",
        "\n",
        "opt = optimizers.Adam(lr=0.001, beta_1=0.9, beta_2=0.999, epsilon=None, decay=0.0, amsgrad=False)\n",
        "\n",
        "model = Model(inputs=inp, outputs=x)\n",
        "model.compile(loss='binary_crossentropy',\n",
        "              optimizer=opt,\n",
        "              metrics=['accuracy'])\n",
        "\n",
        "model.summary()\n",
        "batch_size = 64\n",
        "epochs = 10\n",
        "hist = model.fit(x_train, y_train, batch_size=batch_size, epochs=epochs)\n",
        "\n",
        "loss, acc = model.evaluate(x_test, y_test, verbose=0)\n",
        "print('Test Accuracy: %f' % (acc*100))"
      ],
      "execution_count": 100,
      "outputs": [
        {
          "output_type": "stream",
          "text": [
            "_________________________________________________________________\n",
            "Layer (type)                 Output Shape              Param #   \n",
            "=================================================================\n",
            "input_6 (InputLayer)         (None, 215)               0         \n",
            "_________________________________________________________________\n",
            "embedding_6 (Embedding)      (None, 215, 300)          3011700   \n",
            "_________________________________________________________________\n",
            "conv1d_16 (Conv1D)           (None, 215, 64)           76864     \n",
            "_________________________________________________________________\n",
            "max_pooling1d_11 (MaxPooling (None, 107, 64)           0         \n",
            "_________________________________________________________________\n",
            "conv1d_17 (Conv1D)           (None, 107, 64)           32832     \n",
            "_________________________________________________________________\n",
            "max_pooling1d_12 (MaxPooling (None, 53, 64)            0         \n",
            "_________________________________________________________________\n",
            "conv1d_18 (Conv1D)           (None, 53, 64)            65600     \n",
            "_________________________________________________________________\n",
            "global_max_pooling1d_6 (Glob (None, 64)                0         \n",
            "_________________________________________________________________\n",
            "dropout_6 (Dropout)          (None, 64)                0         \n",
            "_________________________________________________________________\n",
            "dense_11 (Dense)             (None, 500)               32500     \n",
            "_________________________________________________________________\n",
            "dense_12 (Dense)             (None, 1)                 501       \n",
            "=================================================================\n",
            "Total params: 3,219,997\n",
            "Trainable params: 208,297\n",
            "Non-trainable params: 3,011,700\n",
            "_________________________________________________________________\n",
            "Epoch 1/10\n",
            "11122/11122 [==============================] - 2s 175us/step - loss: 0.6679 - acc: 0.5879\n",
            "Epoch 2/10\n",
            "11122/11122 [==============================] - 1s 99us/step - loss: 0.5529 - acc: 0.7316\n",
            "Epoch 3/10\n",
            "11122/11122 [==============================] - 1s 100us/step - loss: 0.4122 - acc: 0.8204\n",
            "Epoch 4/10\n",
            "11122/11122 [==============================] - 1s 100us/step - loss: 0.2881 - acc: 0.8851\n",
            "Epoch 5/10\n",
            "11122/11122 [==============================] - 1s 100us/step - loss: 0.2065 - acc: 0.9205\n",
            "Epoch 6/10\n",
            "11122/11122 [==============================] - 1s 108us/step - loss: 0.1454 - acc: 0.9485\n",
            "Epoch 7/10\n",
            "11122/11122 [==============================] - 1s 111us/step - loss: 0.1150 - acc: 0.9622\n",
            "Epoch 8/10\n",
            "11122/11122 [==============================] - 1s 110us/step - loss: 0.1019 - acc: 0.9654\n",
            "Epoch 9/10\n",
            "11122/11122 [==============================] - 1s 110us/step - loss: 0.0873 - acc: 0.9724\n",
            "Epoch 10/10\n",
            "11122/11122 [==============================] - 1s 104us/step - loss: 0.0872 - acc: 0.9729\n",
            "Test Accuracy: 70.010788\n"
          ],
          "name": "stdout"
        }
      ]
    },
    {
      "metadata": {
        "id": "I6Y5JQ--clHL",
        "colab_type": "code",
        "colab": {}
      },
      "cell_type": "code",
      "source": [
        ""
      ],
      "execution_count": 0,
      "outputs": []
    }
  ]
}