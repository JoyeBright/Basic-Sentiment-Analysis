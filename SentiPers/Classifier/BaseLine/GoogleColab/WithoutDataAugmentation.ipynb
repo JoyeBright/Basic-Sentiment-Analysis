{
  "nbformat": 4,
  "nbformat_minor": 0,
  "metadata": {
    "colab": {
      "name": "Baseline.ipynb",
      "version": "0.3.2",
      "provenance": [],
      "collapsed_sections": [],
      "include_colab_link": true
    },
    "kernelspec": {
      "name": "python3",
      "display_name": "Python 3"
    }
  },
  "cells": [
    {
      "cell_type": "markdown",
      "metadata": {
        "id": "view-in-github",
        "colab_type": "text"
      },
      "source": [
        "<a href=\"https://colab.research.google.com/github/parsa-abbasi/Sentiment-Analysis/blob/master/SentiPers/Classifier/BaseLine/GoogleColab/WithoutDataAugmentation.ipynb\" target=\"_parent\"><img src=\"https://colab.research.google.com/assets/colab-badge.svg\" alt=\"Open In Colab\"/></a>"
      ]
    },
    {
      "metadata": {
        "id": "CfyaxyBjmGgb",
        "colab_type": "code",
        "outputId": "4cfbc40a-34ab-47c4-da49-2abaf32ee859",
        "colab": {
          "base_uri": "https://localhost:8080/",
          "height": 105
        }
      },
      "cell_type": "code",
      "source": [
        "!pip install hazm\n",
        "!pip install stopwords_guilannlp"
      ],
      "execution_count": 1,
      "outputs": [
        {
          "output_type": "stream",
          "text": [
            "Requirement already satisfied: hazm in /usr/local/lib/python3.6/dist-packages (0.7.0)\n",
            "Requirement already satisfied: nltk==3.3 in /usr/local/lib/python3.6/dist-packages (from hazm) (3.3)\n",
            "Requirement already satisfied: libwapiti>=0.2.1; platform_system != \"Windows\" in /usr/local/lib/python3.6/dist-packages (from hazm) (0.2.1)\n",
            "Requirement already satisfied: six in /usr/local/lib/python3.6/dist-packages (from nltk==3.3->hazm) (1.11.0)\n",
            "Requirement already satisfied: stopwords_guilannlp in /usr/local/lib/python3.6/dist-packages (13.2019.3.5)\n"
          ],
          "name": "stdout"
        }
      ]
    },
    {
      "metadata": {
        "id": "ki1-rZBal0dI",
        "colab_type": "code",
        "colab": {}
      },
      "cell_type": "code",
      "source": [
        "from sklearn.feature_extraction.text import TfidfTransformer, CountVectorizer\n",
        "from sklearn.linear_model import SGDClassifier\n",
        "from sklearn.naive_bayes import MultinomialNB\n",
        "from sklearn.svm import LinearSVC, SVC\n",
        "from sklearn.pipeline import Pipeline\n",
        "from hazm import *\n",
        "from stopwords_guilannlp import stopwords_output\n",
        "import pandas as pd\n",
        "import numpy as np"
      ],
      "execution_count": 0,
      "outputs": []
    },
    {
      "metadata": {
        "id": "yn-kbQhOmDvK",
        "colab_type": "code",
        "colab": {}
      },
      "cell_type": "code",
      "source": [
        "from google.colab import files\n",
        "uploaded = files.upload()"
      ],
      "execution_count": 0,
      "outputs": []
    },
    {
      "metadata": {
        "id": "JKlzUX8gmmZ7",
        "colab_type": "code",
        "outputId": "68015036-8392-4739-af05-f05e50f63483",
        "colab": {
          "base_uri": "https://localhost:8080/",
          "height": 143
        }
      },
      "cell_type": "code",
      "source": [
        "x_train = pd.Series.from_csv('x_train.csv', sep='\\t')\n",
        "x_test = pd.Series.from_csv('x_test.csv', sep='\\t')\n",
        "y_train = pd.Series.from_csv('y_train.csv', sep='\\t', header=0)\n",
        "y_test = pd.Series.from_csv('y_test.csv', sep='\\t', header=0)\n",
        "x_train = x_train.iloc[1:, ]\n",
        "x_test = x_test.iloc[1:, ]\n",
        "print('x_train shape: ', x_train.shape)\n",
        "print('x_test shape: ', x_test.shape)\n",
        "print('y_train shape: ', y_train.shape)\n",
        "print('y_test shape: ', y_test.shape)\n",
        "x_train = np.asarray(x_train)\n",
        "x_test = np.asarray(x_test)\n",
        "y_train = np.asarray(y_train)\n",
        "y_test = np.asarray(y_test)"
      ],
      "execution_count": 31,
      "outputs": [
        {
          "output_type": "stream",
          "text": [
            "x_train shape:  (5561,)\n",
            "x_test shape:  (1854,)\n",
            "y_train shape:  (5561,)\n",
            "y_test shape:  (1854,)\n"
          ],
          "name": "stdout"
        },
        {
          "output_type": "stream",
          "text": [
            "/usr/local/lib/python3.6/dist-packages/pandas/core/series.py:2890: FutureWarning: from_csv is deprecated. Please use read_csv(...) instead. Note that some of the default arguments are different, so please refer to the documentation for from_csv when changing your function calls\n",
            "  infer_datetime_format=infer_datetime_format)\n"
          ],
          "name": "stderr"
        }
      ]
    },
    {
      "metadata": {
        "id": "dG8ARVHol6qO",
        "colab_type": "code",
        "colab": {}
      },
      "cell_type": "code",
      "source": [
        "# Make stop word set\n",
        "stop_set = stopwords_output(\"Persian\", \"set\")\n",
        "\n",
        "\n",
        "# When building the vocabulary ignore terms that have a document frequency strictly lower than\n",
        "# the given threshold. This value is also called cut-off in the literature.\n",
        "min_df = 1\n",
        "\n",
        "\n",
        "# Tokenize function used in Vectorizer\n",
        "def tokenize(text):\n",
        "    return word_tokenize(text)\n"
      ],
      "execution_count": 0,
      "outputs": []
    },
    {
      "metadata": {
        "id": "3gLNRPYOl9D6",
        "colab_type": "code",
        "outputId": "b9c3cf8b-9444-4a23-9be2-609b61765301",
        "colab": {
          "base_uri": "https://localhost:8080/",
          "height": 34
        }
      },
      "cell_type": "code",
      "source": [
        "# (Multinomial) Naive Bayes Model\n",
        "text_clf = Pipeline([('vect', CountVectorizer(tokenizer=tokenize,\n",
        "                                              analyzer='word', ngram_range=(1, 2), min_df=min_df, lowercase=False)),\n",
        "                     ('tfidf', TfidfTransformer(sublinear_tf=True)),\n",
        "                     ('clf', MultinomialNB())])\n",
        "text_clf = text_clf.fit(x_train, y_train)\n",
        "naive_score = text_clf.score(x_test, y_test)\n",
        "print('Naive Bayes Model: ', naive_score)\n",
        "predict = text_clf.predict(x_test)\n"
      ],
      "execution_count": 33,
      "outputs": [
        {
          "output_type": "stream",
          "text": [
            "Naive Bayes Model:  0.48759439050701187\n"
          ],
          "name": "stdout"
        }
      ]
    },
    {
      "metadata": {
        "id": "Y292Cdnjl-XV",
        "colab_type": "code",
        "outputId": "4154b0cd-28d0-43b0-ee5f-80f9091b97a9",
        "colab": {
          "base_uri": "https://localhost:8080/",
          "height": 90
        }
      },
      "cell_type": "code",
      "source": [
        "# SGD (Stochastic Gradient Descent) Model\n",
        "text_clf_sgd = Pipeline([('vect', CountVectorizer(tokenizer=tokenize,\n",
        "                                                  analyzer='word', ngram_range=(1, 2), min_df=min_df, lowercase=False)),\n",
        "                         ('tfidf', TfidfTransformer(sublinear_tf=True)),\n",
        "                         ('clf-svm', SGDClassifier(loss='hinge', penalty='l2',\n",
        "                                                   alpha=1e-3, max_iter=5))])\n",
        "text_clf_sgd = text_clf_sgd.fit(x_train, y_train)\n",
        "sgd_score = text_clf_sgd.score(x_test, y_test)\n",
        "print('SGD Model: ', sgd_score)\n"
      ],
      "execution_count": 34,
      "outputs": [
        {
          "output_type": "stream",
          "text": [
            "/usr/local/lib/python3.6/dist-packages/sklearn/linear_model/stochastic_gradient.py:183: FutureWarning: max_iter and tol parameters have been added in SGDClassifier in 0.19. If max_iter is set but tol is left unset, the default value for tol in 0.19 and 0.20 will be None (which is equivalent to -infinity, so it has no effect) but will change in 0.21 to 1e-3. Specify tol to silence this warning.\n",
            "  FutureWarning)\n"
          ],
          "name": "stderr"
        },
        {
          "output_type": "stream",
          "text": [
            "SGD Model:  0.5938511326860841\n"
          ],
          "name": "stdout"
        }
      ]
    },
    {
      "metadata": {
        "id": "pQsWYUhpl_1M",
        "colab_type": "code",
        "outputId": "cd46f60c-b5cd-436d-a7ad-dc0638c79b24",
        "colab": {
          "base_uri": "https://localhost:8080/",
          "height": 70
        }
      },
      "cell_type": "code",
      "source": [
        "# Linear Support Vector Machine Model\n",
        "text_clf_linear_svc = Pipeline([('vect', CountVectorizer(tokenizer=tokenize,\n",
        "                                                         analyzer='word', ngram_range=(1, 2),\n",
        "                                                         min_df=min_df, lowercase=False)),\n",
        "                                ('tfidf', TfidfTransformer(sublinear_tf=True)),\n",
        "                                ('clf-svm', LinearSVC(loss='hinge', penalty='l2',\n",
        "                                                      max_iter=5))])\n",
        "\n",
        "text_clf_linear_svc = text_clf_linear_svc.fit(x_train, y_train)\n",
        "linear_svc_score = text_clf_linear_svc.score(x_test, y_test)\n",
        "print('Linear SVC Model: ', linear_svc_score)\n"
      ],
      "execution_count": 35,
      "outputs": [
        {
          "output_type": "stream",
          "text": [
            "Linear SVC Model:  0.6456310679611651\n"
          ],
          "name": "stdout"
        },
        {
          "output_type": "stream",
          "text": [
            "/usr/local/lib/python3.6/dist-packages/sklearn/svm/base.py:931: ConvergenceWarning: Liblinear failed to converge, increase the number of iterations.\n",
            "  \"the number of iterations.\", ConvergenceWarning)\n"
          ],
          "name": "stderr"
        }
      ]
    },
    {
      "metadata": {
        "id": "XS2ie9xfm0HK",
        "colab_type": "code",
        "colab": {}
      },
      "cell_type": "code",
      "source": [
        ""
      ],
      "execution_count": 0,
      "outputs": []
    }
  ]
}