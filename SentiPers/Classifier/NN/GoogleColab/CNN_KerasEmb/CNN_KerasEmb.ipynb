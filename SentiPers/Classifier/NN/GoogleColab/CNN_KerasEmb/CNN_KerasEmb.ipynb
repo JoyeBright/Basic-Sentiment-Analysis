{
  "nbformat": 4,
  "nbformat_minor": 0,
  "metadata": {
    "colab": {
      "name": "CNN-KerasEmb.ipynb",
      "version": "0.3.2",
      "provenance": [],
      "collapsed_sections": [],
      "include_colab_link": true
    },
    "kernelspec": {
      "name": "python3",
      "display_name": "Python 3"
    },
    "accelerator": "GPU"
  },
  "cells": [
    {
      "cell_type": "markdown",
      "metadata": {
        "id": "view-in-github",
        "colab_type": "text"
      },
      "source": [
        "<a href=\"https://colab.research.google.com/github/parsa-abbasi/Basic-Sentiment-Analysis/blob/master/SentiPers/Classifier/NN/GoogleColab/CNN_KerasEmb/CNN_KerasEmb.ipynb\" target=\"_parent\"><img src=\"https://colab.research.google.com/assets/colab-badge.svg\" alt=\"Open In Colab\"/></a>"
      ]
    },
    {
      "metadata": {
        "id": "0yHgWvqWBAqS",
        "colab_type": "code",
        "outputId": "9649c5a8-9a99-4b6c-cf04-ac752ce33ac3",
        "colab": {
          "base_uri": "https://localhost:8080/",
          "height": 105
        }
      },
      "cell_type": "code",
      "source": [
        "!pip install hazm\n",
        "!pip install stopwords_guilannlp"
      ],
      "execution_count": 1,
      "outputs": [
        {
          "output_type": "stream",
          "text": [
            "Requirement already satisfied: hazm in /usr/local/lib/python3.6/dist-packages (0.7.0)\n",
            "Requirement already satisfied: nltk==3.3 in /usr/local/lib/python3.6/dist-packages (from hazm) (3.3)\n",
            "Requirement already satisfied: libwapiti>=0.2.1; platform_system != \"Windows\" in /usr/local/lib/python3.6/dist-packages (from hazm) (0.2.1)\n",
            "Requirement already satisfied: six in /usr/local/lib/python3.6/dist-packages (from nltk==3.3->hazm) (1.11.0)\n",
            "Requirement already satisfied: stopwords_guilannlp in /usr/local/lib/python3.6/dist-packages (13.2019.3.5)\n"
          ],
          "name": "stdout"
        }
      ]
    },
    {
      "metadata": {
        "id": "qHENRyUpp-fb",
        "colab_type": "text"
      },
      "cell_type": "markdown",
      "source": [
        "# Import Libraries"
      ]
    },
    {
      "metadata": {
        "id": "DyJ0hqR8nku1",
        "colab_type": "code",
        "colab": {}
      },
      "cell_type": "code",
      "source": [
        "from keras.layers import Dense, Input, LSTM, Embedding, Dropout\n",
        "from keras.layers import Bidirectional, GlobalMaxPool1D, MaxPooling1D, Convolution1D, GlobalMaxPooling1D\n",
        "from keras.layers.merge import concatenate\n",
        "from keras.models import Sequential\n",
        "from keras.layers import Flatten\n",
        "from keras.layers.convolutional import Conv1D\n",
        "from keras.models import Model\n",
        "from keras import optimizers\n",
        "import numpy as np\n",
        "import pandas as pd\n",
        "from keras.utils.np_utils import to_categorical\n",
        "from keras.metrics import categorical_accuracy\n",
        "from keras.utils import plot_model\n",
        "from keras.preprocessing.text import Tokenizer\n",
        "from keras.preprocessing.sequence import pad_sequences\n",
        "from gensim.models import KeyedVectors\n",
        "import codecs\n",
        "from stopwords_guilannlp import stopwords_output\n",
        "from hazm import *"
      ],
      "execution_count": 0,
      "outputs": []
    },
    {
      "metadata": {
        "id": "56Zm6edfuwXC",
        "colab_type": "text"
      },
      "cell_type": "markdown",
      "source": [
        "# File uploader"
      ]
    },
    {
      "metadata": {
        "id": "VvTYlRzbuwcd",
        "colab_type": "code",
        "outputId": "a757f499-dd65-4c1d-c6f3-f7934ee2d78f",
        "colab": {
          "resources": {
            "http://localhost:8080/nbextensions/google.colab/files.js": {
              "data": "Ly8gQ29weXJpZ2h0IDIwMTcgR29vZ2xlIExMQwovLwovLyBMaWNlbnNlZCB1bmRlciB0aGUgQXBhY2hlIExpY2Vuc2UsIFZlcnNpb24gMi4wICh0aGUgIkxpY2Vuc2UiKTsKLy8geW91IG1heSBub3QgdXNlIHRoaXMgZmlsZSBleGNlcHQgaW4gY29tcGxpYW5jZSB3aXRoIHRoZSBMaWNlbnNlLgovLyBZb3UgbWF5IG9idGFpbiBhIGNvcHkgb2YgdGhlIExpY2Vuc2UgYXQKLy8KLy8gICAgICBodHRwOi8vd3d3LmFwYWNoZS5vcmcvbGljZW5zZXMvTElDRU5TRS0yLjAKLy8KLy8gVW5sZXNzIHJlcXVpcmVkIGJ5IGFwcGxpY2FibGUgbGF3IG9yIGFncmVlZCB0byBpbiB3cml0aW5nLCBzb2Z0d2FyZQovLyBkaXN0cmlidXRlZCB1bmRlciB0aGUgTGljZW5zZSBpcyBkaXN0cmlidXRlZCBvbiBhbiAiQVMgSVMiIEJBU0lTLAovLyBXSVRIT1VUIFdBUlJBTlRJRVMgT1IgQ09ORElUSU9OUyBPRiBBTlkgS0lORCwgZWl0aGVyIGV4cHJlc3Mgb3IgaW1wbGllZC4KLy8gU2VlIHRoZSBMaWNlbnNlIGZvciB0aGUgc3BlY2lmaWMgbGFuZ3VhZ2UgZ292ZXJuaW5nIHBlcm1pc3Npb25zIGFuZAovLyBsaW1pdGF0aW9ucyB1bmRlciB0aGUgTGljZW5zZS4KCi8qKgogKiBAZmlsZW92ZXJ2aWV3IEhlbHBlcnMgZm9yIGdvb2dsZS5jb2xhYiBQeXRob24gbW9kdWxlLgogKi8KKGZ1bmN0aW9uKHNjb3BlKSB7CmZ1bmN0aW9uIHNwYW4odGV4dCwgc3R5bGVBdHRyaWJ1dGVzID0ge30pIHsKICBjb25zdCBlbGVtZW50ID0gZG9jdW1lbnQuY3JlYXRlRWxlbWVudCgnc3BhbicpOwogIGVsZW1lbnQudGV4dENvbnRlbnQgPSB0ZXh0OwogIGZvciAoY29uc3Qga2V5IG9mIE9iamVjdC5rZXlzKHN0eWxlQXR0cmlidXRlcykpIHsKICAgIGVsZW1lbnQuc3R5bGVba2V5XSA9IHN0eWxlQXR0cmlidXRlc1trZXldOwogIH0KICByZXR1cm4gZWxlbWVudDsKfQoKLy8gTWF4IG51bWJlciBvZiBieXRlcyB3aGljaCB3aWxsIGJlIHVwbG9hZGVkIGF0IGEgdGltZS4KY29uc3QgTUFYX1BBWUxPQURfU0laRSA9IDEwMCAqIDEwMjQ7Ci8vIE1heCBhbW91bnQgb2YgdGltZSB0byBibG9jayB3YWl0aW5nIGZvciB0aGUgdXNlci4KY29uc3QgRklMRV9DSEFOR0VfVElNRU9VVF9NUyA9IDMwICogMTAwMDsKCmZ1bmN0aW9uIF91cGxvYWRGaWxlcyhpbnB1dElkLCBvdXRwdXRJZCkgewogIGNvbnN0IHN0ZXBzID0gdXBsb2FkRmlsZXNTdGVwKGlucHV0SWQsIG91dHB1dElkKTsKICBjb25zdCBvdXRwdXRFbGVtZW50ID0gZG9jdW1lbnQuZ2V0RWxlbWVudEJ5SWQob3V0cHV0SWQpOwogIC8vIENhY2hlIHN0ZXBzIG9uIHRoZSBvdXRwdXRFbGVtZW50IHRvIG1ha2UgaXQgYXZhaWxhYmxlIGZvciB0aGUgbmV4dCBjYWxsCiAgLy8gdG8gdXBsb2FkRmlsZXNDb250aW51ZSBmcm9tIFB5dGhvbi4KICBvdXRwdXRFbGVtZW50LnN0ZXBzID0gc3RlcHM7CgogIHJldHVybiBfdXBsb2FkRmlsZXNDb250aW51ZShvdXRwdXRJZCk7Cn0KCi8vIFRoaXMgaXMgcm91Z2hseSBhbiBhc3luYyBnZW5lcmF0b3IgKG5vdCBzdXBwb3J0ZWQgaW4gdGhlIGJyb3dzZXIgeWV0KSwKLy8gd2hlcmUgdGhlcmUgYXJlIG11bHRpcGxlIGFzeW5jaHJvbm91cyBzdGVwcyBhbmQgdGhlIFB5dGhvbiBzaWRlIGlzIGdvaW5nCi8vIHRvIHBvbGwgZm9yIGNvbXBsZXRpb24gb2YgZWFjaCBzdGVwLgovLyBUaGlzIHVzZXMgYSBQcm9taXNlIHRvIGJsb2NrIHRoZSBweXRob24gc2lkZSBvbiBjb21wbGV0aW9uIG9mIGVhY2ggc3RlcCwKLy8gdGhlbiBwYXNzZXMgdGhlIHJlc3VsdCBvZiB0aGUgcHJldmlvdXMgc3RlcCBhcyB0aGUgaW5wdXQgdG8gdGhlIG5leHQgc3RlcC4KZnVuY3Rpb24gX3VwbG9hZEZpbGVzQ29udGludWUob3V0cHV0SWQpIHsKICBjb25zdCBvdXRwdXRFbGVtZW50ID0gZG9jdW1lbnQuZ2V0RWxlbWVudEJ5SWQob3V0cHV0SWQpOwogIGNvbnN0IHN0ZXBzID0gb3V0cHV0RWxlbWVudC5zdGVwczsKCiAgY29uc3QgbmV4dCA9IHN0ZXBzLm5leHQob3V0cHV0RWxlbWVudC5sYXN0UHJvbWlzZVZhbHVlKTsKICByZXR1cm4gUHJvbWlzZS5yZXNvbHZlKG5leHQudmFsdWUucHJvbWlzZSkudGhlbigodmFsdWUpID0+IHsKICAgIC8vIENhY2hlIHRoZSBsYXN0IHByb21pc2UgdmFsdWUgdG8gbWFrZSBpdCBhdmFpbGFibGUgdG8gdGhlIG5leHQKICAgIC8vIHN0ZXAgb2YgdGhlIGdlbmVyYXRvci4KICAgIG91dHB1dEVsZW1lbnQubGFzdFByb21pc2VWYWx1ZSA9IHZhbHVlOwogICAgcmV0dXJuIG5leHQudmFsdWUucmVzcG9uc2U7CiAgfSk7Cn0KCi8qKgogKiBHZW5lcmF0b3IgZnVuY3Rpb24gd2hpY2ggaXMgY2FsbGVkIGJldHdlZW4gZWFjaCBhc3luYyBzdGVwIG9mIHRoZSB1cGxvYWQKICogcHJvY2Vzcy4KICogQHBhcmFtIHtzdHJpbmd9IGlucHV0SWQgRWxlbWVudCBJRCBvZiB0aGUgaW5wdXQgZmlsZSBwaWNrZXIgZWxlbWVudC4KICogQHBhcmFtIHtzdHJpbmd9IG91dHB1dElkIEVsZW1lbnQgSUQgb2YgdGhlIG91dHB1dCBkaXNwbGF5LgogKiBAcmV0dXJuIHshSXRlcmFibGU8IU9iamVjdD59IEl0ZXJhYmxlIG9mIG5leHQgc3RlcHMuCiAqLwpmdW5jdGlvbiogdXBsb2FkRmlsZXNTdGVwKGlucHV0SWQsIG91dHB1dElkKSB7CiAgY29uc3QgaW5wdXRFbGVtZW50ID0gZG9jdW1lbnQuZ2V0RWxlbWVudEJ5SWQoaW5wdXRJZCk7CiAgaW5wdXRFbGVtZW50LmRpc2FibGVkID0gZmFsc2U7CgogIGNvbnN0IG91dHB1dEVsZW1lbnQgPSBkb2N1bWVudC5nZXRFbGVtZW50QnlJZChvdXRwdXRJZCk7CiAgb3V0cHV0RWxlbWVudC5pbm5lckhUTUwgPSAnJzsKCiAgY29uc3QgcGlja2VkUHJvbWlzZSA9IG5ldyBQcm9taXNlKChyZXNvbHZlKSA9PiB7CiAgICBpbnB1dEVsZW1lbnQuYWRkRXZlbnRMaXN0ZW5lcignY2hhbmdlJywgKGUpID0+IHsKICAgICAgcmVzb2x2ZShlLnRhcmdldC5maWxlcyk7CiAgICB9KTsKICB9KTsKCiAgY29uc3QgY2FuY2VsID0gZG9jdW1lbnQuY3JlYXRlRWxlbWVudCgnYnV0dG9uJyk7CiAgaW5wdXRFbGVtZW50LnBhcmVudEVsZW1lbnQuYXBwZW5kQ2hpbGQoY2FuY2VsKTsKICBjYW5jZWwudGV4dENvbnRlbnQgPSAnQ2FuY2VsIHVwbG9hZCc7CiAgY29uc3QgY2FuY2VsUHJvbWlzZSA9IG5ldyBQcm9taXNlKChyZXNvbHZlKSA9PiB7CiAgICBjYW5jZWwub25jbGljayA9ICgpID0+IHsKICAgICAgcmVzb2x2ZShudWxsKTsKICAgIH07CiAgfSk7CgogIC8vIENhbmNlbCB1cGxvYWQgaWYgdXNlciBoYXNuJ3QgcGlja2VkIGFueXRoaW5nIGluIHRpbWVvdXQuCiAgY29uc3QgdGltZW91dFByb21pc2UgPSBuZXcgUHJvbWlzZSgocmVzb2x2ZSkgPT4gewogICAgc2V0VGltZW91dCgoKSA9PiB7CiAgICAgIHJlc29sdmUobnVsbCk7CiAgICB9LCBGSUxFX0NIQU5HRV9USU1FT1VUX01TKTsKICB9KTsKCiAgLy8gV2FpdCBmb3IgdGhlIHVzZXIgdG8gcGljayB0aGUgZmlsZXMuCiAgY29uc3QgZmlsZXMgPSB5aWVsZCB7CiAgICBwcm9taXNlOiBQcm9taXNlLnJhY2UoW3BpY2tlZFByb21pc2UsIHRpbWVvdXRQcm9taXNlLCBjYW5jZWxQcm9taXNlXSksCiAgICByZXNwb25zZTogewogICAgICBhY3Rpb246ICdzdGFydGluZycsCiAgICB9CiAgfTsKCiAgaWYgKCFmaWxlcykgewogICAgcmV0dXJuIHsKICAgICAgcmVzcG9uc2U6IHsKICAgICAgICBhY3Rpb246ICdjb21wbGV0ZScsCiAgICAgIH0KICAgIH07CiAgfQoKICBjYW5jZWwucmVtb3ZlKCk7CgogIC8vIERpc2FibGUgdGhlIGlucHV0IGVsZW1lbnQgc2luY2UgZnVydGhlciBwaWNrcyBhcmUgbm90IGFsbG93ZWQuCiAgaW5wdXRFbGVtZW50LmRpc2FibGVkID0gdHJ1ZTsKCiAgZm9yIChjb25zdCBmaWxlIG9mIGZpbGVzKSB7CiAgICBjb25zdCBsaSA9IGRvY3VtZW50LmNyZWF0ZUVsZW1lbnQoJ2xpJyk7CiAgICBsaS5hcHBlbmQoc3BhbihmaWxlLm5hbWUsIHtmb250V2VpZ2h0OiAnYm9sZCd9KSk7CiAgICBsaS5hcHBlbmQoc3BhbigKICAgICAgICBgKCR7ZmlsZS50eXBlIHx8ICduL2EnfSkgLSAke2ZpbGUuc2l6ZX0gYnl0ZXMsIGAgKwogICAgICAgIGBsYXN0IG1vZGlmaWVkOiAkewogICAgICAgICAgICBmaWxlLmxhc3RNb2RpZmllZERhdGUgPyBmaWxlLmxhc3RNb2RpZmllZERhdGUudG9Mb2NhbGVEYXRlU3RyaW5nKCkgOgogICAgICAgICAgICAgICAgICAgICAgICAgICAgICAgICAgICAnbi9hJ30gLSBgKSk7CiAgICBjb25zdCBwZXJjZW50ID0gc3BhbignMCUgZG9uZScpOwogICAgbGkuYXBwZW5kQ2hpbGQocGVyY2VudCk7CgogICAgb3V0cHV0RWxlbWVudC5hcHBlbmRDaGlsZChsaSk7CgogICAgY29uc3QgZmlsZURhdGFQcm9taXNlID0gbmV3IFByb21pc2UoKHJlc29sdmUpID0+IHsKICAgICAgY29uc3QgcmVhZGVyID0gbmV3IEZpbGVSZWFkZXIoKTsKICAgICAgcmVhZGVyLm9ubG9hZCA9IChlKSA9PiB7CiAgICAgICAgcmVzb2x2ZShlLnRhcmdldC5yZXN1bHQpOwogICAgICB9OwogICAgICByZWFkZXIucmVhZEFzQXJyYXlCdWZmZXIoZmlsZSk7CiAgICB9KTsKICAgIC8vIFdhaXQgZm9yIHRoZSBkYXRhIHRvIGJlIHJlYWR5LgogICAgbGV0IGZpbGVEYXRhID0geWllbGQgewogICAgICBwcm9taXNlOiBmaWxlRGF0YVByb21pc2UsCiAgICAgIHJlc3BvbnNlOiB7CiAgICAgICAgYWN0aW9uOiAnY29udGludWUnLAogICAgICB9CiAgICB9OwoKICAgIC8vIFVzZSBhIGNodW5rZWQgc2VuZGluZyB0byBhdm9pZCBtZXNzYWdlIHNpemUgbGltaXRzLiBTZWUgYi82MjExNTY2MC4KICAgIGxldCBwb3NpdGlvbiA9IDA7CiAgICB3aGlsZSAocG9zaXRpb24gPCBmaWxlRGF0YS5ieXRlTGVuZ3RoKSB7CiAgICAgIGNvbnN0IGxlbmd0aCA9IE1hdGgubWluKGZpbGVEYXRhLmJ5dGVMZW5ndGggLSBwb3NpdGlvbiwgTUFYX1BBWUxPQURfU0laRSk7CiAgICAgIGNvbnN0IGNodW5rID0gbmV3IFVpbnQ4QXJyYXkoZmlsZURhdGEsIHBvc2l0aW9uLCBsZW5ndGgpOwogICAgICBwb3NpdGlvbiArPSBsZW5ndGg7CgogICAgICBjb25zdCBiYXNlNjQgPSBidG9hKFN0cmluZy5mcm9tQ2hhckNvZGUuYXBwbHkobnVsbCwgY2h1bmspKTsKICAgICAgeWllbGQgewogICAgICAgIHJlc3BvbnNlOiB7CiAgICAgICAgICBhY3Rpb246ICdhcHBlbmQnLAogICAgICAgICAgZmlsZTogZmlsZS5uYW1lLAogICAgICAgICAgZGF0YTogYmFzZTY0LAogICAgICAgIH0sCiAgICAgIH07CiAgICAgIHBlcmNlbnQudGV4dENvbnRlbnQgPQogICAgICAgICAgYCR7TWF0aC5yb3VuZCgocG9zaXRpb24gLyBmaWxlRGF0YS5ieXRlTGVuZ3RoKSAqIDEwMCl9JSBkb25lYDsKICAgIH0KICB9CgogIC8vIEFsbCBkb25lLgogIHlpZWxkIHsKICAgIHJlc3BvbnNlOiB7CiAgICAgIGFjdGlvbjogJ2NvbXBsZXRlJywKICAgIH0KICB9Owp9CgpzY29wZS5nb29nbGUgPSBzY29wZS5nb29nbGUgfHwge307CnNjb3BlLmdvb2dsZS5jb2xhYiA9IHNjb3BlLmdvb2dsZS5jb2xhYiB8fCB7fTsKc2NvcGUuZ29vZ2xlLmNvbGFiLl9maWxlcyA9IHsKICBfdXBsb2FkRmlsZXMsCiAgX3VwbG9hZEZpbGVzQ29udGludWUsCn07Cn0pKHNlbGYpOwo=",
              "ok": true,
              "headers": [
                [
                  "content-type",
                  "application/javascript"
                ]
              ],
              "status": 200,
              "status_text": ""
            }
          },
          "base_uri": "https://localhost:8080/",
          "height": 211
        }
      },
      "cell_type": "code",
      "source": [
        "from google.colab import files\n",
        "uploaded = files.upload()"
      ],
      "execution_count": 3,
      "outputs": [
        {
          "output_type": "display_data",
          "data": {
            "text/html": [
              "\n",
              "     <input type=\"file\" id=\"files-76fe58fb-5570-4afa-b3c5-a4c6e31e42d1\" name=\"files[]\" multiple disabled />\n",
              "     <output id=\"result-76fe58fb-5570-4afa-b3c5-a4c6e31e42d1\">\n",
              "      Upload widget is only available when the cell has been executed in the\n",
              "      current browser session. Please rerun this cell to enable.\n",
              "      </output>\n",
              "      <script src=\"/nbextensions/google.colab/files.js\"></script> "
            ],
            "text/plain": [
              "<IPython.core.display.HTML object>"
            ]
          },
          "metadata": {
            "tags": []
          }
        },
        {
          "output_type": "stream",
          "text": [
            "Saving vocab.txt to vocab (1).txt\n",
            "Saving x_test.csv to x_test (1).csv\n",
            "Saving x_train.csv to x_train (1).csv\n",
            "Saving y_test.csv to y_test (1).csv\n",
            "Saving y_train.csv to y_train (1).csv\n"
          ],
          "name": "stdout"
        }
      ]
    },
    {
      "metadata": {
        "id": "6FbuK-Gmupe2",
        "colab_type": "text"
      },
      "cell_type": "markdown",
      "source": [
        "\n",
        "# Import Dataset"
      ]
    },
    {
      "metadata": {
        "id": "RXEXLFZoupUr",
        "colab_type": "code",
        "outputId": "f1dadebc-2a7a-4f6e-f6b7-bee9e490658b",
        "colab": {
          "base_uri": "https://localhost:8080/",
          "height": 72
        }
      },
      "cell_type": "code",
      "source": [
        "x_train = pd.Series.from_csv('x_train.csv', sep='\\t')\n",
        "x_test = pd.Series.from_csv('x_test.csv', sep='\\t')\n",
        "y_train = pd.Series.from_csv('y_train.csv', sep='\\t', header=0)\n",
        "y_test = pd.Series.from_csv('y_test.csv', sep='\\t', header=0)"
      ],
      "execution_count": 4,
      "outputs": [
        {
          "output_type": "stream",
          "text": [
            "/usr/local/lib/python3.6/dist-packages/pandas/core/series.py:2890: FutureWarning: from_csv is deprecated. Please use read_csv(...) instead. Note that some of the default arguments are different, so please refer to the documentation for from_csv when changing your function calls\n",
            "  infer_datetime_format=infer_datetime_format)\n"
          ],
          "name": "stderr"
        }
      ]
    },
    {
      "metadata": {
        "id": "HMIMBSUa97Zm",
        "colab_type": "code",
        "colab": {}
      },
      "cell_type": "code",
      "source": [
        "x_train = x_train.iloc[1:, ]\n",
        "x_test = x_test.iloc[1:, ]"
      ],
      "execution_count": 0,
      "outputs": []
    },
    {
      "metadata": {
        "id": "MATiU_eixlin",
        "colab_type": "code",
        "outputId": "05671abb-d3fc-4f7f-bfde-3a99db0a98be",
        "colab": {
          "base_uri": "https://localhost:8080/",
          "height": 34
        }
      },
      "cell_type": "code",
      "source": [
        "x_train.shape"
      ],
      "execution_count": 6,
      "outputs": [
        {
          "output_type": "execute_result",
          "data": {
            "text/plain": [
              "(5561,)"
            ]
          },
          "metadata": {
            "tags": []
          },
          "execution_count": 6
        }
      ]
    },
    {
      "metadata": {
        "id": "OgJCr-PFx9d7",
        "colab_type": "code",
        "outputId": "91d05df2-f985-4941-9607-4dc77549f017",
        "colab": {
          "base_uri": "https://localhost:8080/",
          "height": 34
        }
      },
      "cell_type": "code",
      "source": [
        "x_test.shape"
      ],
      "execution_count": 7,
      "outputs": [
        {
          "output_type": "execute_result",
          "data": {
            "text/plain": [
              "(1854,)"
            ]
          },
          "metadata": {
            "tags": []
          },
          "execution_count": 7
        }
      ]
    },
    {
      "metadata": {
        "id": "vy9Nf-zGx-c_",
        "colab_type": "code",
        "outputId": "17bab874-04b9-4641-d943-fcefba8cb6ba",
        "colab": {
          "base_uri": "https://localhost:8080/",
          "height": 34
        }
      },
      "cell_type": "code",
      "source": [
        "y_train.shape"
      ],
      "execution_count": 8,
      "outputs": [
        {
          "output_type": "execute_result",
          "data": {
            "text/plain": [
              "(5561,)"
            ]
          },
          "metadata": {
            "tags": []
          },
          "execution_count": 8
        }
      ]
    },
    {
      "metadata": {
        "id": "QNMHK0sAx_h_",
        "colab_type": "code",
        "outputId": "1e816ff9-3bad-4b6b-8881-a354b05d355f",
        "colab": {
          "base_uri": "https://localhost:8080/",
          "height": 34
        }
      },
      "cell_type": "code",
      "source": [
        "y_test.shape"
      ],
      "execution_count": 9,
      "outputs": [
        {
          "output_type": "execute_result",
          "data": {
            "text/plain": [
              "(1854,)"
            ]
          },
          "metadata": {
            "tags": []
          },
          "execution_count": 9
        }
      ]
    },
    {
      "metadata": {
        "id": "lm9Jh2reugBZ",
        "colab_type": "text"
      },
      "cell_type": "markdown",
      "source": [
        "# Import Vocabulary"
      ]
    },
    {
      "metadata": {
        "id": "1Oe4eWeHr-fY",
        "colab_type": "code",
        "outputId": "3642e2b7-3eb2-4758-da46-4e6b346ce089",
        "colab": {
          "base_uri": "https://localhost:8080/",
          "height": 34
        }
      },
      "cell_type": "code",
      "source": [
        "def load_doc(filename):\n",
        "    file = codecs.open(filename, 'r', \"utf8\")\n",
        "    text = file.read()\n",
        "    file.close()\n",
        "    return text\n",
        "\n",
        "vocab_filename = 'vocab.txt'\n",
        "vocab = load_doc(vocab_filename)\n",
        "vocab = vocab.split()\n",
        "vocab = set(vocab)\n",
        "print('The size of vocab : ', len(vocab))"
      ],
      "execution_count": 10,
      "outputs": [
        {
          "output_type": "stream",
          "text": [
            "The size of vocab :  2671\n"
          ],
          "name": "stdout"
        }
      ]
    },
    {
      "metadata": {
        "id": "S-YylKUoqElV",
        "colab_type": "text"
      },
      "cell_type": "markdown",
      "source": [
        "# Vectorize"
      ]
    },
    {
      "metadata": {
        "id": "aCPR-DfhyUWi",
        "colab_type": "code",
        "colab": {}
      },
      "cell_type": "code",
      "source": [
        "stop_set = stopwords_output(\"Persian\", \"set\")\n",
        "stop_useful = ['سلام', 'دیجی', 'کالا']\n",
        "useful_set = ['خوب', 'بد', 'کاملا', 'کاملاً', 'بسیار', 'واقعا', 'واقعاً', 'فوق', 'بخش', 'طرفدارترین', 'نیست', 'هست']\n",
        "puncs = ['،', '.', ',', ':', ';']\n",
        "\n",
        "for word in stop_useful:\n",
        "  if word not in stop_set:\n",
        "    stop_set.add(word)\n",
        "\n",
        "for word in useful_set:\n",
        "  if word in stop_set:\n",
        "    stop_set.remove(word)\n",
        "  if word not in vocab:\n",
        "    vocab.add(word)\n",
        "\n",
        "# turn a doc into clean tokens\n",
        "def clean_doc(doc, vocabulary):\n",
        "    tokenized = word_tokenize(doc)  # Tokenize text\n",
        "    tokens = []\n",
        "    for t in tokenized:\n",
        "      temp = t\n",
        "      for p in puncs:\n",
        "        temp = temp.replace(p, '')\n",
        "      tokens.append(temp)\n",
        "    tokens = [w for w in tokens if not w in stop_set]    # Remove stop words\n",
        "    tokens = [w for w in tokens if not len(w) <= 1]\n",
        "    tokens = [w for w in tokens if not w.isdigit()]\n",
        "    tokens = [w for w in tokens if w in vocabulary]\n",
        "    tokens = ' '.join(tokens)\n",
        "    return tokens\n",
        "\n",
        "\n",
        "train_docs = list()\n",
        "for document in x_train:\n",
        "    train_docs.append(clean_doc(document, vocab))"
      ],
      "execution_count": 0,
      "outputs": []
    },
    {
      "metadata": {
        "id": "yXOfMkE1yMOG",
        "colab_type": "code",
        "colab": {}
      },
      "cell_type": "code",
      "source": [
        "num_words = 2500\n",
        "\n",
        "# create the tokenizer\n",
        "tokenizer = Tokenizer(num_words=num_words)\n",
        "\n",
        "# fit the tokenizer on the documents\n",
        "tokenizer.fit_on_texts(train_docs)\n",
        "\n",
        "# sequence encode\n",
        "encoded_docs = tokenizer.texts_to_sequences(train_docs)\n",
        "\n",
        "# pad sequences\n",
        "max_length = max([len(s.split()) for s in train_docs])\n",
        "x_train = pad_sequences(encoded_docs, maxlen=max_length, padding='post')\n",
        "\n",
        "test_docs = list()\n",
        "for document in x_test:\n",
        "    test_docs.append(clean_doc(document, vocab))\n",
        "\n",
        "# define vocabulary size (largest integer value)\n",
        "vocab_size = len(tokenizer.word_index) + 1"
      ],
      "execution_count": 0,
      "outputs": []
    },
    {
      "metadata": {
        "id": "o8NcUFxQpN1f",
        "colab_type": "code",
        "colab": {}
      },
      "cell_type": "code",
      "source": [
        "encoded_docs = tokenizer.texts_to_sequences(test_docs)\n",
        "x_test = pad_sequences(encoded_docs, maxlen=max_length, padding='post')\n"
      ],
      "execution_count": 0,
      "outputs": []
    },
    {
      "metadata": {
        "id": "UGzX4V3J2U9F",
        "colab_type": "text"
      },
      "cell_type": "markdown",
      "source": [
        "# CNN Model"
      ]
    },
    {
      "metadata": {
        "id": "8mf4MYORgBOt",
        "colab_type": "code",
        "colab": {}
      },
      "cell_type": "code",
      "source": [
        "categorical_y_train = to_categorical(y_train, 5)\n",
        "categorical_y_test = to_categorical(y_test, 5)"
      ],
      "execution_count": 0,
      "outputs": []
    },
    {
      "metadata": {
        "id": "8LEAiEhNfy-a",
        "colab_type": "text"
      },
      "cell_type": "markdown",
      "source": [
        "## Model 1"
      ]
    },
    {
      "metadata": {
        "id": "MadF-98Rufk-",
        "colab_type": "code",
        "outputId": "eb83de52-b8ec-47a7-fa2d-5e0ba2247635",
        "colab": {
          "base_uri": "https://localhost:8080/",
          "height": 834
        }
      },
      "cell_type": "code",
      "source": [
        "model = Sequential()\n",
        "model.add(Embedding(vocab_size, 2000, input_length=max_length))\n",
        "model.add(Conv1D(filters=64, kernel_size=8, activation='relu'))\n",
        "model.add(MaxPooling1D(pool_size=2))\n",
        "model.add(Flatten())\n",
        "model.add(Dense(500, activation='sigmoid'))\n",
        "model.add(Dense(500, activation='sigmoid'))\n",
        "model.add(Dense(5, activation='softmax'))\n",
        "\n",
        "# optimizers.RMSprop(lr=0.001, rho=0.9, epsilon=None, decay=0.0)\n",
        "# optimizers.Adagrad(lr=0.01, epsilon=None, decay=0.0)\n",
        "# optimizers.Adadelta(lr=1.0, rho=0.95, epsilon=None, decay=0.0)\n",
        "# optimizers.Adam(lr=0.001, beta_1=0.9, beta_2=0.999, epsilon=None, decay=0.0, amsgrad=False)\n",
        "\n",
        "model.compile(loss='categorical_crossentropy',\n",
        "              optimizer='adam',\n",
        "              metrics=[categorical_accuracy])\n",
        "\n",
        "model.summary()\n",
        "batch_size = 16\n",
        "epochs = 12\n",
        "hist = model.fit(x_train, categorical_y_train, batch_size=batch_size, epochs=epochs)\n",
        "\n",
        "loss, acc = model.evaluate(x_test, categorical_y_test, verbose=0)\n",
        "print('Test Accuracy: %f' % (acc*100))"
      ],
      "execution_count": 15,
      "outputs": [
        {
          "output_type": "stream",
          "text": [
            "_________________________________________________________________\n",
            "Layer (type)                 Output Shape              Param #   \n",
            "=================================================================\n",
            "embedding_1 (Embedding)      (None, 181, 2000)         5176000   \n",
            "_________________________________________________________________\n",
            "conv1d_1 (Conv1D)            (None, 174, 64)           1024064   \n",
            "_________________________________________________________________\n",
            "max_pooling1d_1 (MaxPooling1 (None, 87, 64)            0         \n",
            "_________________________________________________________________\n",
            "flatten_1 (Flatten)          (None, 5568)              0         \n",
            "_________________________________________________________________\n",
            "dense_1 (Dense)              (None, 500)               2784500   \n",
            "_________________________________________________________________\n",
            "dense_2 (Dense)              (None, 500)               250500    \n",
            "_________________________________________________________________\n",
            "dense_3 (Dense)              (None, 5)                 2505      \n",
            "=================================================================\n",
            "Total params: 9,237,569\n",
            "Trainable params: 9,237,569\n",
            "Non-trainable params: 0\n",
            "_________________________________________________________________\n",
            "Epoch 1/12\n",
            "5561/5561 [==============================] - 13s 2ms/step - loss: 1.1543 - categorical_accuracy: 0.5112\n",
            "Epoch 2/12\n",
            "5561/5561 [==============================] - 11s 2ms/step - loss: 0.8514 - categorical_accuracy: 0.6695\n",
            "Epoch 3/12\n",
            "5561/5561 [==============================] - 11s 2ms/step - loss: 0.5413 - categorical_accuracy: 0.8087\n",
            "Epoch 4/12\n",
            "5561/5561 [==============================] - 11s 2ms/step - loss: 0.3057 - categorical_accuracy: 0.9022\n",
            "Epoch 5/12\n",
            "5561/5561 [==============================] - 11s 2ms/step - loss: 0.1981 - categorical_accuracy: 0.9414\n",
            "Epoch 6/12\n",
            "5561/5561 [==============================] - 11s 2ms/step - loss: 0.1240 - categorical_accuracy: 0.9671\n",
            "Epoch 7/12\n",
            "5561/5561 [==============================] - 11s 2ms/step - loss: 0.0909 - categorical_accuracy: 0.9746\n",
            "Epoch 8/12\n",
            "5561/5561 [==============================] - 11s 2ms/step - loss: 0.0693 - categorical_accuracy: 0.9797\n",
            "Epoch 9/12\n",
            "5561/5561 [==============================] - 11s 2ms/step - loss: 0.0531 - categorical_accuracy: 0.9827\n",
            "Epoch 10/12\n",
            "5561/5561 [==============================] - 11s 2ms/step - loss: 0.0505 - categorical_accuracy: 0.9831\n",
            "Epoch 11/12\n",
            "5561/5561 [==============================] - 11s 2ms/step - loss: 0.0511 - categorical_accuracy: 0.9824\n",
            "Epoch 12/12\n",
            "5561/5561 [==============================] - 11s 2ms/step - loss: 0.1052 - categorical_accuracy: 0.9653\n",
            "Test Accuracy: 59.169364\n"
          ],
          "name": "stdout"
        }
      ]
    },
    {
      "metadata": {
        "id": "JQxADOi8f4ZT",
        "colab_type": "text"
      },
      "cell_type": "markdown",
      "source": [
        "## Model 2"
      ]
    },
    {
      "metadata": {
        "id": "AyHNPHpdpyAs",
        "colab_type": "code",
        "colab": {
          "base_uri": "https://localhost:8080/",
          "height": 905
        },
        "outputId": "069957c3-2d7d-4c3f-fd30-f8d63f0abe5b"
      },
      "cell_type": "code",
      "source": [
        "inp = Input(shape=(max_length, ))\n",
        "x = Embedding(vocab_size, 2000, input_length=max_length)(inp)\n",
        "x = Conv1D(filters=64, kernel_size=4, activation='relu', padding='same')(x)\n",
        "x = MaxPooling1D(pool_size=2)(x)\n",
        "x = Conv1D(filters=64, kernel_size=8, activation='relu', padding='same')(x)\n",
        "x = MaxPooling1D(pool_size=2)(x)\n",
        "x = Conv1D(filters=64, kernel_size=16, activation='relu', padding='same')(x)\n",
        "x = GlobalMaxPooling1D()(x)\n",
        "x = Dropout(0.5)(x)\n",
        "x = Dense(500, activation=\"sigmoid\")(x)\n",
        "x = Dense(5, activation=\"softmax\")(x)\n",
        "\n",
        "# optimizers.RMSprop(lr=0.001, rho=0.9, epsilon=None, decay=0.0)\n",
        "# optimizers.Adagrad(lr=0.01, epsilon=None, decay=0.0)\n",
        "# optimizers.Adadelta(lr=1.0, rho=0.95, epsilon=None, decay=0.0)\n",
        "# optimizers.Adam(lr=0.001, beta_1=0.9, beta_2=0.999, epsilon=None, decay=0.0, amsgrad=False)\n",
        "\n",
        "opt = optimizers.Adam(lr=0.001, beta_1=0.9, beta_2=0.999, epsilon=None, decay=0.0, amsgrad=False)\n",
        "\n",
        "model = Model(inputs=inp, outputs=x)\n",
        "model.compile(loss='categorical_crossentropy',\n",
        "              optimizer=opt,\n",
        "              metrics=[categorical_accuracy])\n",
        "\n",
        "model.summary()\n",
        "batch_size = 64\n",
        "epochs = 10\n",
        "hist = model.fit(x_train, categorical_y_train, batch_size=batch_size, epochs=epochs)\n",
        "\n",
        "loss, acc = model.evaluate(x_test, categorical_y_test, verbose=0)\n",
        "print('Test Accuracy: %f' % (acc*100))"
      ],
      "execution_count": 19,
      "outputs": [
        {
          "output_type": "stream",
          "text": [
            "_________________________________________________________________\n",
            "Layer (type)                 Output Shape              Param #   \n",
            "=================================================================\n",
            "input_2 (InputLayer)         (None, 181)               0         \n",
            "_________________________________________________________________\n",
            "embedding_3 (Embedding)      (None, 181, 2000)         5176000   \n",
            "_________________________________________________________________\n",
            "conv1d_5 (Conv1D)            (None, 181, 64)           512064    \n",
            "_________________________________________________________________\n",
            "max_pooling1d_4 (MaxPooling1 (None, 90, 64)            0         \n",
            "_________________________________________________________________\n",
            "conv1d_6 (Conv1D)            (None, 90, 64)            32832     \n",
            "_________________________________________________________________\n",
            "max_pooling1d_5 (MaxPooling1 (None, 45, 64)            0         \n",
            "_________________________________________________________________\n",
            "conv1d_7 (Conv1D)            (None, 45, 64)            65600     \n",
            "_________________________________________________________________\n",
            "global_max_pooling1d_1 (Glob (None, 64)                0         \n",
            "_________________________________________________________________\n",
            "dropout_1 (Dropout)          (None, 64)                0         \n",
            "_________________________________________________________________\n",
            "dense_4 (Dense)              (None, 500)               32500     \n",
            "_________________________________________________________________\n",
            "dense_5 (Dense)              (None, 5)                 2505      \n",
            "=================================================================\n",
            "Total params: 5,821,501\n",
            "Trainable params: 5,821,501\n",
            "Non-trainable params: 0\n",
            "_________________________________________________________________\n",
            "Epoch 1/10\n",
            "5561/5561 [==============================] - 6s 1ms/step - loss: 1.2869 - categorical_accuracy: 0.4368\n",
            "Epoch 2/10\n",
            "5561/5561 [==============================] - 5s 845us/step - loss: 1.0019 - categorical_accuracy: 0.5936\n",
            "Epoch 3/10\n",
            "5561/5561 [==============================] - 5s 844us/step - loss: 0.8370 - categorical_accuracy: 0.6860\n",
            "Epoch 4/10\n",
            "5561/5561 [==============================] - 5s 843us/step - loss: 0.6851 - categorical_accuracy: 0.7551\n",
            "Epoch 5/10\n",
            "5561/5561 [==============================] - 5s 855us/step - loss: 0.5441 - categorical_accuracy: 0.8135\n",
            "Epoch 6/10\n",
            "5561/5561 [==============================] - 5s 857us/step - loss: 0.3979 - categorical_accuracy: 0.8745\n",
            "Epoch 7/10\n",
            "5561/5561 [==============================] - 5s 849us/step - loss: 0.3053 - categorical_accuracy: 0.9101\n",
            "Epoch 8/10\n",
            "5561/5561 [==============================] - 5s 845us/step - loss: 0.2378 - categorical_accuracy: 0.9336\n",
            "Epoch 9/10\n",
            "5561/5561 [==============================] - 5s 847us/step - loss: 0.1833 - categorical_accuracy: 0.9502\n",
            "Epoch 10/10\n",
            "5561/5561 [==============================] - 5s 846us/step - loss: 0.1589 - categorical_accuracy: 0.9577\n",
            "Test Accuracy: 60.302050\n"
          ],
          "name": "stdout"
        }
      ]
    },
    {
      "metadata": {
        "id": "7AwXfRXpgD5O",
        "colab_type": "text"
      },
      "cell_type": "markdown",
      "source": [
        "## Model 3 (A Multi-Cannel Convolutional Neural Network)\n",
        " [See More](https://machinelearningmastery.com/develop-n-gram-multichannel-convolutional-neural-network-sentiment-analysis/)"
      ]
    },
    {
      "metadata": {
        "id": "NHFiehZ6gHZh",
        "colab_type": "code",
        "colab": {
          "base_uri": "https://localhost:8080/",
          "height": 1296
        },
        "outputId": "aef1f336-0659-486f-ee02-8bf8b9629966"
      },
      "cell_type": "code",
      "source": [
        "# Channel 1\n",
        "inputs1 = Input(shape=(max_length, ))\n",
        "emb1 = Embedding(vocab_size, 2000, input_length=max_length)(inputs1)\n",
        "conv1 = Conv1D(filters=32, kernel_size=2, activation='relu')(emb1)\n",
        "drop1 = Dropout(0.5)(conv1)\n",
        "pool1 = MaxPooling1D(pool_size=2)(drop1)\n",
        "flat1 = Flatten()(pool1)\n",
        "\n",
        "# Channel 2\n",
        "inputs2 = Input(shape=(max_length, ))\n",
        "emb2 = Embedding(vocab_size, 2000, input_length=max_length)(inputs2)\n",
        "conv2 = Conv1D(filters=32, kernel_size=4, activation='relu')(emb2)\n",
        "drop2 = Dropout(0.5)(conv2)\n",
        "pool2 = MaxPooling1D(pool_size=2)(drop2)\n",
        "flat2 = Flatten()(pool2)\n",
        "\n",
        "# Channel 3\n",
        "inputs3 = Input(shape=(max_length, ))\n",
        "emb3 = Embedding(vocab_size, 2000, input_length=max_length)(inputs3)\n",
        "conv3 = Conv1D(filters=32, kernel_size=6, activation='relu')(emb3)\n",
        "drop3 = Dropout(0.5)(conv3)\n",
        "pool3 = MaxPooling1D(pool_size=2)(drop3)\n",
        "flat3 = Flatten()(pool3)\n",
        "\n",
        "# Merge Channels\n",
        "merged = concatenate([flat1, flat2, flat3])\n",
        "\n",
        "dense1 = Dense(500, activation=\"relu\")(merged)\n",
        "outputs1 = Dense(5, activation=\"softmax\")(dense1)\n",
        "\n",
        "# optimizers.RMSprop(lr=0.001, rho=0.9, epsilon=None, decay=0.0)\n",
        "# optimizers.Adagrad(lr=0.01, epsilon=None, decay=0.0)\n",
        "# optimizers.Adadelta(lr=1.0, rho=0.95, epsilon=None, decay=0.0)\n",
        "# optimizers.Adam(lr=0.001, beta_1=0.9, beta_2=0.999, epsilon=None, decay=0.0, amsgrad=False)\n",
        "\n",
        "model = Model(inputs=[inputs1, inputs2, inputs3], outputs=outputs1)\n",
        "\n",
        "model.compile(loss='categorical_crossentropy',\n",
        "              optimizer='adam',\n",
        "              metrics=[categorical_accuracy])\n",
        "\n",
        "model.summary()\n",
        "batch_size = 16\n",
        "epochs = 10\n",
        "hist = model.fit([x_train, x_train, x_train], categorical_y_train, batch_size=batch_size, epochs=epochs)\n",
        "\n",
        "loss, acc = model.evaluate([x_test, x_test, x_test], categorical_y_test, verbose=0)\n",
        "print('Test Accuracy: %f' % (acc*100))"
      ],
      "execution_count": 27,
      "outputs": [
        {
          "output_type": "stream",
          "text": [
            "__________________________________________________________________________________________________\n",
            "Layer (type)                    Output Shape         Param #     Connected to                     \n",
            "==================================================================================================\n",
            "input_21 (InputLayer)           (None, 181)          0                                            \n",
            "__________________________________________________________________________________________________\n",
            "input_22 (InputLayer)           (None, 181)          0                                            \n",
            "__________________________________________________________________________________________________\n",
            "input_23 (InputLayer)           (None, 181)          0                                            \n",
            "__________________________________________________________________________________________________\n",
            "embedding_22 (Embedding)        (None, 181, 2000)    5176000     input_21[0][0]                   \n",
            "__________________________________________________________________________________________________\n",
            "embedding_23 (Embedding)        (None, 181, 2000)    5176000     input_22[0][0]                   \n",
            "__________________________________________________________________________________________________\n",
            "embedding_24 (Embedding)        (None, 181, 2000)    5176000     input_23[0][0]                   \n",
            "__________________________________________________________________________________________________\n",
            "conv1d_26 (Conv1D)              (None, 180, 32)      128032      embedding_22[0][0]               \n",
            "__________________________________________________________________________________________________\n",
            "conv1d_27 (Conv1D)              (None, 178, 32)      256032      embedding_23[0][0]               \n",
            "__________________________________________________________________________________________________\n",
            "conv1d_28 (Conv1D)              (None, 176, 32)      384032      embedding_24[0][0]               \n",
            "__________________________________________________________________________________________________\n",
            "dropout_20 (Dropout)            (None, 180, 32)      0           conv1d_26[0][0]                  \n",
            "__________________________________________________________________________________________________\n",
            "dropout_21 (Dropout)            (None, 178, 32)      0           conv1d_27[0][0]                  \n",
            "__________________________________________________________________________________________________\n",
            "dropout_22 (Dropout)            (None, 176, 32)      0           conv1d_28[0][0]                  \n",
            "__________________________________________________________________________________________________\n",
            "max_pooling1d_24 (MaxPooling1D) (None, 90, 32)       0           dropout_20[0][0]                 \n",
            "__________________________________________________________________________________________________\n",
            "max_pooling1d_25 (MaxPooling1D) (None, 89, 32)       0           dropout_21[0][0]                 \n",
            "__________________________________________________________________________________________________\n",
            "max_pooling1d_26 (MaxPooling1D) (None, 88, 32)       0           dropout_22[0][0]                 \n",
            "__________________________________________________________________________________________________\n",
            "flatten_20 (Flatten)            (None, 2880)         0           max_pooling1d_24[0][0]           \n",
            "__________________________________________________________________________________________________\n",
            "flatten_21 (Flatten)            (None, 2848)         0           max_pooling1d_25[0][0]           \n",
            "__________________________________________________________________________________________________\n",
            "flatten_22 (Flatten)            (None, 2816)         0           max_pooling1d_26[0][0]           \n",
            "__________________________________________________________________________________________________\n",
            "concatenate_6 (Concatenate)     (None, 8544)         0           flatten_20[0][0]                 \n",
            "                                                                 flatten_21[0][0]                 \n",
            "                                                                 flatten_22[0][0]                 \n",
            "__________________________________________________________________________________________________\n",
            "dense_16 (Dense)                (None, 500)          4272500     concatenate_6[0][0]              \n",
            "__________________________________________________________________________________________________\n",
            "dense_17 (Dense)                (None, 5)            2505        dense_16[0][0]                   \n",
            "==================================================================================================\n",
            "Total params: 20,571,101\n",
            "Trainable params: 20,571,101\n",
            "Non-trainable params: 0\n",
            "__________________________________________________________________________________________________\n",
            "Epoch 1/10\n",
            "5561/5561 [==============================] - 19s 3ms/step - loss: 1.1524 - categorical_accuracy: 0.5157\n",
            "Epoch 2/10\n",
            "5561/5561 [==============================] - 17s 3ms/step - loss: 0.7915 - categorical_accuracy: 0.7015\n",
            "Epoch 3/10\n",
            "5561/5561 [==============================] - 17s 3ms/step - loss: 0.4536 - categorical_accuracy: 0.8383\n",
            "Epoch 4/10\n",
            "5561/5561 [==============================] - 17s 3ms/step - loss: 0.3065 - categorical_accuracy: 0.9004\n",
            "Epoch 5/10\n",
            "5561/5561 [==============================] - 17s 3ms/step - loss: 0.2378 - categorical_accuracy: 0.9193\n",
            "Epoch 6/10\n",
            "5561/5561 [==============================] - 18s 3ms/step - loss: 0.1839 - categorical_accuracy: 0.9398\n",
            "Epoch 7/10\n",
            "5561/5561 [==============================] - 17s 3ms/step - loss: 0.1836 - categorical_accuracy: 0.9417\n",
            "Epoch 8/10\n",
            "5561/5561 [==============================] - 17s 3ms/step - loss: 0.2112 - categorical_accuracy: 0.9372\n",
            "Epoch 9/10\n",
            "5561/5561 [==============================] - 17s 3ms/step - loss: 0.1890 - categorical_accuracy: 0.9392\n",
            "Epoch 10/10\n",
            "5561/5561 [==============================] - 17s 3ms/step - loss: 0.1542 - categorical_accuracy: 0.9475\n",
            "Test Accuracy: 57.820928\n"
          ],
          "name": "stdout"
        }
      ]
    },
    {
      "metadata": {
        "id": "Bqgla9srgRve",
        "colab_type": "code",
        "colab": {}
      },
      "cell_type": "code",
      "source": [
        ""
      ],
      "execution_count": 0,
      "outputs": []
    }
  ]
}