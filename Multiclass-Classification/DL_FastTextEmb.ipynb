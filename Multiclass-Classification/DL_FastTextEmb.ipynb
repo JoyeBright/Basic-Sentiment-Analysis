{
  "nbformat": 4,
  "nbformat_minor": 0,
  "metadata": {
    "colab": {
      "name": "DL-FastTextEmb.ipynb",
      "provenance": [],
      "collapsed_sections": [],
      "include_colab_link": true
    },
    "kernelspec": {
      "name": "python3",
      "display_name": "Python 3"
    },
    "accelerator": "GPU"
  },
  "cells": [
    {
      "cell_type": "markdown",
      "metadata": {
        "id": "view-in-github",
        "colab_type": "text"
      },
      "source": [
        "<a href=\"https://colab.research.google.com/github/parsa-abbasi/Sentiment-Analysis/blob/master/Multiclass-Classification/DL_FastTextEmb.ipynb\" target=\"_parent\"><img src=\"https://colab.research.google.com/assets/colab-badge.svg\" alt=\"Open In Colab\"/></a>"
      ]
    },
    {
      "cell_type": "markdown",
      "metadata": {
        "id": "QthdEc8Cp5Nt",
        "colab_type": "text"
      },
      "source": [
        "# Requirements"
      ]
    },
    {
      "cell_type": "markdown",
      "metadata": {
        "id": "m1eImT5Ehsfs",
        "colab_type": "text"
      },
      "source": [
        "## Install required libraries"
      ]
    },
    {
      "cell_type": "code",
      "metadata": {
        "id": "YYUgxQ8TQ0RM",
        "colab_type": "code",
        "colab": {
          "base_uri": "https://localhost:8080/",
          "height": 158
        },
        "outputId": "8a36a3df-613f-435d-c446-c850dfe9fe14"
      },
      "source": [
        "!pip install matplotlib==3.1.0"
      ],
      "execution_count": 1,
      "outputs": [
        {
          "output_type": "stream",
          "text": [
            "Requirement already satisfied: matplotlib==3.1.0 in /usr/local/lib/python3.6/dist-packages (3.1.0)\n",
            "Requirement already satisfied: pyparsing!=2.0.4,!=2.1.2,!=2.1.6,>=2.0.1 in /usr/local/lib/python3.6/dist-packages (from matplotlib==3.1.0) (2.4.5)\n",
            "Requirement already satisfied: python-dateutil>=2.1 in /usr/local/lib/python3.6/dist-packages (from matplotlib==3.1.0) (2.6.1)\n",
            "Requirement already satisfied: kiwisolver>=1.0.1 in /usr/local/lib/python3.6/dist-packages (from matplotlib==3.1.0) (1.1.0)\n",
            "Requirement already satisfied: cycler>=0.10 in /usr/local/lib/python3.6/dist-packages (from matplotlib==3.1.0) (0.10.0)\n",
            "Requirement already satisfied: numpy>=1.11 in /usr/local/lib/python3.6/dist-packages (from matplotlib==3.1.0) (1.17.4)\n",
            "Requirement already satisfied: six>=1.5 in /usr/local/lib/python3.6/dist-packages (from python-dateutil>=2.1->matplotlib==3.1.0) (1.12.0)\n",
            "Requirement already satisfied: setuptools in /usr/local/lib/python3.6/dist-packages (from kiwisolver>=1.0.1->matplotlib==3.1.0) (42.0.2)\n"
          ],
          "name": "stdout"
        }
      ]
    },
    {
      "cell_type": "code",
      "metadata": {
        "id": "0yHgWvqWBAqS",
        "colab_type": "code",
        "outputId": "0d6a5968-d5f0-47c3-b464-c73d27d3bd55",
        "colab": {
          "base_uri": "https://localhost:8080/",
          "height": 105
        }
      },
      "source": [
        "!pip install hazm\n",
        "!pip install stopwords_guilannlp"
      ],
      "execution_count": 2,
      "outputs": [
        {
          "output_type": "stream",
          "text": [
            "Requirement already satisfied: hazm in /usr/local/lib/python3.6/dist-packages (0.7.0)\n",
            "Requirement already satisfied: libwapiti>=0.2.1; platform_system != \"Windows\" in /usr/local/lib/python3.6/dist-packages (from hazm) (0.2.1)\n",
            "Requirement already satisfied: nltk==3.3 in /usr/local/lib/python3.6/dist-packages (from hazm) (3.3)\n",
            "Requirement already satisfied: six in /usr/local/lib/python3.6/dist-packages (from libwapiti>=0.2.1; platform_system != \"Windows\"->hazm) (1.12.0)\n",
            "Requirement already satisfied: stopwords_guilannlp in /usr/local/lib/python3.6/dist-packages (13.2019.3.5)\n"
          ],
          "name": "stdout"
        }
      ]
    },
    {
      "cell_type": "markdown",
      "metadata": {
        "id": "CcZrLDljhnub",
        "colab_type": "text"
      },
      "source": [
        "## Get FastText"
      ]
    },
    {
      "cell_type": "markdown",
      "metadata": {
        "id": "nki6x2MGbEF-",
        "colab_type": "text"
      },
      "source": [
        "Download FastText word vectors file for Persian\n",
        "\n",
        "(The list of all model vector files are available [here](https://fasttext.cc/docs/en/pretrained-vectors.html))"
      ]
    },
    {
      "cell_type": "code",
      "metadata": {
        "id": "4wCOcr1ao1VX",
        "colab_type": "code",
        "outputId": "e743e3f0-223a-486d-d75f-3778551e6f77",
        "colab": {
          "base_uri": "https://localhost:8080/",
          "height": 212
        }
      },
      "source": [
        "!wget https://dl.fbaipublicfiles.com/fasttext/vectors-wiki/wiki.fa.vec"
      ],
      "execution_count": 3,
      "outputs": [
        {
          "output_type": "stream",
          "text": [
            "--2020-01-01 13:21:29--  https://dl.fbaipublicfiles.com/fasttext/vectors-wiki/wiki.fa.vec\n",
            "Resolving dl.fbaipublicfiles.com (dl.fbaipublicfiles.com)... 104.20.22.166, 104.20.6.166, 2606:4700:10::6814:16a6, ...\n",
            "Connecting to dl.fbaipublicfiles.com (dl.fbaipublicfiles.com)|104.20.22.166|:443... connected.\n",
            "HTTP request sent, awaiting response... 200 OK\n",
            "Length: 1105157170 (1.0G) [binary/octet-stream]\n",
            "Saving to: ‘wiki.fa.vec’\n",
            "\n",
            "wiki.fa.vec         100%[===================>]   1.03G  26.0MB/s    in 41s     \n",
            "\n",
            "2020-01-01 13:22:11 (25.8 MB/s) - ‘wiki.fa.vec’ saved [1105157170/1105157170]\n",
            "\n"
          ],
          "name": "stdout"
        }
      ]
    },
    {
      "cell_type": "markdown",
      "metadata": {
        "id": "qHENRyUpp-fb",
        "colab_type": "text"
      },
      "source": [
        "## Import Libraries"
      ]
    },
    {
      "cell_type": "code",
      "metadata": {
        "id": "DyJ0hqR8nku1",
        "colab_type": "code",
        "outputId": "d313e28a-d977-45b1-b6e0-f29cca454538",
        "colab": {
          "base_uri": "https://localhost:8080/",
          "height": 81
        }
      },
      "source": [
        "# General\n",
        "import numpy as np\n",
        "import pandas as pd\n",
        "import codecs\n",
        "from google.colab import files\n",
        "# Word Embedding\n",
        "from gensim.models import KeyedVectors\n",
        "# Keras\n",
        "from keras import optimizers\n",
        "from keras.models import Model, Sequential\n",
        "from keras.layers import Dense, Input, Embedding, Dropout\n",
        "from keras.layers import GlobalMaxPool1D, MaxPooling1D, GlobalMaxPooling1D\n",
        "from keras.layers import CuDNNLSTM, LSTM, Bidirectional\n",
        "from keras.layers.convolutional import Conv1D\n",
        "from keras.utils.np_utils import to_categorical\n",
        "from keras.metrics import categorical_accuracy\n",
        "from keras.utils import plot_model\n",
        "from keras.preprocessing.text import Tokenizer\n",
        "from keras.preprocessing.sequence import pad_sequences\n",
        "# Preprocessing\n",
        "from stopwords_guilannlp import stopwords_output\n",
        "from hazm import *\n",
        "# Visualization\n",
        "%matplotlib inline\n",
        "import matplotlib.pyplot as plt\n",
        "from keras.utils import plot_model\n",
        "# Measuring metrics\n",
        "from sklearn.metrics import f1_score"
      ],
      "execution_count": 4,
      "outputs": [
        {
          "output_type": "stream",
          "text": [
            "Using TensorFlow backend.\n"
          ],
          "name": "stderr"
        },
        {
          "output_type": "display_data",
          "data": {
            "text/html": [
              "<p style=\"color: red;\">\n",
              "The default version of TensorFlow in Colab will soon switch to TensorFlow 2.x.<br>\n",
              "We recommend you <a href=\"https://www.tensorflow.org/guide/migrate\" target=\"_blank\">upgrade</a> now \n",
              "or ensure your notebook will continue to use TensorFlow 1.x via the <code>%tensorflow_version 1.x</code> magic:\n",
              "<a href=\"https://colab.research.google.com/notebooks/tensorflow_version.ipynb\" target=\"_blank\">more info</a>.</p>\n"
            ],
            "text/plain": [
              "<IPython.core.display.HTML object>"
            ]
          },
          "metadata": {
            "tags": []
          }
        }
      ]
    },
    {
      "cell_type": "markdown",
      "metadata": {
        "id": "56Zm6edfuwXC",
        "colab_type": "text"
      },
      "source": [
        "# Upload dataset files"
      ]
    },
    {
      "cell_type": "markdown",
      "metadata": {
        "id": "wamGYNk-sbGV",
        "colab_type": "text"
      },
      "source": [
        "Upload dataset files to colab environment"
      ]
    },
    {
      "cell_type": "code",
      "metadata": {
        "id": "VvTYlRzbuwcd",
        "colab_type": "code",
        "outputId": "9e5946be-b1e0-42c6-f972-6f1cbccdadc9",
        "colab": {
          "resources": {
            "http://localhost:8080/nbextensions/google.colab/files.js": {
              "data": "Ly8gQ29weXJpZ2h0IDIwMTcgR29vZ2xlIExMQwovLwovLyBMaWNlbnNlZCB1bmRlciB0aGUgQXBhY2hlIExpY2Vuc2UsIFZlcnNpb24gMi4wICh0aGUgIkxpY2Vuc2UiKTsKLy8geW91IG1heSBub3QgdXNlIHRoaXMgZmlsZSBleGNlcHQgaW4gY29tcGxpYW5jZSB3aXRoIHRoZSBMaWNlbnNlLgovLyBZb3UgbWF5IG9idGFpbiBhIGNvcHkgb2YgdGhlIExpY2Vuc2UgYXQKLy8KLy8gICAgICBodHRwOi8vd3d3LmFwYWNoZS5vcmcvbGljZW5zZXMvTElDRU5TRS0yLjAKLy8KLy8gVW5sZXNzIHJlcXVpcmVkIGJ5IGFwcGxpY2FibGUgbGF3IG9yIGFncmVlZCB0byBpbiB3cml0aW5nLCBzb2Z0d2FyZQovLyBkaXN0cmlidXRlZCB1bmRlciB0aGUgTGljZW5zZSBpcyBkaXN0cmlidXRlZCBvbiBhbiAiQVMgSVMiIEJBU0lTLAovLyBXSVRIT1VUIFdBUlJBTlRJRVMgT1IgQ09ORElUSU9OUyBPRiBBTlkgS0lORCwgZWl0aGVyIGV4cHJlc3Mgb3IgaW1wbGllZC4KLy8gU2VlIHRoZSBMaWNlbnNlIGZvciB0aGUgc3BlY2lmaWMgbGFuZ3VhZ2UgZ292ZXJuaW5nIHBlcm1pc3Npb25zIGFuZAovLyBsaW1pdGF0aW9ucyB1bmRlciB0aGUgTGljZW5zZS4KCi8qKgogKiBAZmlsZW92ZXJ2aWV3IEhlbHBlcnMgZm9yIGdvb2dsZS5jb2xhYiBQeXRob24gbW9kdWxlLgogKi8KKGZ1bmN0aW9uKHNjb3BlKSB7CmZ1bmN0aW9uIHNwYW4odGV4dCwgc3R5bGVBdHRyaWJ1dGVzID0ge30pIHsKICBjb25zdCBlbGVtZW50ID0gZG9jdW1lbnQuY3JlYXRlRWxlbWVudCgnc3BhbicpOwogIGVsZW1lbnQudGV4dENvbnRlbnQgPSB0ZXh0OwogIGZvciAoY29uc3Qga2V5IG9mIE9iamVjdC5rZXlzKHN0eWxlQXR0cmlidXRlcykpIHsKICAgIGVsZW1lbnQuc3R5bGVba2V5XSA9IHN0eWxlQXR0cmlidXRlc1trZXldOwogIH0KICByZXR1cm4gZWxlbWVudDsKfQoKLy8gTWF4IG51bWJlciBvZiBieXRlcyB3aGljaCB3aWxsIGJlIHVwbG9hZGVkIGF0IGEgdGltZS4KY29uc3QgTUFYX1BBWUxPQURfU0laRSA9IDEwMCAqIDEwMjQ7Ci8vIE1heCBhbW91bnQgb2YgdGltZSB0byBibG9jayB3YWl0aW5nIGZvciB0aGUgdXNlci4KY29uc3QgRklMRV9DSEFOR0VfVElNRU9VVF9NUyA9IDMwICogMTAwMDsKCmZ1bmN0aW9uIF91cGxvYWRGaWxlcyhpbnB1dElkLCBvdXRwdXRJZCkgewogIGNvbnN0IHN0ZXBzID0gdXBsb2FkRmlsZXNTdGVwKGlucHV0SWQsIG91dHB1dElkKTsKICBjb25zdCBvdXRwdXRFbGVtZW50ID0gZG9jdW1lbnQuZ2V0RWxlbWVudEJ5SWQob3V0cHV0SWQpOwogIC8vIENhY2hlIHN0ZXBzIG9uIHRoZSBvdXRwdXRFbGVtZW50IHRvIG1ha2UgaXQgYXZhaWxhYmxlIGZvciB0aGUgbmV4dCBjYWxsCiAgLy8gdG8gdXBsb2FkRmlsZXNDb250aW51ZSBmcm9tIFB5dGhvbi4KICBvdXRwdXRFbGVtZW50LnN0ZXBzID0gc3RlcHM7CgogIHJldHVybiBfdXBsb2FkRmlsZXNDb250aW51ZShvdXRwdXRJZCk7Cn0KCi8vIFRoaXMgaXMgcm91Z2hseSBhbiBhc3luYyBnZW5lcmF0b3IgKG5vdCBzdXBwb3J0ZWQgaW4gdGhlIGJyb3dzZXIgeWV0KSwKLy8gd2hlcmUgdGhlcmUgYXJlIG11bHRpcGxlIGFzeW5jaHJvbm91cyBzdGVwcyBhbmQgdGhlIFB5dGhvbiBzaWRlIGlzIGdvaW5nCi8vIHRvIHBvbGwgZm9yIGNvbXBsZXRpb24gb2YgZWFjaCBzdGVwLgovLyBUaGlzIHVzZXMgYSBQcm9taXNlIHRvIGJsb2NrIHRoZSBweXRob24gc2lkZSBvbiBjb21wbGV0aW9uIG9mIGVhY2ggc3RlcCwKLy8gdGhlbiBwYXNzZXMgdGhlIHJlc3VsdCBvZiB0aGUgcHJldmlvdXMgc3RlcCBhcyB0aGUgaW5wdXQgdG8gdGhlIG5leHQgc3RlcC4KZnVuY3Rpb24gX3VwbG9hZEZpbGVzQ29udGludWUob3V0cHV0SWQpIHsKICBjb25zdCBvdXRwdXRFbGVtZW50ID0gZG9jdW1lbnQuZ2V0RWxlbWVudEJ5SWQob3V0cHV0SWQpOwogIGNvbnN0IHN0ZXBzID0gb3V0cHV0RWxlbWVudC5zdGVwczsKCiAgY29uc3QgbmV4dCA9IHN0ZXBzLm5leHQob3V0cHV0RWxlbWVudC5sYXN0UHJvbWlzZVZhbHVlKTsKICByZXR1cm4gUHJvbWlzZS5yZXNvbHZlKG5leHQudmFsdWUucHJvbWlzZSkudGhlbigodmFsdWUpID0+IHsKICAgIC8vIENhY2hlIHRoZSBsYXN0IHByb21pc2UgdmFsdWUgdG8gbWFrZSBpdCBhdmFpbGFibGUgdG8gdGhlIG5leHQKICAgIC8vIHN0ZXAgb2YgdGhlIGdlbmVyYXRvci4KICAgIG91dHB1dEVsZW1lbnQubGFzdFByb21pc2VWYWx1ZSA9IHZhbHVlOwogICAgcmV0dXJuIG5leHQudmFsdWUucmVzcG9uc2U7CiAgfSk7Cn0KCi8qKgogKiBHZW5lcmF0b3IgZnVuY3Rpb24gd2hpY2ggaXMgY2FsbGVkIGJldHdlZW4gZWFjaCBhc3luYyBzdGVwIG9mIHRoZSB1cGxvYWQKICogcHJvY2Vzcy4KICogQHBhcmFtIHtzdHJpbmd9IGlucHV0SWQgRWxlbWVudCBJRCBvZiB0aGUgaW5wdXQgZmlsZSBwaWNrZXIgZWxlbWVudC4KICogQHBhcmFtIHtzdHJpbmd9IG91dHB1dElkIEVsZW1lbnQgSUQgb2YgdGhlIG91dHB1dCBkaXNwbGF5LgogKiBAcmV0dXJuIHshSXRlcmFibGU8IU9iamVjdD59IEl0ZXJhYmxlIG9mIG5leHQgc3RlcHMuCiAqLwpmdW5jdGlvbiogdXBsb2FkRmlsZXNTdGVwKGlucHV0SWQsIG91dHB1dElkKSB7CiAgY29uc3QgaW5wdXRFbGVtZW50ID0gZG9jdW1lbnQuZ2V0RWxlbWVudEJ5SWQoaW5wdXRJZCk7CiAgaW5wdXRFbGVtZW50LmRpc2FibGVkID0gZmFsc2U7CgogIGNvbnN0IG91dHB1dEVsZW1lbnQgPSBkb2N1bWVudC5nZXRFbGVtZW50QnlJZChvdXRwdXRJZCk7CiAgb3V0cHV0RWxlbWVudC5pbm5lckhUTUwgPSAnJzsKCiAgY29uc3QgcGlja2VkUHJvbWlzZSA9IG5ldyBQcm9taXNlKChyZXNvbHZlKSA9PiB7CiAgICBpbnB1dEVsZW1lbnQuYWRkRXZlbnRMaXN0ZW5lcignY2hhbmdlJywgKGUpID0+IHsKICAgICAgcmVzb2x2ZShlLnRhcmdldC5maWxlcyk7CiAgICB9KTsKICB9KTsKCiAgY29uc3QgY2FuY2VsID0gZG9jdW1lbnQuY3JlYXRlRWxlbWVudCgnYnV0dG9uJyk7CiAgaW5wdXRFbGVtZW50LnBhcmVudEVsZW1lbnQuYXBwZW5kQ2hpbGQoY2FuY2VsKTsKICBjYW5jZWwudGV4dENvbnRlbnQgPSAnQ2FuY2VsIHVwbG9hZCc7CiAgY29uc3QgY2FuY2VsUHJvbWlzZSA9IG5ldyBQcm9taXNlKChyZXNvbHZlKSA9PiB7CiAgICBjYW5jZWwub25jbGljayA9ICgpID0+IHsKICAgICAgcmVzb2x2ZShudWxsKTsKICAgIH07CiAgfSk7CgogIC8vIENhbmNlbCB1cGxvYWQgaWYgdXNlciBoYXNuJ3QgcGlja2VkIGFueXRoaW5nIGluIHRpbWVvdXQuCiAgY29uc3QgdGltZW91dFByb21pc2UgPSBuZXcgUHJvbWlzZSgocmVzb2x2ZSkgPT4gewogICAgc2V0VGltZW91dCgoKSA9PiB7CiAgICAgIHJlc29sdmUobnVsbCk7CiAgICB9LCBGSUxFX0NIQU5HRV9USU1FT1VUX01TKTsKICB9KTsKCiAgLy8gV2FpdCBmb3IgdGhlIHVzZXIgdG8gcGljayB0aGUgZmlsZXMuCiAgY29uc3QgZmlsZXMgPSB5aWVsZCB7CiAgICBwcm9taXNlOiBQcm9taXNlLnJhY2UoW3BpY2tlZFByb21pc2UsIHRpbWVvdXRQcm9taXNlLCBjYW5jZWxQcm9taXNlXSksCiAgICByZXNwb25zZTogewogICAgICBhY3Rpb246ICdzdGFydGluZycsCiAgICB9CiAgfTsKCiAgaWYgKCFmaWxlcykgewogICAgcmV0dXJuIHsKICAgICAgcmVzcG9uc2U6IHsKICAgICAgICBhY3Rpb246ICdjb21wbGV0ZScsCiAgICAgIH0KICAgIH07CiAgfQoKICBjYW5jZWwucmVtb3ZlKCk7CgogIC8vIERpc2FibGUgdGhlIGlucHV0IGVsZW1lbnQgc2luY2UgZnVydGhlciBwaWNrcyBhcmUgbm90IGFsbG93ZWQuCiAgaW5wdXRFbGVtZW50LmRpc2FibGVkID0gdHJ1ZTsKCiAgZm9yIChjb25zdCBmaWxlIG9mIGZpbGVzKSB7CiAgICBjb25zdCBsaSA9IGRvY3VtZW50LmNyZWF0ZUVsZW1lbnQoJ2xpJyk7CiAgICBsaS5hcHBlbmQoc3BhbihmaWxlLm5hbWUsIHtmb250V2VpZ2h0OiAnYm9sZCd9KSk7CiAgICBsaS5hcHBlbmQoc3BhbigKICAgICAgICBgKCR7ZmlsZS50eXBlIHx8ICduL2EnfSkgLSAke2ZpbGUuc2l6ZX0gYnl0ZXMsIGAgKwogICAgICAgIGBsYXN0IG1vZGlmaWVkOiAkewogICAgICAgICAgICBmaWxlLmxhc3RNb2RpZmllZERhdGUgPyBmaWxlLmxhc3RNb2RpZmllZERhdGUudG9Mb2NhbGVEYXRlU3RyaW5nKCkgOgogICAgICAgICAgICAgICAgICAgICAgICAgICAgICAgICAgICAnbi9hJ30gLSBgKSk7CiAgICBjb25zdCBwZXJjZW50ID0gc3BhbignMCUgZG9uZScpOwogICAgbGkuYXBwZW5kQ2hpbGQocGVyY2VudCk7CgogICAgb3V0cHV0RWxlbWVudC5hcHBlbmRDaGlsZChsaSk7CgogICAgY29uc3QgZmlsZURhdGFQcm9taXNlID0gbmV3IFByb21pc2UoKHJlc29sdmUpID0+IHsKICAgICAgY29uc3QgcmVhZGVyID0gbmV3IEZpbGVSZWFkZXIoKTsKICAgICAgcmVhZGVyLm9ubG9hZCA9IChlKSA9PiB7CiAgICAgICAgcmVzb2x2ZShlLnRhcmdldC5yZXN1bHQpOwogICAgICB9OwogICAgICByZWFkZXIucmVhZEFzQXJyYXlCdWZmZXIoZmlsZSk7CiAgICB9KTsKICAgIC8vIFdhaXQgZm9yIHRoZSBkYXRhIHRvIGJlIHJlYWR5LgogICAgbGV0IGZpbGVEYXRhID0geWllbGQgewogICAgICBwcm9taXNlOiBmaWxlRGF0YVByb21pc2UsCiAgICAgIHJlc3BvbnNlOiB7CiAgICAgICAgYWN0aW9uOiAnY29udGludWUnLAogICAgICB9CiAgICB9OwoKICAgIC8vIFVzZSBhIGNodW5rZWQgc2VuZGluZyB0byBhdm9pZCBtZXNzYWdlIHNpemUgbGltaXRzLiBTZWUgYi82MjExNTY2MC4KICAgIGxldCBwb3NpdGlvbiA9IDA7CiAgICB3aGlsZSAocG9zaXRpb24gPCBmaWxlRGF0YS5ieXRlTGVuZ3RoKSB7CiAgICAgIGNvbnN0IGxlbmd0aCA9IE1hdGgubWluKGZpbGVEYXRhLmJ5dGVMZW5ndGggLSBwb3NpdGlvbiwgTUFYX1BBWUxPQURfU0laRSk7CiAgICAgIGNvbnN0IGNodW5rID0gbmV3IFVpbnQ4QXJyYXkoZmlsZURhdGEsIHBvc2l0aW9uLCBsZW5ndGgpOwogICAgICBwb3NpdGlvbiArPSBsZW5ndGg7CgogICAgICBjb25zdCBiYXNlNjQgPSBidG9hKFN0cmluZy5mcm9tQ2hhckNvZGUuYXBwbHkobnVsbCwgY2h1bmspKTsKICAgICAgeWllbGQgewogICAgICAgIHJlc3BvbnNlOiB7CiAgICAgICAgICBhY3Rpb246ICdhcHBlbmQnLAogICAgICAgICAgZmlsZTogZmlsZS5uYW1lLAogICAgICAgICAgZGF0YTogYmFzZTY0LAogICAgICAgIH0sCiAgICAgIH07CiAgICAgIHBlcmNlbnQudGV4dENvbnRlbnQgPQogICAgICAgICAgYCR7TWF0aC5yb3VuZCgocG9zaXRpb24gLyBmaWxlRGF0YS5ieXRlTGVuZ3RoKSAqIDEwMCl9JSBkb25lYDsKICAgIH0KICB9CgogIC8vIEFsbCBkb25lLgogIHlpZWxkIHsKICAgIHJlc3BvbnNlOiB7CiAgICAgIGFjdGlvbjogJ2NvbXBsZXRlJywKICAgIH0KICB9Owp9CgpzY29wZS5nb29nbGUgPSBzY29wZS5nb29nbGUgfHwge307CnNjb3BlLmdvb2dsZS5jb2xhYiA9IHNjb3BlLmdvb2dsZS5jb2xhYiB8fCB7fTsKc2NvcGUuZ29vZ2xlLmNvbGFiLl9maWxlcyA9IHsKICBfdXBsb2FkRmlsZXMsCiAgX3VwbG9hZEZpbGVzQ29udGludWUsCn07Cn0pKHNlbGYpOwo=",
              "ok": true,
              "headers": [
                [
                  "content-type",
                  "application/javascript"
                ]
              ],
              "status": 200,
              "status_text": ""
            }
          },
          "base_uri": "https://localhost:8080/",
          "height": 177
        }
      },
      "source": [
        "uploaded = files.upload()"
      ],
      "execution_count": 5,
      "outputs": [
        {
          "output_type": "display_data",
          "data": {
            "text/html": [
              "\n",
              "     <input type=\"file\" id=\"files-2e65f511-7a5b-4560-9d6c-a271f30bb5ea\" name=\"files[]\" multiple disabled />\n",
              "     <output id=\"result-2e65f511-7a5b-4560-9d6c-a271f30bb5ea\">\n",
              "      Upload widget is only available when the cell has been executed in the\n",
              "      current browser session. Please rerun this cell to enable.\n",
              "      </output>\n",
              "      <script src=\"/nbextensions/google.colab/files.js\"></script> "
            ],
            "text/plain": [
              "<IPython.core.display.HTML object>"
            ]
          },
          "metadata": {
            "tags": []
          }
        },
        {
          "output_type": "stream",
          "text": [
            "Saving balanced.csv to balanced.csv\n",
            "Saving original.csv to original.csv\n",
            "Saving test.csv to test.csv\n",
            "Saving translation.csv to translation.csv\n"
          ],
          "name": "stdout"
        }
      ]
    },
    {
      "cell_type": "markdown",
      "metadata": {
        "id": "6FbuK-Gmupe2",
        "colab_type": "text"
      },
      "source": [
        "\n",
        "# Import & Analyze Dataset"
      ]
    },
    {
      "cell_type": "code",
      "metadata": {
        "id": "5-RMCfo2FJFN",
        "colab_type": "code",
        "colab": {}
      },
      "source": [
        "test = pd.read_csv('test.csv', index_col=None, header=None, encoding=\"utf-8\")"
      ],
      "execution_count": 0,
      "outputs": []
    },
    {
      "cell_type": "code",
      "metadata": {
        "id": "EOGmQC6cFE2n",
        "colab_type": "code",
        "colab": {}
      },
      "source": [
        "x_test = test[0]\n",
        "y_test = test[1]"
      ],
      "execution_count": 0,
      "outputs": []
    },
    {
      "cell_type": "code",
      "metadata": {
        "id": "FV8NGfFSFQyf",
        "colab_type": "code",
        "outputId": "67078252-21c1-458f-fffd-16c5ae82d64d",
        "colab": {
          "base_uri": "https://localhost:8080/",
          "height": 52
        }
      },
      "source": [
        "print('Number of testing sentence: ', x_test.shape)\n",
        "print('Number of testing label: ', y_test.shape)"
      ],
      "execution_count": 8,
      "outputs": [
        {
          "output_type": "stream",
          "text": [
            "Number of testing sentence:  (1854,)\n",
            "Number of testing label:  (1854,)\n"
          ],
          "name": "stdout"
        }
      ]
    },
    {
      "cell_type": "code",
      "metadata": {
        "id": "QD2oAioUFSZS",
        "colab_type": "code",
        "colab": {}
      },
      "source": [
        "x_test = np.asarray(x_test)\n",
        "y_test = np.asarray(y_test)"
      ],
      "execution_count": 0,
      "outputs": []
    },
    {
      "cell_type": "code",
      "metadata": {
        "id": "nzNz61eOEvE2",
        "colab_type": "code",
        "colab": {}
      },
      "source": [
        "original = pd.read_csv('original.csv', index_col=None, header=None, encoding=\"utf-8\")\n",
        "balanced = pd.read_csv('balanced.csv', index_col=None, header=None, encoding=\"utf-8\")\n",
        "translation = pd.read_csv('translation.csv', index_col=None, header=None, encoding=\"utf-8\")"
      ],
      "execution_count": 0,
      "outputs": []
    },
    {
      "cell_type": "code",
      "metadata": {
        "id": "JFWRuK5VFr8b",
        "colab_type": "code",
        "colab": {}
      },
      "source": [
        "selected_dataset = translation"
      ],
      "execution_count": 0,
      "outputs": []
    },
    {
      "cell_type": "code",
      "metadata": {
        "id": "1N4yiewpFvrx",
        "colab_type": "code",
        "colab": {}
      },
      "source": [
        "selected_dataset = selected_dataset.sample(frac=1).reset_index(drop=True)"
      ],
      "execution_count": 0,
      "outputs": []
    },
    {
      "cell_type": "code",
      "metadata": {
        "id": "RXEXLFZoupUr",
        "colab_type": "code",
        "colab": {}
      },
      "source": [
        "x_train = selected_dataset[0]\n",
        "y_train = selected_dataset[1]"
      ],
      "execution_count": 0,
      "outputs": []
    },
    {
      "cell_type": "code",
      "metadata": {
        "id": "MATiU_eixlin",
        "colab_type": "code",
        "outputId": "3741a6c2-946e-4290-b49e-957058e37476",
        "colab": {
          "base_uri": "https://localhost:8080/",
          "height": 52
        }
      },
      "source": [
        "print('Number of training sentence: ', x_train.shape)\n",
        "print('Number of training label: ', y_train.shape)"
      ],
      "execution_count": 95,
      "outputs": [
        {
          "output_type": "stream",
          "text": [
            "Number of training sentence:  (14046,)\n",
            "Number of training label:  (14046,)\n"
          ],
          "name": "stdout"
        }
      ]
    },
    {
      "cell_type": "code",
      "metadata": {
        "id": "nL5mDIUfzjyG",
        "colab_type": "code",
        "colab": {}
      },
      "source": [
        "# Convert dataframes to numpy arrays\n",
        "x_train = np.asarray(x_train)\n",
        "y_train = np.asarray(y_train)"
      ],
      "execution_count": 0,
      "outputs": []
    },
    {
      "cell_type": "code",
      "metadata": {
        "id": "t2oX_KNK4t0p",
        "colab_type": "code",
        "outputId": "ea7b9ab8-f051-42e5-e0b9-bac647f13ef2",
        "colab": {
          "base_uri": "https://localhost:8080/",
          "height": 34
        }
      },
      "source": [
        "# See the data number of sentence in each category \n",
        "from collections import Counter\n",
        "cnt = Counter(y_train)\n",
        "cnt = dict(cnt)\n",
        "print(cnt)"
      ],
      "execution_count": 97,
      "outputs": [
        {
          "output_type": "stream",
          "text": [
            "{0: 4000, 2: 3856, 1: 4000, -2: 316, -1: 1874}\n"
          ],
          "name": "stdout"
        }
      ]
    },
    {
      "cell_type": "code",
      "metadata": {
        "id": "iPDHe3qf3hMC",
        "colab_type": "code",
        "outputId": "27bb331a-5ea3-4c25-d9a8-dac49d8ce316",
        "colab": {
          "base_uri": "https://localhost:8080/",
          "height": 296
        }
      },
      "source": [
        "labels = list(cnt.keys())\n",
        "sizes = list(cnt.values())\n",
        "colors = ['#3fba36', '#66b3ff','#ffcc99','#ff9999', '#d44444']\n",
        "fig1, ax1 = plt.subplots()\n",
        "ax1.pie(sizes, labels=labels, colors=colors,\n",
        "        autopct='%1.1f%%', startangle=90)\n",
        "#draw circle\n",
        "centre_circle = plt.Circle((0,0),0.70,fc='white')\n",
        "fig = plt.gcf()\n",
        "fig.gca().add_artist(centre_circle)\n",
        "# Equal aspect ratio ensures that pie is drawn as a circle\n",
        "ax1.axis('equal')  \n",
        "plt.tight_layout()\n",
        "# Decomment following line if you want to save the figure\n",
        "# plt.savefig('distribution.png')\n",
        "plt.show()"
      ],
      "execution_count": 98,
      "outputs": [
        {
          "output_type": "display_data",
          "data": {
            "image/png": "[encoded data removed]",
            "text/plain": [
              "<Figure size 432x288 with 1 Axes>"
            ]
          },
          "metadata": {
            "tags": []
          }
        }
      ]
    },
    {
      "cell_type": "code",
      "metadata": {
        "id": "OBn3mkJKtGgH",
        "colab_type": "code",
        "colab": {}
      },
      "source": [
        "# Decomment following line if you want to download dataset figure\n",
        "# files.download('distribution.png')"
      ],
      "execution_count": 0,
      "outputs": []
    },
    {
      "cell_type": "markdown",
      "metadata": {
        "id": "2imgOHrg7Pzz",
        "colab_type": "text"
      },
      "source": [
        "# Preprocess"
      ]
    },
    {
      "cell_type": "code",
      "metadata": {
        "id": "4-XiHjK87VpK",
        "colab_type": "code",
        "colab": {}
      },
      "source": [
        "puncs = ['،', '.', ',', ':', ';', '\"']\n",
        "normalizer = Normalizer()\n",
        "lemmatizer = Lemmatizer()\n",
        "\n",
        "# turn a doc into clean tokens\n",
        "def clean_doc(doc):\n",
        "    doc = normalizer.normalize(doc) # Normalize document using Hazm Normalizer\n",
        "    tokenized = word_tokenize(doc)  # Tokenize text\n",
        "    tokens = []\n",
        "    for t in tokenized:\n",
        "      temp = t\n",
        "      for p in puncs:\n",
        "        temp = temp.replace(p, '')\n",
        "      tokens.append(temp)\n",
        "    # tokens = [w for w in tokens if not w in stop_set]    # Remove stop words\n",
        "    tokens = [w for w in tokens if not len(w) <= 1]\n",
        "    tokens = [w for w in tokens if not w.isdigit()]\n",
        "    tokens = [lemmatizer.lemmatize(w) for w in tokens] # Lemmatize sentence words using Hazm Lemmatizer\n",
        "    tokens = ' '.join(tokens)\n",
        "    return tokens"
      ],
      "execution_count": 0,
      "outputs": []
    },
    {
      "cell_type": "markdown",
      "metadata": {
        "id": "S-YylKUoqElV",
        "colab_type": "text"
      },
      "source": [
        "# Prepare FastText Model"
      ]
    },
    {
      "cell_type": "code",
      "metadata": {
        "id": "1F_olE5An-5I",
        "colab_type": "code",
        "outputId": "b8af1d03-bf63-45c4-c77b-07888c4c8e91",
        "colab": {
          "base_uri": "https://localhost:8080/",
          "height": 72
        }
      },
      "source": [
        "EMBEDDING_FILE = 'wiki.fa.vec'\n",
        "\n",
        "def import_with_gensim(file_address):\n",
        "  # Creating the model\n",
        "  ft_model = KeyedVectors.load_word2vec_format(file_address)\n",
        "  # Getting the tokens\n",
        "  ft_words = []\n",
        "  for ft_word in ft_model.vocab:\n",
        "      ft_words.append(ft_word)\n",
        "  return ft_model, ft_words\n",
        "  \n",
        "ft_model, ft_words = import_with_gensim(EMBEDDING_FILE)"
      ],
      "execution_count": 101,
      "outputs": [
        {
          "output_type": "stream",
          "text": [
            "/usr/local/lib/python3.6/dist-packages/smart_open/smart_open_lib.py:402: UserWarning: This function is deprecated, use smart_open.open instead. See the migration notes for details: https://github.com/RaRe-Technologies/smart_open/blob/master/README.rst#migrating-to-the-new-open-function\n",
            "  'See the migration notes for details: %s' % _MIGRATION_NOTES_URL\n"
          ],
          "name": "stderr"
        }
      ]
    },
    {
      "cell_type": "code",
      "metadata": {
        "id": "WbXOKymz-OS1",
        "colab_type": "code",
        "colab": {}
      },
      "source": [
        "# FastText embedding dimensionality\n",
        "embed_size = 300"
      ],
      "execution_count": 0,
      "outputs": []
    },
    {
      "cell_type": "code",
      "metadata": {
        "id": "0lraPVp4ptF1",
        "colab_type": "code",
        "colab": {}
      },
      "source": [
        "# We get the mean and standard deviation of the embedding weights so that we could maintain the\n",
        "# same statistics for the rest of our own random generated weights.\n",
        "embedding_list = list()\n",
        "for w in ft_words:\n",
        "  embedding_list.append(ft_model[w])\n",
        "\n",
        "all_embedding = np.stack(embedding_list)\n",
        "emb_mean, emb_std = all_embedding.mean(), all_embedding.std()"
      ],
      "execution_count": 0,
      "outputs": []
    },
    {
      "cell_type": "markdown",
      "metadata": {
        "id": "CwV8zcFJ8pki",
        "colab_type": "text"
      },
      "source": [
        "# Prepare data for Deep Learning model"
      ]
    },
    {
      "cell_type": "markdown",
      "metadata": {
        "id": "TSEcRKge69NI",
        "colab_type": "text"
      },
      "source": [
        "## Apply preprocessing to data"
      ]
    },
    {
      "cell_type": "code",
      "metadata": {
        "id": "Eaz_5RG90E8D",
        "colab_type": "code",
        "colab": {}
      },
      "source": [
        "# Apply preprocessing step to training data\n",
        "train_docs = np.empty_like(x_train)\n",
        "for index, document in enumerate(x_train):\n",
        "  train_docs[index] = clean_doc(document)"
      ],
      "execution_count": 0,
      "outputs": []
    },
    {
      "cell_type": "code",
      "metadata": {
        "id": "ZM1XsKN06BXb",
        "colab_type": "code",
        "colab": {}
      },
      "source": [
        "# Applying preprocessing step to test data\n",
        "test_docs = np.empty_like(x_test)\n",
        "for index, document in enumerate(x_test):\n",
        "  test_docs[index] = clean_doc(document)"
      ],
      "execution_count": 0,
      "outputs": []
    },
    {
      "cell_type": "markdown",
      "metadata": {
        "id": "zOVanzfQ7Etd",
        "colab_type": "text"
      },
      "source": [
        "## Setting tokenizer up"
      ]
    },
    {
      "cell_type": "code",
      "metadata": {
        "id": "yXOfMkE1yMOG",
        "colab_type": "code",
        "colab": {}
      },
      "source": [
        "num_words = 2000\n",
        "\n",
        "# Create the tokenizer\n",
        "tokenizer = Tokenizer(num_words=num_words)\n",
        "\n",
        "# fFt the tokenizer on the training documents\n",
        "tokenizer.fit_on_texts(train_docs)"
      ],
      "execution_count": 0,
      "outputs": []
    },
    {
      "cell_type": "code",
      "metadata": {
        "id": "xp3Hgq8m6gnI",
        "colab_type": "code",
        "colab": {}
      },
      "source": [
        "# Find maximum length of training sentences\n",
        "max_length = max([len(s.split()) for s in train_docs])"
      ],
      "execution_count": 0,
      "outputs": []
    },
    {
      "cell_type": "markdown",
      "metadata": {
        "id": "YfKPCiJs7RPS",
        "colab_type": "text"
      },
      "source": [
        "## Embed sentences"
      ]
    },
    {
      "cell_type": "code",
      "metadata": {
        "id": "Hl42Ym2W6PeU",
        "colab_type": "code",
        "colab": {}
      },
      "source": [
        "# Embed training sequences\n",
        "encoded_docs = tokenizer.texts_to_sequences(train_docs)\n",
        "\n",
        "# Pad embeded training sequences\n",
        "x_train_padded = pad_sequences(encoded_docs, maxlen=max_length, padding='post')"
      ],
      "execution_count": 0,
      "outputs": []
    },
    {
      "cell_type": "code",
      "metadata": {
        "id": "mQ_6Su9L16J9",
        "colab_type": "code",
        "colab": {}
      },
      "source": [
        "# Define vocabulary size (largest integer value)\n",
        "vocab_size = len(tokenizer.word_index)"
      ],
      "execution_count": 0,
      "outputs": []
    },
    {
      "cell_type": "code",
      "metadata": {
        "id": "WZnIkLd4rUrb",
        "colab_type": "code",
        "outputId": "3d26a63f-7317-4ccd-a88c-147792bf6e19",
        "colab": {
          "base_uri": "https://localhost:8080/",
          "height": 52
        }
      },
      "source": [
        "# We are going to set the embedding size to the pre-trained dimension as we are replicating it\n",
        "nb_words = len(tokenizer.word_index)\n",
        "\n",
        "# the size will be Number of Words in Vocab X Embedding Size\n",
        "embedding_matrix = np.random.normal(emb_mean, emb_std, (nb_words, embed_size))\n",
        "\n",
        "# With the newly created embedding matrix, we'll fill it up with the words that we have in both\n",
        "# our own dictionary and loaded pre-trained embedding.\n",
        "embeddedCount = 0\n",
        "for word, i in tokenizer.word_index.items():\n",
        "    i -= 1\n",
        "    # then we see if this word is in glove's dictionary, if yes, get the corresponding weights\n",
        "    if word in ft_model.vocab:\n",
        "        embedding_vector = ft_model[word]\n",
        "        # and store inside the embedding matrix that we will train later on.\n",
        "        embedding_matrix[i] = embedding_vector\n",
        "        embeddedCount += 1\n",
        "    else:   # Unknown words\n",
        "        embedding_vector = ft_model['subdivision_name']\n",
        "        embedding_matrix[i] = embedding_vector\n",
        "        embeddedCount += 1\n",
        "\n",
        "print('total embedded:', embeddedCount, 'common words')\n",
        "print('Embedding matrix shape:', embedding_matrix.shape)"
      ],
      "execution_count": 110,
      "outputs": [
        {
          "output_type": "stream",
          "text": [
            "total embedded: 7774 common words\n",
            "Embedding matrix shape: (7774, 300)\n"
          ],
          "name": "stdout"
        }
      ]
    },
    {
      "cell_type": "code",
      "metadata": {
        "id": "o8NcUFxQpN1f",
        "colab_type": "code",
        "colab": {}
      },
      "source": [
        "# Embed testing sequences\n",
        "encoded_docs = tokenizer.texts_to_sequences(test_docs)\n",
        "# Pad testing sequences\n",
        "x_test_padded = pad_sequences(encoded_docs, maxlen=max_length, padding='post')"
      ],
      "execution_count": 0,
      "outputs": []
    },
    {
      "cell_type": "markdown",
      "metadata": {
        "id": "f8IrxurU7xXB",
        "colab_type": "text"
      },
      "source": [
        "# Deep Learning Models"
      ]
    },
    {
      "cell_type": "code",
      "metadata": {
        "id": "Y4WWnDA877aA",
        "colab_type": "code",
        "colab": {}
      },
      "source": [
        "# Prepare labels for categorical prediction\n",
        "categorical_y_train = to_categorical(y_train, 5)\n",
        "categorical_y_test = to_categorical(y_test, 5)"
      ],
      "execution_count": 0,
      "outputs": []
    },
    {
      "cell_type": "markdown",
      "metadata": {
        "id": "UGzX4V3J2U9F",
        "colab_type": "text"
      },
      "source": [
        "## B-LSTM Model"
      ]
    },
    {
      "cell_type": "code",
      "metadata": {
        "id": "sFdUGLh4-v6P",
        "colab_type": "code",
        "colab": {}
      },
      "source": [
        "model_blstm = Sequential()\n",
        "model_blstm.add(Embedding(vocab_size, embedding_matrix.shape[1], weights=[embedding_matrix], trainable=True))\n",
        "model_blstm.add(Bidirectional(CuDNNLSTM(300, return_sequences=True, name='lstm_layer')))\n",
        "model_blstm.add(GlobalMaxPool1D())\n",
        "model_blstm.add(Dropout(0.2))\n",
        "model_blstm.add(Dense(300, activation=\"relu\"))\n",
        "model_blstm.add(Dropout(0.1))\n",
        "model_blstm.add(Dense(5, activation='softmax'))"
      ],
      "execution_count": 0,
      "outputs": []
    },
    {
      "cell_type": "code",
      "metadata": {
        "id": "MadF-98Rufk-",
        "colab_type": "code",
        "outputId": "e413512a-1877-40d8-913c-031cace82bfe",
        "colab": {
          "base_uri": "https://localhost:8080/",
          "height": 407
        }
      },
      "source": [
        "model_blstm.compile(loss='categorical_crossentropy',\n",
        "              optimizer='adam',\n",
        "              metrics=[categorical_accuracy])\n",
        "\n",
        "model_blstm.summary()\n",
        "batch_size_blstm = 64\n",
        "epochs_blstm = 5"
      ],
      "execution_count": 146,
      "outputs": [
        {
          "output_type": "stream",
          "text": [
            "Model: \"sequential_9\"\n",
            "_________________________________________________________________\n",
            "Layer (type)                 Output Shape              Param #   \n",
            "=================================================================\n",
            "embedding_9 (Embedding)      (None, None, 300)         2332200   \n",
            "_________________________________________________________________\n",
            "bidirectional_5 (Bidirection (None, None, 600)         1444800   \n",
            "_________________________________________________________________\n",
            "global_max_pooling1d_9 (Glob (None, 600)               0         \n",
            "_________________________________________________________________\n",
            "dropout_13 (Dropout)         (None, 600)               0         \n",
            "_________________________________________________________________\n",
            "dense_17 (Dense)             (None, 300)               180300    \n",
            "_________________________________________________________________\n",
            "dropout_14 (Dropout)         (None, 300)               0         \n",
            "_________________________________________________________________\n",
            "dense_18 (Dense)             (None, 5)                 1505      \n",
            "=================================================================\n",
            "Total params: 3,958,805\n",
            "Trainable params: 3,958,805\n",
            "Non-trainable params: 0\n",
            "_________________________________________________________________\n"
          ],
          "name": "stdout"
        }
      ]
    },
    {
      "cell_type": "code",
      "metadata": {
        "id": "Yvltc4_D8Sjp",
        "colab_type": "code",
        "outputId": "f769374c-779b-4baf-9a98-18ab1d00b0f2",
        "colab": {
          "base_uri": "https://localhost:8080/",
          "height": 194
        }
      },
      "source": [
        "# Train model\n",
        "hist_blstm = model_blstm.fit(x_train_padded, categorical_y_train, batch_size=batch_size_blstm, epochs=epochs_blstm, shuffle=True)"
      ],
      "execution_count": 147,
      "outputs": [
        {
          "output_type": "stream",
          "text": [
            "Epoch 1/5\n",
            "14046/14046 [==============================] - 17s 1ms/step - loss: 1.2011 - categorical_accuracy: 0.4874\n",
            "Epoch 2/5\n",
            "14046/14046 [==============================] - 16s 1ms/step - loss: 0.9312 - categorical_accuracy: 0.6224\n",
            "Epoch 3/5\n",
            "14046/14046 [==============================] - 15s 1ms/step - loss: 0.7963 - categorical_accuracy: 0.6833\n",
            "Epoch 4/5\n",
            "14046/14046 [==============================] - 15s 1ms/step - loss: 0.6839 - categorical_accuracy: 0.7313\n",
            "Epoch 5/5\n",
            "14046/14046 [==============================] - 15s 1ms/step - loss: 0.5924 - categorical_accuracy: 0.7673\n"
          ],
          "name": "stdout"
        }
      ]
    },
    {
      "cell_type": "code",
      "metadata": {
        "id": "hiqdfnXMKlsZ",
        "colab_type": "code",
        "outputId": "b4259411-56a7-427a-f81e-aa9bc479017d",
        "colab": {
          "base_uri": "https://localhost:8080/",
          "height": 34
        }
      },
      "source": [
        "# Evaluate model\n",
        "loss_blstm, acc_blstm = model_blstm.evaluate(x_test_padded, categorical_y_test, verbose=0)\n",
        "print('Test Accuracy: %f' % (acc_blstm*100))"
      ],
      "execution_count": 148,
      "outputs": [
        {
          "output_type": "stream",
          "text": [
            "Test Accuracy: 66.019417\n"
          ],
          "name": "stdout"
        }
      ]
    },
    {
      "cell_type": "code",
      "metadata": {
        "id": "imptdlcYXZF5",
        "colab_type": "code",
        "colab": {}
      },
      "source": [
        "# Get prediction label\n",
        "y_pred_blstm = model_blstm.predict_classes(x_test_padded[:-1])"
      ],
      "execution_count": 0,
      "outputs": []
    },
    {
      "cell_type": "markdown",
      "metadata": {
        "colab_type": "text",
        "id": "mjCMX44DEv-4"
      },
      "source": [
        "## CNN Model"
      ]
    },
    {
      "cell_type": "code",
      "metadata": {
        "colab_type": "code",
        "id": "FemjzX3_FJFN",
        "colab": {}
      },
      "source": [
        "model_cnn = Sequential()\n",
        "model_cnn.add(Embedding(vocab_size, embedding_matrix.shape[1], weights=[embedding_matrix], trainable=True))\n",
        "model_cnn.add(Conv1D(filters=64, kernel_size=4, activation='relu', padding='same'))\n",
        "model_cnn.add(MaxPooling1D(pool_size=2))\n",
        "model_cnn.add(Conv1D(filters=64, kernel_size=8, activation='relu', padding='same'))\n",
        "model_cnn.add(MaxPooling1D(pool_size=2))\n",
        "model_cnn.add(Conv1D(filters=64, kernel_size=16, activation='relu', padding='same'))\n",
        "model_cnn.add(GlobalMaxPooling1D())\n",
        "model_cnn.add(Dropout(0.1))\n",
        "model_cnn.add(Dense(500, activation=\"sigmoid\"))\n",
        "model_cnn.add(Dense(5, activation='softmax'))"
      ],
      "execution_count": 0,
      "outputs": []
    },
    {
      "cell_type": "code",
      "metadata": {
        "colab_type": "code",
        "outputId": "ebb50ad4-8213-47d9-9712-428d77a3ac0d",
        "id": "k79NbUPiFJFT",
        "colab": {
          "base_uri": "https://localhost:8080/",
          "height": 514
        }
      },
      "source": [
        "model_cnn.compile(loss='categorical_crossentropy',\n",
        "              optimizer='adam',\n",
        "              metrics=[categorical_accuracy])\n",
        "\n",
        "model_cnn.summary()\n",
        "batch_size_cnn = 64\n",
        "epochs_cnn = 8"
      ],
      "execution_count": 151,
      "outputs": [
        {
          "output_type": "stream",
          "text": [
            "Model: \"sequential_10\"\n",
            "_________________________________________________________________\n",
            "Layer (type)                 Output Shape              Param #   \n",
            "=================================================================\n",
            "embedding_10 (Embedding)     (None, None, 300)         2332200   \n",
            "_________________________________________________________________\n",
            "conv1d_13 (Conv1D)           (None, None, 64)          76864     \n",
            "_________________________________________________________________\n",
            "max_pooling1d_9 (MaxPooling1 (None, None, 64)          0         \n",
            "_________________________________________________________________\n",
            "conv1d_14 (Conv1D)           (None, None, 64)          32832     \n",
            "_________________________________________________________________\n",
            "max_pooling1d_10 (MaxPooling (None, None, 64)          0         \n",
            "_________________________________________________________________\n",
            "conv1d_15 (Conv1D)           (None, None, 64)          65600     \n",
            "_________________________________________________________________\n",
            "global_max_pooling1d_10 (Glo (None, 64)                0         \n",
            "_________________________________________________________________\n",
            "dropout_15 (Dropout)         (None, 64)                0         \n",
            "_________________________________________________________________\n",
            "dense_19 (Dense)             (None, 500)               32500     \n",
            "_________________________________________________________________\n",
            "dense_20 (Dense)             (None, 5)                 2505      \n",
            "=================================================================\n",
            "Total params: 2,542,501\n",
            "Trainable params: 2,542,501\n",
            "Non-trainable params: 0\n",
            "_________________________________________________________________\n"
          ],
          "name": "stdout"
        }
      ]
    },
    {
      "cell_type": "code",
      "metadata": {
        "colab_type": "code",
        "outputId": "54834004-76d2-466e-c5aa-1178f167b980",
        "id": "z-k6q09sFJFX",
        "colab": {
          "base_uri": "https://localhost:8080/",
          "height": 301
        }
      },
      "source": [
        "# Train model\n",
        "hist_cnn = model_cnn.fit(x_train_padded, categorical_y_train, batch_size=batch_size_cnn, epochs=epochs_cnn, shuffle=True)"
      ],
      "execution_count": 152,
      "outputs": [
        {
          "output_type": "stream",
          "text": [
            "Epoch 1/8\n",
            "14046/14046 [==============================] - 4s 258us/step - loss: 1.3175 - categorical_accuracy: 0.4077\n",
            "Epoch 2/8\n",
            "14046/14046 [==============================] - 2s 162us/step - loss: 1.0479 - categorical_accuracy: 0.5826\n",
            "Epoch 3/8\n",
            "14046/14046 [==============================] - 2s 161us/step - loss: 0.8612 - categorical_accuracy: 0.6677\n",
            "Epoch 4/8\n",
            "14046/14046 [==============================] - 2s 161us/step - loss: 0.6955 - categorical_accuracy: 0.7419\n",
            "Epoch 5/8\n",
            "14046/14046 [==============================] - 2s 160us/step - loss: 0.5244 - categorical_accuracy: 0.8060\n",
            "Epoch 6/8\n",
            "14046/14046 [==============================] - 2s 159us/step - loss: 0.3976 - categorical_accuracy: 0.8587\n",
            "Epoch 7/8\n",
            "14046/14046 [==============================] - 2s 160us/step - loss: 0.3130 - categorical_accuracy: 0.8924\n",
            "Epoch 8/8\n",
            "14046/14046 [==============================] - 2s 162us/step - loss: 0.2651 - categorical_accuracy: 0.9079\n"
          ],
          "name": "stdout"
        }
      ]
    },
    {
      "cell_type": "code",
      "metadata": {
        "colab_type": "code",
        "id": "96Sh1kXWFJFa",
        "outputId": "4615969f-dacc-401b-87d2-c9f4b20b686e",
        "colab": {
          "base_uri": "https://localhost:8080/",
          "height": 34
        }
      },
      "source": [
        "# Evaluate model\n",
        "loss_cnn, acc_cnn = model_cnn.evaluate(x_test_padded, categorical_y_test, verbose=0)\n",
        "print('Test Accuracy: %f' % (acc_cnn*100))"
      ],
      "execution_count": 153,
      "outputs": [
        {
          "output_type": "stream",
          "text": [
            "Test Accuracy: 66.073355\n"
          ],
          "name": "stdout"
        }
      ]
    },
    {
      "cell_type": "code",
      "metadata": {
        "colab_type": "code",
        "id": "T4BdQvmYFJFd",
        "colab": {}
      },
      "source": [
        "# Get prediction label\n",
        "y_pred_cnn = model_cnn.predict_classes(x_test_padded[:-1])"
      ],
      "execution_count": 0,
      "outputs": []
    },
    {
      "cell_type": "markdown",
      "metadata": {
        "id": "UmU5nDXelR39",
        "colab_type": "text"
      },
      "source": [
        "# Confusion Matrix"
      ]
    },
    {
      "cell_type": "code",
      "metadata": {
        "id": "uaFeqIhbejZz",
        "colab_type": "code",
        "colab": {}
      },
      "source": [
        "y_test_label = []\n",
        "for counter in range(0, len(categorical_y_test)-1):\n",
        "  label = np.argmax(categorical_y_test[:-1][counter])\n",
        "  y_test_label.append(label)\n",
        "y_test_label = np.array(y_test_label)"
      ],
      "execution_count": 0,
      "outputs": []
    },
    {
      "cell_type": "code",
      "metadata": {
        "id": "b5OhWcBv9K3T",
        "colab_type": "code",
        "colab": {}
      },
      "source": [
        "from sklearn.metrics import confusion_matrix\n",
        "from sklearn.utils.multiclass import unique_labels\n",
        "\n",
        "def plot_confusion_matrix(y_true, y_pred, classes,\n",
        "                          normalize=False,\n",
        "                          title=None,\n",
        "                          cmap=plt.cm.Blues):\n",
        "    \"\"\"\n",
        "    This function prints and plots the confusion matrix.\n",
        "    Normalization can be applied by setting `normalize=True`.\n",
        "    \"\"\"\n",
        "    # Compute confusion matrix\n",
        "    cm = confusion_matrix(y_true, y_pred)\n",
        "    # Only use the labels that appear in the data\n",
        "    classes = classes[unique_labels(y_true, y_pred)]\n",
        "    if normalize:\n",
        "        cm = cm.astype('float') / cm.sum(axis=1)[:, np.newaxis]\n",
        "        print(\"Normalized confusion matrix\")\n",
        "    else:\n",
        "        print('Confusion matrix, without normalization')\n",
        "    \n",
        "    print(cm)\n",
        "\n",
        "    fig, ax = plt.subplots()\n",
        "    im = ax.imshow(cm, interpolation='nearest', cmap=cmap)\n",
        "    print(im)\n",
        "    ax.figure.colorbar(im, ax=ax)\n",
        "    # We want to show all ticks...\n",
        "    ax.set(xticks=np.arange(cm.shape[1]),\n",
        "           yticks=np.arange(cm.shape[0]),\n",
        "           # ... and label them with the respective list entries\n",
        "           xticklabels=classes, yticklabels=classes,\n",
        "           title=title,\n",
        "           ylabel='True label',\n",
        "           xlabel='Predicted label')\n",
        "\n",
        "    # Rotate the tick labels and set their alignment.\n",
        "    plt.setp(ax.get_xticklabels(), rotation=45, ha=\"right\",\n",
        "             rotation_mode=\"anchor\")\n",
        "\n",
        "    # Loop over data dimensions and create text annotations.\n",
        "    fmt = '.2f' if normalize else 'd'\n",
        "    thresh = cm.max() / 2.\n",
        "    for i in range(cm.shape[0]):\n",
        "        for j in range(cm.shape[1]):\n",
        "            ax.text(j, i, format(cm[i, j], fmt),\n",
        "                    ha=\"center\", va=\"center\",\n",
        "                    color=\"white\" if cm[i, j] > thresh else \"black\")\n",
        "    fig.tight_layout()\n",
        "    return ax\n",
        "\n",
        "class_names = np.array([0, 1, 2, -2, -1])\n",
        "np.set_printoptions(precision=2)"
      ],
      "execution_count": 0,
      "outputs": []
    },
    {
      "cell_type": "code",
      "metadata": {
        "id": "O0LipgtoEYLb",
        "colab_type": "code",
        "outputId": "683762fd-48d1-4546-f7bb-9038a39bf89f",
        "colab": {
          "base_uri": "https://localhost:8080/",
          "height": 825
        }
      },
      "source": [
        "# Plot non-normalized confusion matrix\n",
        "plot_confusion_matrix(y_test_label, y_pred_blstm, classes=class_names)\n",
        "# plt.savefig('cm-blstm.png')\n",
        "# Plot normalized confusion matrix\n",
        "plot_confusion_matrix(y_test_label, y_pred_blstm, classes=class_names, normalize=True)\n",
        "# plt.savefig('cm-blstm-normalized.png')\n",
        "plt.show()"
      ],
      "execution_count": 157,
      "outputs": [
        {
          "output_type": "stream",
          "text": [
            "Confusion matrix, without normalization\n",
            "[[456 121  49   5 112]\n",
            " [ 42 310 139   5  64]\n",
            " [  2  33 314   1   4]\n",
            " [  1   0   1   7   3]\n",
            " [ 10  17  11  10 136]]\n",
            "AxesImage(54,36;334.8x217.44)\n",
            "Normalized confusion matrix\n",
            "[[0.61 0.16 0.07 0.01 0.15]\n",
            " [0.07 0.55 0.25 0.01 0.11]\n",
            " [0.01 0.09 0.89 0.   0.01]\n",
            " [0.08 0.   0.08 0.58 0.25]\n",
            " [0.05 0.09 0.06 0.05 0.74]]\n",
            "AxesImage(54,36;334.8x217.44)\n"
          ],
          "name": "stdout"
        },
        {
          "output_type": "display_data",
          "data": {
            "image/png": "[encoded data removed]",
            "text/plain": [
              "<Figure size 432x288 with 2 Axes>"
            ]
          },
          "metadata": {
            "tags": []
          }
        },
        {
          "output_type": "display_data",
          "data": {
            "image/png": "[encoded data removed]",
            "text/plain": [
              "<Figure size 432x288 with 2 Axes>"
            ]
          },
          "metadata": {
            "tags": []
          }
        }
      ]
    },
    {
      "cell_type": "code",
      "metadata": {
        "id": "k9qtpFehmYah",
        "colab_type": "code",
        "outputId": "c2907198-e36b-4aa2-c5b2-f98c091e9a67",
        "colab": {
          "base_uri": "https://localhost:8080/",
          "height": 825
        }
      },
      "source": [
        "# Plot non-normalized confusion matrix\n",
        "plot_confusion_matrix(y_test_label, y_pred_cnn, classes=class_names)\n",
        "# plt.savefig('cm-cnn.png')\n",
        "# Plot normalized confusion matrix\n",
        "plot_confusion_matrix(y_test_label, y_pred_cnn, classes=class_names, normalize=True)\n",
        "# plt.savefig('cm-cnn-normalized.png')\n",
        "plt.show()"
      ],
      "execution_count": 158,
      "outputs": [
        {
          "output_type": "stream",
          "text": [
            "Confusion matrix, without normalization\n",
            "[[470 117  37   4 115]\n",
            " [ 69 319 111   4  57]\n",
            " [  4  48 298   1   3]\n",
            " [  0   0   1   7   4]\n",
            " [ 25  21   3   5 130]]\n",
            "AxesImage(54,36;334.8x217.44)\n",
            "Normalized confusion matrix\n",
            "[[0.63 0.16 0.05 0.01 0.15]\n",
            " [0.12 0.57 0.2  0.01 0.1 ]\n",
            " [0.01 0.14 0.84 0.   0.01]\n",
            " [0.   0.   0.08 0.58 0.33]\n",
            " [0.14 0.11 0.02 0.03 0.71]]\n",
            "AxesImage(54,36;334.8x217.44)\n"
          ],
          "name": "stdout"
        },
        {
          "output_type": "display_data",
          "data": {
            "image/png": "[encoded data removed]",
            "text/plain": [
              "<Figure size 432x288 with 2 Axes>"
            ]
          },
          "metadata": {
            "tags": []
          }
        },
        {
          "output_type": "display_data",
          "data": {
            "image/png": "[encoded data removed]",
            "text/plain": [
              "<Figure size 432x288 with 2 Axes>"
            ]
          },
          "metadata": {
            "tags": []
          }
        }
      ]
    },
    {
      "cell_type": "markdown",
      "metadata": {
        "id": "ZUCXVkw5acDF",
        "colab_type": "text"
      },
      "source": [
        "## F1 Score"
      ]
    },
    {
      "cell_type": "code",
      "metadata": {
        "id": "YJy1sBACadfl",
        "colab_type": "code",
        "outputId": "c4b5d5e9-2f56-4142-9829-569a26e55ab9",
        "colab": {
          "base_uri": "https://localhost:8080/",
          "height": 52
        }
      },
      "source": [
        "print(\"(Weighted) F1 score of FastTextEmb B-LSTM model:\")\n",
        "f1_score(y_test_label, y_pred_blstm, average='weighted')"
      ],
      "execution_count": 159,
      "outputs": [
        {
          "output_type": "stream",
          "text": [
            "(Weighted) F1 score of FastTextEmb B-LSTM model:\n"
          ],
          "name": "stdout"
        },
        {
          "output_type": "execute_result",
          "data": {
            "text/plain": [
              "0.6657894842353378"
            ]
          },
          "metadata": {
            "tags": []
          },
          "execution_count": 159
        }
      ]
    },
    {
      "cell_type": "code",
      "metadata": {
        "id": "dMRJQcoiampM",
        "colab_type": "code",
        "outputId": "88eabeb7-fd0c-4180-f150-c5903d4fa368",
        "colab": {
          "base_uri": "https://localhost:8080/",
          "height": 52
        }
      },
      "source": [
        "print(\"(Weighted) F1 score of FastTextEmb CNN model:\")\n",
        "f1_score(y_test_label, y_pred_cnn, average='weighted')"
      ],
      "execution_count": 160,
      "outputs": [
        {
          "output_type": "stream",
          "text": [
            "(Weighted) F1 score of FastTextEmb CNN model:\n"
          ],
          "name": "stdout"
        },
        {
          "output_type": "execute_result",
          "data": {
            "text/plain": [
              "0.6652778764999756"
            ]
          },
          "metadata": {
            "tags": []
          },
          "execution_count": 160
        }
      ]
    },
    {
      "cell_type": "markdown",
      "metadata": {
        "id": "sm3iEv4qrRpb",
        "colab_type": "text"
      },
      "source": [
        "# Model Visualization"
      ]
    },
    {
      "cell_type": "code",
      "metadata": {
        "id": "ONz-Y-uRHAAS",
        "colab_type": "code",
        "outputId": "009881cf-b1c3-4c55-fd46-b5f05ead712d",
        "colab": {
          "base_uri": "https://localhost:8080/",
          "height": 757
        }
      },
      "source": [
        "plot_model(model_blstm, to_file='multiclass-blstm.png')"
      ],
      "execution_count": 48,
      "outputs": [
        {
          "output_type": "execute_result",
          "data": {
            "image/png": "[encoded data removed]",
            "text/plain": [
              "<IPython.core.display.Image object>"
            ]
          },
          "metadata": {
            "tags": []
          },
          "execution_count": 48
        }
      ]
    },
    {
      "cell_type": "code",
      "metadata": {
        "id": "lmjcuNfT05vZ",
        "colab_type": "code",
        "colab": {}
      },
      "source": [
        "# Decomment following line if you want to download model figure\n",
        "# files.download('multiclass-blstm.png')"
      ],
      "execution_count": 0,
      "outputs": []
    },
    {
      "cell_type": "code",
      "metadata": {
        "id": "qxhbbDPfrvD8",
        "colab_type": "code",
        "outputId": "b8e7a453-10ae-4847-a605-dc44cc578189",
        "colab": {
          "base_uri": "https://localhost:8080/",
          "height": 1000
        }
      },
      "source": [
        "plot_model(model_cnn, to_file='multiclass-cnn.png')"
      ],
      "execution_count": 50,
      "outputs": [
        {
          "output_type": "execute_result",
          "data": {
            "image/png": "[encoded data removed]",
            "text/plain": [
              "<IPython.core.display.Image object>"
            ]
          },
          "metadata": {
            "tags": []
          },
          "execution_count": 50
        }
      ]
    },
    {
      "cell_type": "code",
      "metadata": {
        "id": "-ItW2BcC0WKB",
        "colab_type": "code",
        "colab": {}
      },
      "source": [
        "# Decomment following line if you want to download model figure\n",
        "# files.download('multiclass-cnn.png')"
      ],
      "execution_count": 0,
      "outputs": []
    },
    {
      "cell_type": "code",
      "metadata": {
        "id": "EnH-wBSQ1BTl",
        "colab_type": "code",
        "colab": {}
      },
      "source": [
        ""
      ],
      "execution_count": 0,
      "outputs": []
    }
  ]
}