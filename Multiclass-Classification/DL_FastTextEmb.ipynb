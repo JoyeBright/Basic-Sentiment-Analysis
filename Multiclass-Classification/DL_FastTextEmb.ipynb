{
  "nbformat": 4,
  "nbformat_minor": 0,
  "metadata": {
    "colab": {
      "name": "DL-FastTextEmb.ipynb",
      "provenance": [],
      "collapsed_sections": [],
      "include_colab_link": true
    },
    "kernelspec": {
      "name": "python3",
      "display_name": "Python 3"
    },
    "accelerator": "GPU"
  },
  "cells": [
    {
      "cell_type": "markdown",
      "metadata": {
        "id": "view-in-github",
        "colab_type": "text"
      },
      "source": [
        "<a href=\"https://colab.research.google.com/github/parsa-abbasi/Sentiment-Analysis/blob/master/DeepLearning/DL_FastTextEmb.ipynb\" target=\"_parent\"><img src=\"https://colab.research.google.com/assets/colab-badge.svg\" alt=\"Open In Colab\"/></a>"
      ]
    },
    {
      "cell_type": "markdown",
      "metadata": {
        "id": "QthdEc8Cp5Nt",
        "colab_type": "text"
      },
      "source": [
        "# Requirements"
      ]
    },
    {
      "cell_type": "markdown",
      "metadata": {
        "id": "CcZrLDljhnub",
        "colab_type": "text"
      },
      "source": [
        "## Get FastText"
      ]
    },
    {
      "cell_type": "markdown",
      "metadata": {
        "id": "nki6x2MGbEF-",
        "colab_type": "text"
      },
      "source": [
        "Download FastText word vectors file for Persian\n",
        "\n",
        "(The list of all model vector files are available [here](https://fasttext.cc/docs/en/pretrained-vectors.html))"
      ]
    },
    {
      "cell_type": "code",
      "metadata": {
        "id": "4wCOcr1ao1VX",
        "colab_type": "code",
        "outputId": "fcd120d7-b7c1-4513-cc92-351266b31730",
        "colab": {
          "base_uri": "https://localhost:8080/",
          "height": 204
        }
      },
      "source": [
        "!wget https://dl.fbaipublicfiles.com/fasttext/vectors-wiki/wiki.fa.vec"
      ],
      "execution_count": 1,
      "outputs": [
        {
          "output_type": "stream",
          "text": [
            "--2019-11-27 12:04:16--  https://dl.fbaipublicfiles.com/fasttext/vectors-wiki/wiki.fa.vec\n",
            "Resolving dl.fbaipublicfiles.com (dl.fbaipublicfiles.com)... 104.20.22.166, 104.20.6.166, 2606:4700:10::6814:6a6, ...\n",
            "Connecting to dl.fbaipublicfiles.com (dl.fbaipublicfiles.com)|104.20.22.166|:443... connected.\n",
            "HTTP request sent, awaiting response... 200 OK\n",
            "Length: 1105157170 (1.0G) [binary/octet-stream]\n",
            "Saving to: ‘wiki.fa.vec’\n",
            "\n",
            "wiki.fa.vec         100%[===================>]   1.03G  11.5MB/s    in 93s     \n",
            "\n",
            "2019-11-27 12:05:50 (11.3 MB/s) - ‘wiki.fa.vec’ saved [1105157170/1105157170]\n",
            "\n"
          ],
          "name": "stdout"
        }
      ]
    },
    {
      "cell_type": "markdown",
      "metadata": {
        "id": "m1eImT5Ehsfs",
        "colab_type": "text"
      },
      "source": [
        "## Install required libraries"
      ]
    },
    {
      "cell_type": "code",
      "metadata": {
        "id": "0yHgWvqWBAqS",
        "colab_type": "code",
        "outputId": "ae0fa87a-2227-47d1-b3bd-e7ffedc6de48",
        "colab": {
          "base_uri": "https://localhost:8080/",
          "height": 496
        }
      },
      "source": [
        "!pip install hazm\n",
        "!pip install stopwords_guilannlp"
      ],
      "execution_count": 2,
      "outputs": [
        {
          "output_type": "stream",
          "text": [
            "Collecting hazm\n",
            "\u001b[?25l  Downloading https://files.pythonhosted.org/packages/22/13/5a7074bc11d20dbbb46239349ac3f85f7edc148b4cf68e9b8c2f8263830c/hazm-0.7.0-py3-none-any.whl (316kB)\n",
            "\r\u001b[K     |█                               | 10kB 18.4MB/s eta 0:00:01\r\u001b[K     |██                              | 20kB 4.3MB/s eta 0:00:01\r\u001b[K     |███                             | 30kB 6.1MB/s eta 0:00:01\r\u001b[K     |████▏                           | 40kB 7.8MB/s eta 0:00:01\r\u001b[K     |█████▏                          | 51kB 4.9MB/s eta 0:00:01\r\u001b[K     |██████▏                         | 61kB 5.8MB/s eta 0:00:01\r\u001b[K     |███████▎                        | 71kB 6.6MB/s eta 0:00:01\r\u001b[K     |████████▎                       | 81kB 7.4MB/s eta 0:00:01\r\u001b[K     |█████████▎                      | 92kB 8.1MB/s eta 0:00:01\r\u001b[K     |██████████▍                     | 102kB 6.5MB/s eta 0:00:01\r\u001b[K     |███████████▍                    | 112kB 6.5MB/s eta 0:00:01\r\u001b[K     |████████████▍                   | 122kB 6.5MB/s eta 0:00:01\r\u001b[K     |█████████████▌                  | 133kB 6.5MB/s eta 0:00:01\r\u001b[K     |██████████████▌                 | 143kB 6.5MB/s eta 0:00:01\r\u001b[K     |███████████████▌                | 153kB 6.5MB/s eta 0:00:01\r\u001b[K     |████████████████▋               | 163kB 6.5MB/s eta 0:00:01\r\u001b[K     |█████████████████▋              | 174kB 6.5MB/s eta 0:00:01\r\u001b[K     |██████████████████▋             | 184kB 6.5MB/s eta 0:00:01\r\u001b[K     |███████████████████▋            | 194kB 6.5MB/s eta 0:00:01\r\u001b[K     |████████████████████▊           | 204kB 6.5MB/s eta 0:00:01\r\u001b[K     |█████████████████████▊          | 215kB 6.5MB/s eta 0:00:01\r\u001b[K     |██████████████████████▊         | 225kB 6.5MB/s eta 0:00:01\r\u001b[K     |███████████████████████▉        | 235kB 6.5MB/s eta 0:00:01\r\u001b[K     |████████████████████████▉       | 245kB 6.5MB/s eta 0:00:01\r\u001b[K     |█████████████████████████▉      | 256kB 6.5MB/s eta 0:00:01\r\u001b[K     |███████████████████████████     | 266kB 6.5MB/s eta 0:00:01\r\u001b[K     |████████████████████████████    | 276kB 6.5MB/s eta 0:00:01\r\u001b[K     |█████████████████████████████   | 286kB 6.5MB/s eta 0:00:01\r\u001b[K     |██████████████████████████████  | 296kB 6.5MB/s eta 0:00:01\r\u001b[K     |███████████████████████████████ | 307kB 6.5MB/s eta 0:00:01\r\u001b[K     |████████████████████████████████| 317kB 6.5MB/s \n",
            "\u001b[?25hCollecting nltk==3.3\n",
            "\u001b[?25l  Downloading https://files.pythonhosted.org/packages/50/09/3b1755d528ad9156ee7243d52aa5cd2b809ef053a0f31b53d92853dd653a/nltk-3.3.0.zip (1.4MB)\n",
            "\r\u001b[K     |▎                               | 10kB 21.8MB/s eta 0:00:01\r\u001b[K     |▌                               | 20kB 28.1MB/s eta 0:00:01\r\u001b[K     |▊                               | 30kB 26.5MB/s eta 0:00:01\r\u001b[K     |█                               | 40kB 29.3MB/s eta 0:00:01\r\u001b[K     |█▏                              | 51kB 31.3MB/s eta 0:00:01\r\u001b[K     |█▍                              | 61kB 33.4MB/s eta 0:00:01\r\u001b[K     |█▋                              | 71kB 35.0MB/s eta 0:00:01\r\u001b[K     |█▉                              | 81kB 36.7MB/s eta 0:00:01\r\u001b[K     |██▏                             | 92kB 38.2MB/s eta 0:00:01\r\u001b[K     |██▍                             | 102kB 39.4MB/s eta 0:00:01\r\u001b[K     |██▋                             | 112kB 39.4MB/s eta 0:00:01\r\u001b[K     |██▉                             | 122kB 39.4MB/s eta 0:00:01\r\u001b[K     |███                             | 133kB 39.4MB/s eta 0:00:01\r\u001b[K     |███▎                            | 143kB 39.4MB/s eta 0:00:01\r\u001b[K     |███▌                            | 153kB 39.4MB/s eta 0:00:01\r\u001b[K     |███▊                            | 163kB 39.4MB/s eta 0:00:01\r\u001b[K     |████                            | 174kB 39.4MB/s eta 0:00:01\r\u001b[K     |████▎                           | 184kB 39.4MB/s eta 0:00:01\r\u001b[K     |████▌                           | 194kB 39.4MB/s eta 0:00:01\r\u001b[K     |████▊                           | 204kB 39.4MB/s eta 0:00:01\r\u001b[K     |█████                           | 215kB 39.4MB/s eta 0:00:01\r\u001b[K     |█████▏                          | 225kB 39.4MB/s eta 0:00:01\r\u001b[K     |█████▍                          | 235kB 39.4MB/s eta 0:00:01\r\u001b[K     |█████▋                          | 245kB 39.4MB/s eta 0:00:01\r\u001b[K     |██████                          | 256kB 39.4MB/s eta 0:00:01\r\u001b[K     |██████▏                         | 266kB 39.4MB/s eta 0:00:01\r\u001b[K     |██████▍                         | 276kB 39.4MB/s eta 0:00:01\r\u001b[K     |██████▋                         | 286kB 39.4MB/s eta 0:00:01\r\u001b[K     |██████▉                         | 296kB 39.4MB/s eta 0:00:01\r\u001b[K     |███████                         | 307kB 39.4MB/s eta 0:00:01\r\u001b[K     |███████▎                        | 317kB 39.4MB/s eta 0:00:01\r\u001b[K     |███████▌                        | 327kB 39.4MB/s eta 0:00:01\r\u001b[K     |███████▊                        | 337kB 39.4MB/s eta 0:00:01\r\u001b[K     |████████                        | 348kB 39.4MB/s eta 0:00:01\r\u001b[K     |████████▎                       | 358kB 39.4MB/s eta 0:00:01\r\u001b[K     |████████▌                       | 368kB 39.4MB/s eta 0:00:01\r\u001b[K     |████████▊                       | 378kB 39.4MB/s eta 0:00:01\r\u001b[K     |█████████                       | 389kB 39.4MB/s eta 0:00:01\r\u001b[K     |█████████▏                      | 399kB 39.4MB/s eta 0:00:01\r\u001b[K     |█████████▍                      | 409kB 39.4MB/s eta 0:00:01\r\u001b[K     |█████████▋                      | 419kB 39.4MB/s eta 0:00:01\r\u001b[K     |██████████                      | 430kB 39.4MB/s eta 0:00:01\r\u001b[K     |██████████▏                     | 440kB 39.4MB/s eta 0:00:01\r\u001b[K     |██████████▍                     | 450kB 39.4MB/s eta 0:00:01\r\u001b[K     |██████████▋                     | 460kB 39.4MB/s eta 0:00:01\r\u001b[K     |██████████▉                     | 471kB 39.4MB/s eta 0:00:01\r\u001b[K     |███████████                     | 481kB 39.4MB/s eta 0:00:01\r\u001b[K     |███████████▎                    | 491kB 39.4MB/s eta 0:00:01\r\u001b[K     |███████████▌                    | 501kB 39.4MB/s eta 0:00:01\r\u001b[K     |███████████▉                    | 512kB 39.4MB/s eta 0:00:01\r\u001b[K     |████████████                    | 522kB 39.4MB/s eta 0:00:01\r\u001b[K     |████████████▎                   | 532kB 39.4MB/s eta 0:00:01\r\u001b[K     |████████████▌                   | 542kB 39.4MB/s eta 0:00:01\r\u001b[K     |████████████▊                   | 552kB 39.4MB/s eta 0:00:01\r\u001b[K     |█████████████                   | 563kB 39.4MB/s eta 0:00:01\r\u001b[K     |█████████████▏                  | 573kB 39.4MB/s eta 0:00:01\r\u001b[K     |█████████████▍                  | 583kB 39.4MB/s eta 0:00:01\r\u001b[K     |█████████████▊                  | 593kB 39.4MB/s eta 0:00:01\r\u001b[K     |██████████████                  | 604kB 39.4MB/s eta 0:00:01\r\u001b[K     |██████████████▏                 | 614kB 39.4MB/s eta 0:00:01\r\u001b[K     |██████████████▍                 | 624kB 39.4MB/s eta 0:00:01\r\u001b[K     |██████████████▋                 | 634kB 39.4MB/s eta 0:00:01\r\u001b[K     |██████████████▉                 | 645kB 39.4MB/s eta 0:00:01\r\u001b[K     |███████████████                 | 655kB 39.4MB/s eta 0:00:01\r\u001b[K     |███████████████▎                | 665kB 39.4MB/s eta 0:00:01\r\u001b[K     |███████████████▌                | 675kB 39.4MB/s eta 0:00:01\r\u001b[K     |███████████████▉                | 686kB 39.4MB/s eta 0:00:01\r\u001b[K     |████████████████                | 696kB 39.4MB/s eta 0:00:01\r\u001b[K     |████████████████▎               | 706kB 39.4MB/s eta 0:00:01\r\u001b[K     |████████████████▌               | 716kB 39.4MB/s eta 0:00:01\r\u001b[K     |████████████████▊               | 727kB 39.4MB/s eta 0:00:01\r\u001b[K     |█████████████████               | 737kB 39.4MB/s eta 0:00:01\r\u001b[K     |█████████████████▏              | 747kB 39.4MB/s eta 0:00:01\r\u001b[K     |█████████████████▍              | 757kB 39.4MB/s eta 0:00:01\r\u001b[K     |█████████████████▊              | 768kB 39.4MB/s eta 0:00:01\r\u001b[K     |██████████████████              | 778kB 39.4MB/s eta 0:00:01\r\u001b[K     |██████████████████▏             | 788kB 39.4MB/s eta 0:00:01\r\u001b[K     |██████████████████▍             | 798kB 39.4MB/s eta 0:00:01\r\u001b[K     |██████████████████▋             | 808kB 39.4MB/s eta 0:00:01\r\u001b[K     |██████████████████▉             | 819kB 39.4MB/s eta 0:00:01\r\u001b[K     |███████████████████             | 829kB 39.4MB/s eta 0:00:01\r\u001b[K     |███████████████████▎            | 839kB 39.4MB/s eta 0:00:01\r\u001b[K     |███████████████████▋            | 849kB 39.4MB/s eta 0:00:01\r\u001b[K     |███████████████████▉            | 860kB 39.4MB/s eta 0:00:01\r\u001b[K     |████████████████████            | 870kB 39.4MB/s eta 0:00:01\r\u001b[K     |████████████████████▎           | 880kB 39.4MB/s eta 0:00:01\r\u001b[K     |████████████████████▌           | 890kB 39.4MB/s eta 0:00:01\r\u001b[K     |████████████████████▊           | 901kB 39.4MB/s eta 0:00:01\r\u001b[K     |█████████████████████           | 911kB 39.4MB/s eta 0:00:01\r\u001b[K     |█████████████████████▏          | 921kB 39.4MB/s eta 0:00:01\r\u001b[K     |█████████████████████▌          | 931kB 39.4MB/s eta 0:00:01\r\u001b[K     |█████████████████████▊          | 942kB 39.4MB/s eta 0:00:01\r\u001b[K     |██████████████████████          | 952kB 39.4MB/s eta 0:00:01\r\u001b[K     |██████████████████████▏         | 962kB 39.4MB/s eta 0:00:01\r\u001b[K     |██████████████████████▍         | 972kB 39.4MB/s eta 0:00:01\r\u001b[K     |██████████████████████▋         | 983kB 39.4MB/s eta 0:00:01\r\u001b[K     |██████████████████████▉         | 993kB 39.4MB/s eta 0:00:01\r\u001b[K     |███████████████████████         | 1.0MB 39.4MB/s eta 0:00:01\r\u001b[K     |███████████████████████▎        | 1.0MB 39.4MB/s eta 0:00:01\r\u001b[K     |███████████████████████▋        | 1.0MB 39.4MB/s eta 0:00:01\r\u001b[K     |███████████████████████▉        | 1.0MB 39.4MB/s eta 0:00:01\r\u001b[K     |████████████████████████        | 1.0MB 39.4MB/s eta 0:00:01\r\u001b[K     |████████████████████████▎       | 1.1MB 39.4MB/s eta 0:00:01\r\u001b[K     |████████████████████████▌       | 1.1MB 39.4MB/s eta 0:00:01\r\u001b[K     |████████████████████████▊       | 1.1MB 39.4MB/s eta 0:00:01\r\u001b[K     |█████████████████████████       | 1.1MB 39.4MB/s eta 0:00:01\r\u001b[K     |█████████████████████████▏      | 1.1MB 39.4MB/s eta 0:00:01\r\u001b[K     |█████████████████████████▌      | 1.1MB 39.4MB/s eta 0:00:01\r\u001b[K     |█████████████████████████▊      | 1.1MB 39.4MB/s eta 0:00:01\r\u001b[K     |██████████████████████████      | 1.1MB 39.4MB/s eta 0:00:01\r\u001b[K     |██████████████████████████▏     | 1.1MB 39.4MB/s eta 0:00:01\r\u001b[K     |██████████████████████████▍     | 1.1MB 39.4MB/s eta 0:00:01\r\u001b[K     |██████████████████████████▋     | 1.2MB 39.4MB/s eta 0:00:01\r\u001b[K     |██████████████████████████▉     | 1.2MB 39.4MB/s eta 0:00:01\r\u001b[K     |███████████████████████████     | 1.2MB 39.4MB/s eta 0:00:01\r\u001b[K     |███████████████████████████▍    | 1.2MB 39.4MB/s eta 0:00:01\r\u001b[K     |███████████████████████████▋    | 1.2MB 39.4MB/s eta 0:00:01\r\u001b[K     |███████████████████████████▉    | 1.2MB 39.4MB/s eta 0:00:01\r\u001b[K     |████████████████████████████    | 1.2MB 39.4MB/s eta 0:00:01\r\u001b[K     |████████████████████████████▎   | 1.2MB 39.4MB/s eta 0:00:01\r\u001b[K     |████████████████████████████▌   | 1.2MB 39.4MB/s eta 0:00:01\r\u001b[K     |████████████████████████████▊   | 1.2MB 39.4MB/s eta 0:00:01\r\u001b[K     |█████████████████████████████   | 1.3MB 39.4MB/s eta 0:00:01\r\u001b[K     |█████████████████████████████▎  | 1.3MB 39.4MB/s eta 0:00:01\r\u001b[K     |█████████████████████████████▌  | 1.3MB 39.4MB/s eta 0:00:01\r\u001b[K     |█████████████████████████████▊  | 1.3MB 39.4MB/s eta 0:00:01\r\u001b[K     |██████████████████████████████  | 1.3MB 39.4MB/s eta 0:00:01\r\u001b[K     |██████████████████████████████▏ | 1.3MB 39.4MB/s eta 0:00:01\r\u001b[K     |██████████████████████████████▍ | 1.3MB 39.4MB/s eta 0:00:01\r\u001b[K     |██████████████████████████████▋ | 1.3MB 39.4MB/s eta 0:00:01\r\u001b[K     |██████████████████████████████▉ | 1.3MB 39.4MB/s eta 0:00:01\r\u001b[K     |███████████████████████████████ | 1.4MB 39.4MB/s eta 0:00:01\r\u001b[K     |███████████████████████████████▍| 1.4MB 39.4MB/s eta 0:00:01\r\u001b[K     |███████████████████████████████▋| 1.4MB 39.4MB/s eta 0:00:01\r\u001b[K     |███████████████████████████████▉| 1.4MB 39.4MB/s eta 0:00:01\r\u001b[K     |████████████████████████████████| 1.4MB 39.4MB/s \n",
            "\u001b[?25hCollecting libwapiti>=0.2.1; platform_system != \"Windows\"\n",
            "\u001b[?25l  Downloading https://files.pythonhosted.org/packages/bc/0f/1c9b49bb49821b5856a64ea6fac8d96a619b9f291d1f06999ea98a32c89c/libwapiti-0.2.1.tar.gz (233kB)\n",
            "\r\u001b[K     |█▍                              | 10kB 22.9MB/s eta 0:00:01\r\u001b[K     |██▉                             | 20kB 28.0MB/s eta 0:00:01\r\u001b[K     |████▏                           | 30kB 33.5MB/s eta 0:00:01\r\u001b[K     |█████▋                          | 40kB 36.9MB/s eta 0:00:01\r\u001b[K     |███████                         | 51kB 39.0MB/s eta 0:00:01\r\u001b[K     |████████▍                       | 61kB 41.5MB/s eta 0:00:01\r\u001b[K     |█████████▉                      | 71kB 41.8MB/s eta 0:00:01\r\u001b[K     |███████████▏                    | 81kB 43.0MB/s eta 0:00:01\r\u001b[K     |████████████▋                   | 92kB 31kB/s eta 0:00:05\r\u001b[K     |██████████████                  | 102kB 35kB/s eta 0:00:04\r\u001b[K     |███████████████▍                | 112kB 35kB/s eta 0:00:04\r\u001b[K     |████████████████▉               | 122kB 35kB/s eta 0:00:04\r\u001b[K     |██████████████████▎             | 133kB 35kB/s eta 0:00:03\r\u001b[K     |███████████████████▋            | 143kB 35kB/s eta 0:00:03\r\u001b[K     |█████████████████████           | 153kB 35kB/s eta 0:00:03\r\u001b[K     |██████████████████████▍         | 163kB 35kB/s eta 0:00:02\r\u001b[K     |███████████████████████▉        | 174kB 35kB/s eta 0:00:02\r\u001b[K     |█████████████████████████▎      | 184kB 35kB/s eta 0:00:02\r\u001b[K     |██████████████████████████▋     | 194kB 35kB/s eta 0:00:02\r\u001b[K     |████████████████████████████    | 204kB 35kB/s eta 0:00:01\r\u001b[K     |█████████████████████████████▌  | 215kB 35kB/s eta 0:00:01\r\u001b[K     |██████████████████████████████▉ | 225kB 35kB/s eta 0:00:01\r\u001b[K     |████████████████████████████████| 235kB 35kB/s \n",
            "\u001b[?25hRequirement already satisfied: six in /usr/local/lib/python3.6/dist-packages (from nltk==3.3->hazm) (1.12.0)\n",
            "Building wheels for collected packages: nltk, libwapiti\n",
            "  Building wheel for nltk (setup.py) ... \u001b[?25l\u001b[?25hdone\n",
            "  Created wheel for nltk: filename=nltk-3.3-cp36-none-any.whl size=1394469 sha256=643737751fd5fda549fcbd8c81aa99c3c958e03ecf17b97bea7ff43810aef757\n",
            "  Stored in directory: /root/.cache/pip/wheels/d1/ab/40/3bceea46922767e42986aef7606a600538ca80de6062dc266c\n",
            "  Building wheel for libwapiti (setup.py) ... \u001b[?25l\u001b[?25hdone\n",
            "  Created wheel for libwapiti: filename=libwapiti-0.2.1-cp36-cp36m-linux_x86_64.whl size=153927 sha256=55cb16bd081375335f782fc5e3a62e256e6486f8c9c4d2b4a39c2c73e87961c6\n",
            "  Stored in directory: /root/.cache/pip/wheels/66/15/54/4510dce8bb958b1cdd2c47425cbd1e1eecc0480ac9bb1fb9ab\n",
            "Successfully built nltk libwapiti\n",
            "Installing collected packages: nltk, libwapiti, hazm\n",
            "  Found existing installation: nltk 3.2.5\n",
            "    Uninstalling nltk-3.2.5:\n",
            "      Successfully uninstalled nltk-3.2.5\n",
            "Successfully installed hazm-0.7.0 libwapiti-0.2.1 nltk-3.3\n",
            "Collecting stopwords_guilannlp\n",
            "  Downloading https://files.pythonhosted.org/packages/44/bc/a01c003b59a91187e89d11e73e8bb2834bb9ae6b36fe576a4b617c90bd23/stopwords_guilannlp-13.2019.3.5-py3-none-any.whl\n",
            "Installing collected packages: stopwords-guilannlp\n",
            "Successfully installed stopwords-guilannlp-13.2019.3.5\n"
          ],
          "name": "stdout"
        }
      ]
    },
    {
      "cell_type": "markdown",
      "metadata": {
        "id": "qHENRyUpp-fb",
        "colab_type": "text"
      },
      "source": [
        "## Import Libraries"
      ]
    },
    {
      "cell_type": "code",
      "metadata": {
        "id": "DyJ0hqR8nku1",
        "colab_type": "code",
        "colab": {}
      },
      "source": [
        "# General\n",
        "import numpy as np\n",
        "import pandas as pd\n",
        "import codecs\n",
        "# Word Embedding\n",
        "from gensim.models import KeyedVectors\n",
        "# Keras\n",
        "from keras import optimizers\n",
        "from keras.models import Model, Sequential\n",
        "from keras.layers import Dense, Input, Embedding, Dropout\n",
        "from keras.layers import GlobalMaxPool1D, MaxPooling1D, GlobalMaxPooling1D\n",
        "from keras.layers import CuDNNLSTM, LSTM, Bidirectional\n",
        "from keras.layers.convolutional import Conv1D\n",
        "from keras.utils.np_utils import to_categorical\n",
        "from keras.metrics import categorical_accuracy\n",
        "from keras.utils import plot_model\n",
        "from keras.preprocessing.text import Tokenizer\n",
        "from keras.preprocessing.sequence import pad_sequences\n",
        "# Preprocessing\n",
        "from stopwords_guilannlp import stopwords_output\n",
        "from hazm import *\n",
        "# Visualization\n",
        "%matplotlib inline\n",
        "import matplotlib.pyplot as plt"
      ],
      "execution_count": 0,
      "outputs": []
    },
    {
      "cell_type": "markdown",
      "metadata": {
        "id": "56Zm6edfuwXC",
        "colab_type": "text"
      },
      "source": [
        "# Upload dataset files"
      ]
    },
    {
      "cell_type": "markdown",
      "metadata": {
        "id": "wamGYNk-sbGV",
        "colab_type": "text"
      },
      "source": [
        "Upload dataset files to colab environment\n",
        "\n",
        "You can access to dataset files through following links:\n",
        "\n",
        "(x_train, x_test, y_train, y_test)\n",
        "- [Original dataset](https://github.com/parsa-abbasi/Sentiment-Analysis/tree/master/Dataset/Original)\n",
        "- [Balanced with extra data](https://github.com/parsa-abbasi/Sentiment-Analysis/tree/master/Dataset/BalancedWithExtra)\n",
        "- [Data Augmentation - Full Translate](https://github.com/parsa-abbasi/Sentiment-Analysis/tree/master/Dataset/FullTranslate)\n",
        "- [Data Augmentation - Synonyms](https://github.com/parsa-abbasi/Sentiment-Analysis/tree/master/Dataset/Synonyms)"
      ]
    },
    {
      "cell_type": "code",
      "metadata": {
        "id": "VvTYlRzbuwcd",
        "colab_type": "code",
        "outputId": "bd1aae14-8359-467b-f659-0101d26832a1",
        "colab": {
          "resources": {
            "http://localhost:8080/nbextensions/google.colab/files.js": {
              "data": "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",
              "ok": true,
              "headers": [
                [
                  "content-type",
                  "application/javascript"
                ]
              ],
              "status": 200,
              "status_text": ""
            }
          },
          "base_uri": "https://localhost:8080/",
          "height": 176
        }
      },
      "source": [
        "from google.colab import files\n",
        "uploaded = files.upload()"
      ],
      "execution_count": 4,
      "outputs": [
        {
          "output_type": "display_data",
          "data": {
            "text/html": [
              "\n",
              "     <input type=\"file\" id=\"files-1541753c-e652-4291-96ea-26f71e6f81a8\" name=\"files[]\" multiple disabled />\n",
              "     <output id=\"result-1541753c-e652-4291-96ea-26f71e6f81a8\">\n",
              "      Upload widget is only available when the cell has been executed in the\n",
              "      current browser session. Please rerun this cell to enable.\n",
              "      </output>\n",
              "      <script src=\"/nbextensions/google.colab/files.js\"></script> "
            ],
            "text/plain": [
              "<IPython.core.display.HTML object>"
            ]
          },
          "metadata": {
            "tags": []
          }
        },
        {
          "output_type": "stream",
          "text": [
            "Saving x_test.csv to x_test.csv\n",
            "Saving x_train.csv to x_train.csv\n",
            "Saving y_test.csv to y_test.csv\n",
            "Saving y_train.csv to y_train.csv\n"
          ],
          "name": "stdout"
        }
      ]
    },
    {
      "cell_type": "markdown",
      "metadata": {
        "id": "6FbuK-Gmupe2",
        "colab_type": "text"
      },
      "source": [
        "\n",
        "# Import & Analyze Dataset"
      ]
    },
    {
      "cell_type": "code",
      "metadata": {
        "id": "RXEXLFZoupUr",
        "colab_type": "code",
        "colab": {}
      },
      "source": [
        "x_train = pd.read_csv('x_train.csv', sep='\\t', index_col=None, header=None, encoding=\"utf-8\")[1]\n",
        "x_test = pd.read_csv('x_test.csv', sep='\\t', index_col=None, header=None, encoding=\"utf-8\")[1]\n",
        "y_train = pd.read_csv('y_train.csv', sep='\\t', index_col=None, header=None)[1]\n",
        "y_test = pd.read_csv('y_test.csv', sep='\\t', index_col=None, header=None)[1]"
      ],
      "execution_count": 0,
      "outputs": []
    },
    {
      "cell_type": "code",
      "metadata": {
        "id": "QX67vEWVyhTQ",
        "colab_type": "code",
        "colab": {}
      },
      "source": [
        "# The dataset csv files created using old version of Pandas\n",
        "# so we need to do some additional preparation\n",
        "x_train = x_train[1:]\n",
        "x_train = x_train.reset_index(drop=True)\n",
        "x_test = x_test[1:]\n",
        "x_test = x_test.reset_index(drop=True)\n",
        "y_train = y_train[1:]\n",
        "y_train = y_train.reset_index(drop=True)\n",
        "y_test = y_test[1:]\n",
        "y_test = y_test.reset_index(drop=True)"
      ],
      "execution_count": 0,
      "outputs": []
    },
    {
      "cell_type": "code",
      "metadata": {
        "id": "MATiU_eixlin",
        "colab_type": "code",
        "outputId": "41554c3f-7b79-463a-eb57-f998353ab10d",
        "colab": {
          "base_uri": "https://localhost:8080/",
          "height": 85
        }
      },
      "source": [
        "print('Number of training sentence: ', x_train.shape)\n",
        "print('Number of training label: ', y_train.shape)\n",
        "print('Number of testing sentence: ', x_test.shape)\n",
        "print('Number of testing label: ', y_test.shape)"
      ],
      "execution_count": 7,
      "outputs": [
        {
          "output_type": "stream",
          "text": [
            "Number of training sentence:  (7023,)\n",
            "Number of training label:  (7023,)\n",
            "Number of testing sentence:  (1854,)\n",
            "Number of testing label:  (1854,)\n"
          ],
          "name": "stdout"
        }
      ]
    },
    {
      "cell_type": "code",
      "metadata": {
        "id": "nL5mDIUfzjyG",
        "colab_type": "code",
        "colab": {}
      },
      "source": [
        "# Convert dataframes to numpy arrays\n",
        "x_train = np.asarray(x_train)\n",
        "x_test = np.asarray(x_test)\n",
        "y_train = np.asarray(y_train)\n",
        "y_test = np.asarray(y_test)"
      ],
      "execution_count": 0,
      "outputs": []
    },
    {
      "cell_type": "code",
      "metadata": {
        "id": "t2oX_KNK4t0p",
        "colab_type": "code",
        "outputId": "6a45f85d-7154-4070-e577-df06b3e80b8a",
        "colab": {
          "base_uri": "https://localhost:8080/",
          "height": 34
        }
      },
      "source": [
        "# See the data number of sentence in each category \n",
        "from collections import Counter\n",
        "cnt = Counter(y_train)\n",
        "cnt = dict(cnt)\n",
        "print(cnt)"
      ],
      "execution_count": 9,
      "outputs": [
        {
          "output_type": "stream",
          "text": [
            "{0: 2000, 1: 2000, 2: 1928, -1: 937, -2: 158}\n"
          ],
          "name": "stdout"
        }
      ]
    },
    {
      "cell_type": "code",
      "metadata": {
        "id": "iPDHe3qf3hMC",
        "colab_type": "code",
        "outputId": "e2d39fd3-bd24-4f67-9f45-ca2f09bae619",
        "colab": {
          "base_uri": "https://localhost:8080/",
          "height": 300
        }
      },
      "source": [
        "labels = list(cnt.keys())\n",
        "sizes = list(cnt.values())\n",
        "colors = ['#3fba36', '#66b3ff','#ffcc99','#ff9999', '#d44444']\n",
        "fig1, ax1 = plt.subplots()\n",
        "ax1.pie(sizes, labels=labels, colors=colors,\n",
        "        autopct='%1.1f%%', startangle=90)\n",
        "#draw circle\n",
        "centre_circle = plt.Circle((0,0),0.70,fc='white')\n",
        "fig = plt.gcf()\n",
        "fig.gca().add_artist(centre_circle)\n",
        "# Equal aspect ratio ensures that pie is drawn as a circle\n",
        "ax1.axis('equal')  \n",
        "plt.tight_layout()\n",
        "plt.show()"
      ],
      "execution_count": 10,
      "outputs": [
        {
          "output_type": "display_data",
          "data": {
            "image/png": "[encoded data removed]",
            "text/plain": [
              "<Figure size 432x288 with 1 Axes>"
            ]
          },
          "metadata": {
            "tags": []
          }
        }
      ]
    },
    {
      "cell_type": "markdown",
      "metadata": {
        "id": "2imgOHrg7Pzz",
        "colab_type": "text"
      },
      "source": [
        "# Preprocess"
      ]
    },
    {
      "cell_type": "code",
      "metadata": {
        "id": "4-XiHjK87VpK",
        "colab_type": "code",
        "colab": {}
      },
      "source": [
        "# Customize preprocessing\n",
        "puncs = ['،', '.', ',', ':', ';', '\"']\n",
        "\n",
        "# Hazm library\n",
        "normalizer = Normalizer()\n",
        "lemmatizer = Lemmatizer()\n",
        "\n",
        "# Apply preprocessing to a document\n",
        "def clean_doc(doc):\n",
        "  # Normalize document\n",
        "  doc = normalizer.normalize(doc)\n",
        "  # Tokenize text\n",
        "  tokenized = word_tokenize(doc)\n",
        "  # Remove punctuation\n",
        "  tokens = []\n",
        "  for t in tokenized:\n",
        "    temp = t\n",
        "    for p in puncs:\n",
        "      temp = temp.replace(p, '')\n",
        "    if temp.isdigit():\n",
        "      tokens.append('<DIGIT>')\n",
        "    else:\n",
        "      tokens.append(temp)\n",
        "  # Remove stop words\n",
        "  # tokens = [w for w in tokens if not w in stop_set]\n",
        "  # Remove one length words\n",
        "  tokens = [w for w in tokens if not len(w) <= 1]\n",
        "  # Remove digits\n",
        "  #tokens = [w for w in tokens if not w.isdigit()]\n",
        "  # Lemmatize sentence words using Hazm Lemmatizer\n",
        "  tokens = [lemmatizer.lemmatize(w) for w in tokens]\n",
        "  # Merge tokens to a single string\n",
        "  tokens = ' '.join(tokens)\n",
        "  return tokens"
      ],
      "execution_count": 0,
      "outputs": []
    },
    {
      "cell_type": "markdown",
      "metadata": {
        "id": "S-YylKUoqElV",
        "colab_type": "text"
      },
      "source": [
        "# Prepare FastText Model"
      ]
    },
    {
      "cell_type": "code",
      "metadata": {
        "id": "1F_olE5An-5I",
        "colab_type": "code",
        "outputId": "8c335dad-6f9e-4baa-a4e8-27c4627471e4",
        "colab": {
          "base_uri": "https://localhost:8080/",
          "height": 71
        }
      },
      "source": [
        "EMBEDDING_FILE = 'wiki.fa.vec'\n",
        "\n",
        "def import_with_gensim(file_address):\n",
        "  # Creating the model\n",
        "  ft_model = KeyedVectors.load_word2vec_format(file_address)\n",
        "  # Getting the tokens\n",
        "  ft_words = []\n",
        "  for ft_word in ft_model.vocab:\n",
        "      ft_words.append(ft_word)\n",
        "  return ft_model, ft_words\n",
        "  \n",
        "ft_model, ft_words = import_with_gensim(EMBEDDING_FILE)"
      ],
      "execution_count": 12,
      "outputs": [
        {
          "output_type": "stream",
          "text": [
            "/usr/local/lib/python3.6/dist-packages/smart_open/smart_open_lib.py:402: UserWarning: This function is deprecated, use smart_open.open instead. See the migration notes for details: https://github.com/RaRe-Technologies/smart_open/blob/master/README.rst#migrating-to-the-new-open-function\n",
            "  'See the migration notes for details: %s' % _MIGRATION_NOTES_URL\n"
          ],
          "name": "stderr"
        }
      ]
    },
    {
      "cell_type": "code",
      "metadata": {
        "id": "WbXOKymz-OS1",
        "colab_type": "code",
        "colab": {}
      },
      "source": [
        "# FastText embedding dimensionality\n",
        "embed_size = 300"
      ],
      "execution_count": 0,
      "outputs": []
    },
    {
      "cell_type": "code",
      "metadata": {
        "id": "0lraPVp4ptF1",
        "colab_type": "code",
        "colab": {}
      },
      "source": [
        "# We get the mean and standard deviation of the embedding weights so that we could maintain the\n",
        "# same statistics for the rest of our own random generated weights.\n",
        "embedding_list = list()\n",
        "for w in ft_words:\n",
        "  embedding_list.append(ft_model[w])\n",
        "\n",
        "all_embedding = np.stack(embedding_list)\n",
        "emb_mean, emb_std = all_embedding.mean(), all_embedding.std()"
      ],
      "execution_count": 0,
      "outputs": []
    },
    {
      "cell_type": "markdown",
      "metadata": {
        "id": "CwV8zcFJ8pki",
        "colab_type": "text"
      },
      "source": [
        "# Prepare data for Deep Learning model"
      ]
    },
    {
      "cell_type": "markdown",
      "metadata": {
        "id": "TSEcRKge69NI",
        "colab_type": "text"
      },
      "source": [
        "## Apply preprocessing to data"
      ]
    },
    {
      "cell_type": "code",
      "metadata": {
        "id": "Eaz_5RG90E8D",
        "colab_type": "code",
        "colab": {}
      },
      "source": [
        "# Apply preprocessing step to training data\n",
        "train_docs = np.empty_like(x_train)\n",
        "for index, document in enumerate(x_train):\n",
        "  train_docs[index] = clean_doc(document)"
      ],
      "execution_count": 0,
      "outputs": []
    },
    {
      "cell_type": "code",
      "metadata": {
        "id": "ZM1XsKN06BXb",
        "colab_type": "code",
        "colab": {}
      },
      "source": [
        "# Applying preprocessing step to test data\n",
        "test_docs = np.empty_like(x_test)\n",
        "for index, document in enumerate(x_test):\n",
        "  test_docs[index] = clean_doc(document)"
      ],
      "execution_count": 0,
      "outputs": []
    },
    {
      "cell_type": "markdown",
      "metadata": {
        "id": "zOVanzfQ7Etd",
        "colab_type": "text"
      },
      "source": [
        "## Setting tokenizer up"
      ]
    },
    {
      "cell_type": "code",
      "metadata": {
        "id": "yXOfMkE1yMOG",
        "colab_type": "code",
        "colab": {}
      },
      "source": [
        "num_words = 2000\n",
        "\n",
        "# Create the tokenizer\n",
        "tokenizer = Tokenizer(num_words=num_words)\n",
        "\n",
        "# fFt the tokenizer on the training documents\n",
        "tokenizer.fit_on_texts(train_docs)"
      ],
      "execution_count": 0,
      "outputs": []
    },
    {
      "cell_type": "code",
      "metadata": {
        "id": "xp3Hgq8m6gnI",
        "colab_type": "code",
        "colab": {}
      },
      "source": [
        "# Find maximum length of training sentences\n",
        "max_length = max([len(s.split()) for s in train_docs])"
      ],
      "execution_count": 0,
      "outputs": []
    },
    {
      "cell_type": "markdown",
      "metadata": {
        "id": "YfKPCiJs7RPS",
        "colab_type": "text"
      },
      "source": [
        "## Embed sentences"
      ]
    },
    {
      "cell_type": "code",
      "metadata": {
        "id": "Hl42Ym2W6PeU",
        "colab_type": "code",
        "colab": {}
      },
      "source": [
        "# Embed training sequences\n",
        "encoded_docs = tokenizer.texts_to_sequences(train_docs)\n",
        "\n",
        "# Pad embeded training sequences\n",
        "x_train_padded = pad_sequences(encoded_docs, maxlen=max_length, padding='post')"
      ],
      "execution_count": 0,
      "outputs": []
    },
    {
      "cell_type": "code",
      "metadata": {
        "id": "mQ_6Su9L16J9",
        "colab_type": "code",
        "colab": {}
      },
      "source": [
        "# Define vocabulary size (largest integer value)\n",
        "vocab_size = len(tokenizer.word_index)"
      ],
      "execution_count": 0,
      "outputs": []
    },
    {
      "cell_type": "code",
      "metadata": {
        "id": "WZnIkLd4rUrb",
        "colab_type": "code",
        "outputId": "84f6ad99-ba77-4fa2-fb3c-4f03b6b8c792",
        "colab": {
          "base_uri": "https://localhost:8080/",
          "height": 51
        }
      },
      "source": [
        "# We are going to set the embedding size to the pre-trained dimension as we are replicating it\n",
        "nb_words = len(tokenizer.word_index)\n",
        "\n",
        "# the size will be Number of Words in Vocab X Embedding Size\n",
        "embedding_matrix = np.random.normal(emb_mean, emb_std, (nb_words, embed_size))\n",
        "\n",
        "# With the newly created embedding matrix, we'll fill it up with the words that we have in both\n",
        "# our own dictionary and loaded pre-trained embedding.\n",
        "embeddedCount = 0\n",
        "for word, i in tokenizer.word_index.items():\n",
        "    i -= 1\n",
        "    # then we see if this word is in glove's dictionary, if yes, get the corresponding weights\n",
        "    if word in ft_model.vocab:\n",
        "        embedding_vector = ft_model[word]\n",
        "        # and store inside the embedding matrix that we will train later on.\n",
        "        embedding_matrix[i] = embedding_vector\n",
        "        embeddedCount += 1\n",
        "    else:   # Unknown words\n",
        "        embedding_vector = ft_model['subdivision_name']\n",
        "        embedding_matrix[i] = embedding_vector\n",
        "        embeddedCount += 1\n",
        "\n",
        "print('total embedded:', embeddedCount, 'common words')\n",
        "print('Embedding matrix shape:', embedding_matrix.shape)"
      ],
      "execution_count": 21,
      "outputs": [
        {
          "output_type": "stream",
          "text": [
            "total embedded: 6871 common words\n",
            "Embedding matrix shape: (6871, 300)\n"
          ],
          "name": "stdout"
        }
      ]
    },
    {
      "cell_type": "code",
      "metadata": {
        "id": "o8NcUFxQpN1f",
        "colab_type": "code",
        "colab": {}
      },
      "source": [
        "# Embed testing sequences\n",
        "encoded_docs = tokenizer.texts_to_sequences(test_docs)\n",
        "# Pad testing sequences\n",
        "x_test_padded = pad_sequences(encoded_docs, maxlen=max_length, padding='post')"
      ],
      "execution_count": 0,
      "outputs": []
    },
    {
      "cell_type": "markdown",
      "metadata": {
        "id": "f8IrxurU7xXB",
        "colab_type": "text"
      },
      "source": [
        "# Deep Learning Models"
      ]
    },
    {
      "cell_type": "code",
      "metadata": {
        "id": "Y4WWnDA877aA",
        "colab_type": "code",
        "colab": {}
      },
      "source": [
        "# Prepare labels for categorical prediction\n",
        "categorical_y_train = to_categorical(y_train, 5)\n",
        "categorical_y_test = to_categorical(y_test, 5)"
      ],
      "execution_count": 0,
      "outputs": []
    },
    {
      "cell_type": "markdown",
      "metadata": {
        "id": "UGzX4V3J2U9F",
        "colab_type": "text"
      },
      "source": [
        "## B-LSTM Model"
      ]
    },
    {
      "cell_type": "code",
      "metadata": {
        "id": "sFdUGLh4-v6P",
        "colab_type": "code",
        "colab": {}
      },
      "source": [
        "model_blstm = Sequential()\n",
        "model_blstm.add(Embedding(vocab_size, embedding_matrix.shape[1], weights=[embedding_matrix], trainable=False))\n",
        "model_blstm.add(Bidirectional(CuDNNLSTM(300, return_sequences=True, name='lstm_layer')))\n",
        "model_blstm.add(GlobalMaxPool1D())\n",
        "model_blstm.add(Dropout(0.2))\n",
        "model_blstm.add(Dense(300, activation=\"relu\"))\n",
        "model_blstm.add(Dropout(0.1))\n",
        "model_blstm.add(Dense(5, activation='softmax'))"
      ],
      "execution_count": 0,
      "outputs": []
    },
    {
      "cell_type": "code",
      "metadata": {
        "id": "MadF-98Rufk-",
        "colab_type": "code",
        "outputId": "812548db-2fc0-42e0-8570-fc30ab9612b7",
        "colab": {
          "base_uri": "https://localhost:8080/",
          "height": 391
        }
      },
      "source": [
        "model_blstm.compile(loss='categorical_crossentropy',\n",
        "              optimizer='adam',\n",
        "              metrics=[categorical_accuracy])\n",
        "\n",
        "model_blstm.summary()\n",
        "batch_size_blstm = 64\n",
        "epochs_blstm = 6"
      ],
      "execution_count": 41,
      "outputs": [
        {
          "output_type": "stream",
          "text": [
            "Model: \"sequential_5\"\n",
            "_________________________________________________________________\n",
            "Layer (type)                 Output Shape              Param #   \n",
            "=================================================================\n",
            "embedding_5 (Embedding)      (None, None, 300)         2061300   \n",
            "_________________________________________________________________\n",
            "bidirectional_5 (Bidirection (None, None, 600)         1444800   \n",
            "_________________________________________________________________\n",
            "global_max_pooling1d_5 (Glob (None, 600)               0         \n",
            "_________________________________________________________________\n",
            "dropout_9 (Dropout)          (None, 600)               0         \n",
            "_________________________________________________________________\n",
            "dense_9 (Dense)              (None, 300)               180300    \n",
            "_________________________________________________________________\n",
            "dropout_10 (Dropout)         (None, 300)               0         \n",
            "_________________________________________________________________\n",
            "dense_10 (Dense)             (None, 5)                 1505      \n",
            "=================================================================\n",
            "Total params: 3,687,905\n",
            "Trainable params: 1,626,605\n",
            "Non-trainable params: 2,061,300\n",
            "_________________________________________________________________\n"
          ],
          "name": "stdout"
        }
      ]
    },
    {
      "cell_type": "code",
      "metadata": {
        "id": "Yvltc4_D8Sjp",
        "colab_type": "code",
        "outputId": "e0ac9a55-f9f8-450b-f604-185a428a0157",
        "colab": {
          "base_uri": "https://localhost:8080/",
          "height": 221
        }
      },
      "source": [
        "# Train model\n",
        "hist_blstm = model_blstm.fit(x_train_padded, categorical_y_train, batch_size=batch_size_blstm, epochs=epochs_blstm)"
      ],
      "execution_count": 42,
      "outputs": [
        {
          "output_type": "stream",
          "text": [
            "Epoch 1/6\n",
            "7023/7023 [==============================] - 30s 4ms/step - loss: 1.3475 - categorical_accuracy: 0.3944\n",
            "Epoch 2/6\n",
            "7023/7023 [==============================] - 29s 4ms/step - loss: 1.1252 - categorical_accuracy: 0.5394\n",
            "Epoch 3/6\n",
            "7023/7023 [==============================] - 29s 4ms/step - loss: 0.9909 - categorical_accuracy: 0.5995\n",
            "Epoch 4/6\n",
            "7023/7023 [==============================] - 29s 4ms/step - loss: 0.8724 - categorical_accuracy: 0.6521\n",
            "Epoch 5/6\n",
            "7023/7023 [==============================] - 29s 4ms/step - loss: 0.7818 - categorical_accuracy: 0.6863\n",
            "Epoch 6/6\n",
            "7023/7023 [==============================] - 29s 4ms/step - loss: 0.6845 - categorical_accuracy: 0.7302\n"
          ],
          "name": "stdout"
        }
      ]
    },
    {
      "cell_type": "code",
      "metadata": {
        "id": "hiqdfnXMKlsZ",
        "colab_type": "code",
        "colab": {
          "base_uri": "https://localhost:8080/",
          "height": 34
        },
        "outputId": "c6addc79-a9eb-4c55-c250-b381c566dc39"
      },
      "source": [
        "# Evaluate model\n",
        "loss_blstm, acc_blstm = model_blstm.evaluate(x_test_padded, categorical_y_test, verbose=0)\n",
        "print('Test Accuracy: %f' % (acc_blstm*100))"
      ],
      "execution_count": 43,
      "outputs": [
        {
          "output_type": "stream",
          "text": [
            "Test Accuracy: 67.421791\n"
          ],
          "name": "stdout"
        }
      ]
    },
    {
      "cell_type": "code",
      "metadata": {
        "id": "imptdlcYXZF5",
        "colab_type": "code",
        "colab": {}
      },
      "source": [
        "# Get prediction label\n",
        "y_pred_blstm = model_blstm.predict_classes(x_test_padded[:-1])"
      ],
      "execution_count": 0,
      "outputs": []
    },
    {
      "cell_type": "markdown",
      "metadata": {
        "colab_type": "text",
        "id": "mjCMX44DEv-4"
      },
      "source": [
        "## CNN Model"
      ]
    },
    {
      "cell_type": "code",
      "metadata": {
        "colab_type": "code",
        "id": "FemjzX3_FJFN",
        "colab": {}
      },
      "source": [
        "model_cnn = Sequential()\n",
        "model_cnn.add(Embedding(vocab_size, embedding_matrix.shape[1], weights=[embedding_matrix], trainable=False))\n",
        "model_cnn.add(Conv1D(filters=64, kernel_size=4, activation='relu', padding='same'))\n",
        "model_cnn.add(MaxPooling1D(pool_size=2))\n",
        "model_cnn.add(Conv1D(filters=64, kernel_size=8, activation='relu', padding='same'))\n",
        "model_cnn.add(MaxPooling1D(pool_size=2))\n",
        "model_cnn.add(Conv1D(filters=64, kernel_size=16, activation='relu', padding='same'))\n",
        "model_cnn.add(GlobalMaxPooling1D())\n",
        "model_cnn.add(Dropout(0.1))\n",
        "model_cnn.add(Dense(500, activation=\"sigmoid\"))\n",
        "model_cnn.add(Dense(5, activation='softmax'))"
      ],
      "execution_count": 0,
      "outputs": []
    },
    {
      "cell_type": "code",
      "metadata": {
        "colab_type": "code",
        "outputId": "e1005085-e06d-4547-dee3-778703f7898a",
        "id": "k79NbUPiFJFT",
        "colab": {
          "base_uri": "https://localhost:8080/",
          "height": 493
        }
      },
      "source": [
        "model_cnn.compile(loss='categorical_crossentropy',\n",
        "              optimizer='adam',\n",
        "              metrics=[categorical_accuracy])\n",
        "\n",
        "model_cnn.summary()\n",
        "batch_size_cnn = 64\n",
        "epochs_cnn = 10"
      ],
      "execution_count": 52,
      "outputs": [
        {
          "output_type": "stream",
          "text": [
            "Model: \"sequential_8\"\n",
            "_________________________________________________________________\n",
            "Layer (type)                 Output Shape              Param #   \n",
            "=================================================================\n",
            "embedding_8 (Embedding)      (None, None, 300)         2061300   \n",
            "_________________________________________________________________\n",
            "conv1d_4 (Conv1D)            (None, None, 64)          76864     \n",
            "_________________________________________________________________\n",
            "max_pooling1d_3 (MaxPooling1 (None, None, 64)          0         \n",
            "_________________________________________________________________\n",
            "conv1d_5 (Conv1D)            (None, None, 64)          32832     \n",
            "_________________________________________________________________\n",
            "max_pooling1d_4 (MaxPooling1 (None, None, 64)          0         \n",
            "_________________________________________________________________\n",
            "conv1d_6 (Conv1D)            (None, None, 64)          65600     \n",
            "_________________________________________________________________\n",
            "global_max_pooling1d_7 (Glob (None, 64)                0         \n",
            "_________________________________________________________________\n",
            "dropout_12 (Dropout)         (None, 64)                0         \n",
            "_________________________________________________________________\n",
            "dense_13 (Dense)             (None, 500)               32500     \n",
            "_________________________________________________________________\n",
            "dense_14 (Dense)             (None, 5)                 2505      \n",
            "=================================================================\n",
            "Total params: 2,271,601\n",
            "Trainable params: 210,301\n",
            "Non-trainable params: 2,061,300\n",
            "_________________________________________________________________\n"
          ],
          "name": "stdout"
        }
      ]
    },
    {
      "cell_type": "code",
      "metadata": {
        "colab_type": "code",
        "outputId": "56a0cc5e-439f-4525-d4f5-d5f5bd11d74c",
        "id": "z-k6q09sFJFX",
        "colab": {
          "base_uri": "https://localhost:8080/",
          "height": 357
        }
      },
      "source": [
        "# Train model\n",
        "hist_cnn = model_cnn.fit(x_train_padded, categorical_y_train, batch_size=batch_size_cnn, epochs=epochs_cnn)"
      ],
      "execution_count": 53,
      "outputs": [
        {
          "output_type": "stream",
          "text": [
            "Epoch 1/10\n",
            "7023/7023 [==============================] - 5s 738us/step - loss: 1.4411 - categorical_accuracy: 0.2979\n",
            "Epoch 2/10\n",
            "7023/7023 [==============================] - 3s 356us/step - loss: 1.3587 - categorical_accuracy: 0.3842\n",
            "Epoch 3/10\n",
            "7023/7023 [==============================] - 3s 363us/step - loss: 1.1869 - categorical_accuracy: 0.5055\n",
            "Epoch 4/10\n",
            "7023/7023 [==============================] - 3s 369us/step - loss: 1.0629 - categorical_accuracy: 0.5651\n",
            "Epoch 5/10\n",
            "7023/7023 [==============================] - 3s 368us/step - loss: 0.9166 - categorical_accuracy: 0.6328\n",
            "Epoch 6/10\n",
            "7023/7023 [==============================] - 3s 364us/step - loss: 0.7830 - categorical_accuracy: 0.6966\n",
            "Epoch 7/10\n",
            "7023/7023 [==============================] - 3s 364us/step - loss: 0.6224 - categorical_accuracy: 0.7755\n",
            "Epoch 8/10\n",
            "7023/7023 [==============================] - 3s 359us/step - loss: 0.5107 - categorical_accuracy: 0.8187\n",
            "Epoch 9/10\n",
            "7023/7023 [==============================] - 3s 358us/step - loss: 0.4067 - categorical_accuracy: 0.8634\n",
            "Epoch 10/10\n",
            "7023/7023 [==============================] - 3s 358us/step - loss: 0.3360 - categorical_accuracy: 0.8881\n"
          ],
          "name": "stdout"
        }
      ]
    },
    {
      "cell_type": "code",
      "metadata": {
        "colab_type": "code",
        "id": "96Sh1kXWFJFa",
        "colab": {
          "base_uri": "https://localhost:8080/",
          "height": 34
        },
        "outputId": "31beca31-ee9c-486b-baea-d63a39550725"
      },
      "source": [
        "# Evaluate model\n",
        "loss_cnn, acc_cnn = model_cnn.evaluate(x_test_padded, categorical_y_test, verbose=0)\n",
        "print('Test Accuracy: %f' % (acc_cnn*100))"
      ],
      "execution_count": 54,
      "outputs": [
        {
          "output_type": "stream",
          "text": [
            "Test Accuracy: 61.165049\n"
          ],
          "name": "stdout"
        }
      ]
    },
    {
      "cell_type": "code",
      "metadata": {
        "colab_type": "code",
        "id": "T4BdQvmYFJFd",
        "colab": {}
      },
      "source": [
        "# Get prediction label\n",
        "y_pred_cnn = model_cnn.predict_classes(x_test_padded[:-1])"
      ],
      "execution_count": 0,
      "outputs": []
    },
    {
      "cell_type": "markdown",
      "metadata": {
        "id": "UmU5nDXelR39",
        "colab_type": "text"
      },
      "source": [
        "# Confusion Matrix"
      ]
    },
    {
      "cell_type": "code",
      "metadata": {
        "id": "uaFeqIhbejZz",
        "colab_type": "code",
        "colab": {}
      },
      "source": [
        "y_test_label = []\n",
        "for counter in range(0, len(categorical_y_test)-1):\n",
        "  label = np.argmax(categorical_y_test[:-1][counter])\n",
        "  y_test_label.append(label)\n",
        "y_test_label = np.array(y_test_label)"
      ],
      "execution_count": 0,
      "outputs": []
    },
    {
      "cell_type": "code",
      "metadata": {
        "id": "b5OhWcBv9K3T",
        "colab_type": "code",
        "colab": {}
      },
      "source": [
        "from sklearn.metrics import confusion_matrix\n",
        "from sklearn.utils.multiclass import unique_labels\n",
        "\n",
        "def plot_confusion_matrix(y_true, y_pred, classes,\n",
        "                          normalize=False,\n",
        "                          title=None,\n",
        "                          cmap=plt.cm.Blues):\n",
        "    \"\"\"\n",
        "    This function prints and plots the confusion matrix.\n",
        "    Normalization can be applied by setting `normalize=True`.\n",
        "    \"\"\"\n",
        "    if not title:\n",
        "        if normalize:\n",
        "            title = 'Normalized confusion matrix'\n",
        "        else:\n",
        "            title = 'Confusion matrix, without normalization'\n",
        "\n",
        "    # Compute confusion matrix\n",
        "    cm = confusion_matrix(y_true, y_pred)\n",
        "    # Only use the labels that appear in the data\n",
        "    classes = classes[unique_labels(y_true, y_pred)]\n",
        "    if normalize:\n",
        "        cm = cm.astype('float') / cm.sum(axis=1)[:, np.newaxis]\n",
        "        print(\"Normalized confusion matrix\")\n",
        "    else:\n",
        "        print('Confusion matrix, without normalization')\n",
        "    \n",
        "    print(cm)\n",
        "\n",
        "    fig, ax = plt.subplots()\n",
        "    im = ax.imshow(cm, interpolation='nearest', cmap=cmap)\n",
        "    print(im)\n",
        "    ax.figure.colorbar(im, ax=ax)\n",
        "    # We want to show all ticks...\n",
        "    ax.set(xticks=np.arange(cm.shape[1]),\n",
        "           yticks=np.arange(cm.shape[0]),\n",
        "           # ... and label them with the respective list entries\n",
        "           xticklabels=classes, yticklabels=classes,\n",
        "           title=title,\n",
        "           ylabel='True label',\n",
        "           xlabel='Predicted label')\n",
        "\n",
        "    # Rotate the tick labels and set their alignment.\n",
        "    plt.setp(ax.get_xticklabels(), rotation=45, ha=\"right\",\n",
        "             rotation_mode=\"anchor\")\n",
        "\n",
        "    # Loop over data dimensions and create text annotations.\n",
        "    fmt = '.2f' if normalize else 'd'\n",
        "    thresh = cm.max() / 2.\n",
        "    for i in range(cm.shape[0]):\n",
        "        for j in range(cm.shape[1]):\n",
        "            ax.text(j, i, format(cm[i, j], fmt),\n",
        "                    ha=\"center\", va=\"center\",\n",
        "                    color=\"white\" if cm[i, j] > thresh else \"black\")\n",
        "    fig.tight_layout()\n",
        "    return ax\n",
        "\n",
        "class_names = np.array([0, 1, 2, -2, -1])\n",
        "np.set_printoptions(precision=2)"
      ],
      "execution_count": 0,
      "outputs": []
    },
    {
      "cell_type": "code",
      "metadata": {
        "id": "O0LipgtoEYLb",
        "colab_type": "code",
        "colab": {
          "base_uri": "https://localhost:8080/",
          "height": 821
        },
        "outputId": "a66ac2c9-20b5-4e01-bc3d-69670f34d28a"
      },
      "source": [
        "# Plot non-normalized confusion matrix\n",
        "plot_confusion_matrix(y_test_label, y_pred_lstm, classes=class_names,\n",
        "                      title='Confusion matrix, without normalization')\n",
        "\n",
        "# Plot normalized confusion matrix\n",
        "plot_confusion_matrix(y_test_label, y_pred_lstm, classes=class_names, normalize=True,\n",
        "                      title='Normalized confusion matrix')\n",
        "\n",
        "plt.show()"
      ],
      "execution_count": 58,
      "outputs": [
        {
          "output_type": "stream",
          "text": [
            "Confusion matrix, without normalization\n",
            "[[496 187  53   0   7]\n",
            " [118 277 154   0  11]\n",
            " [  6  26 321   0   1]\n",
            " [  1   1   9   0   1]\n",
            " [ 74  72  20   0  18]]\n",
            "AxesImage(54,36;334.8x217.44)\n",
            "Normalized confusion matrix\n",
            "[[0.67 0.25 0.07 0.   0.01]\n",
            " [0.21 0.49 0.28 0.   0.02]\n",
            " [0.02 0.07 0.91 0.   0.  ]\n",
            " [0.08 0.08 0.75 0.   0.08]\n",
            " [0.4  0.39 0.11 0.   0.1 ]]\n",
            "AxesImage(54,36;334.8x217.44)\n"
          ],
          "name": "stdout"
        },
        {
          "output_type": "display_data",
          "data": {
            "image/png": "[encoded data removed]",
            "text/plain": [
              "<Figure size 432x288 with 2 Axes>"
            ]
          },
          "metadata": {
            "tags": []
          }
        },
        {
          "output_type": "display_data",
          "data": {
            "image/png": "[encoded data removed]",
            "text/plain": [
              "<Figure size 432x288 with 2 Axes>"
            ]
          },
          "metadata": {
            "tags": []
          }
        }
      ]
    },
    {
      "cell_type": "code",
      "metadata": {
        "id": "k9qtpFehmYah",
        "colab_type": "code",
        "colab": {
          "base_uri": "https://localhost:8080/",
          "height": 821
        },
        "outputId": "15c7582f-4241-47d0-ec17-cc0e27f72578"
      },
      "source": [
        "# Plot non-normalized confusion matrix\n",
        "plot_confusion_matrix(y_test_label, y_pred_cnn, classes=class_names,\n",
        "                      title='Confusion matrix, without normalization')\n",
        "\n",
        "# Plot normalized confusion matrix\n",
        "plot_confusion_matrix(y_test_label, y_pred_cnn, classes=class_names, normalize=True,\n",
        "                      title='Normalized confusion matrix')\n",
        "\n",
        "plt.show()"
      ],
      "execution_count": 59,
      "outputs": [
        {
          "output_type": "stream",
          "text": [
            "Confusion matrix, without normalization\n",
            "[[357 234  25   4 123]\n",
            " [ 32 368 103   6  51]\n",
            " [  3  60 288   1   2]\n",
            " [  1   3   3   4   1]\n",
            " [ 12  43  10   3 116]]\n",
            "AxesImage(54,36;334.8x217.44)\n",
            "Normalized confusion matrix\n",
            "[[0.48 0.31 0.03 0.01 0.17]\n",
            " [0.06 0.66 0.18 0.01 0.09]\n",
            " [0.01 0.17 0.81 0.   0.01]\n",
            " [0.08 0.25 0.25 0.33 0.08]\n",
            " [0.07 0.23 0.05 0.02 0.63]]\n",
            "AxesImage(54,36;334.8x217.44)\n"
          ],
          "name": "stdout"
        },
        {
          "output_type": "display_data",
          "data": {
            "image/png": "[encoded data removed]",
            "text/plain": [
              "<Figure size 432x288 with 2 Axes>"
            ]
          },
          "metadata": {
            "tags": []
          }
        },
        {
          "output_type": "display_data",
          "data": {
            "image/png": "[encoded data removed]",
            "text/plain": [
              "<Figure size 432x288 with 2 Axes>"
            ]
          },
          "metadata": {
            "tags": []
          }
        }
      ]
    },
    {
      "cell_type": "code",
      "metadata": {
        "id": "ONz-Y-uRHAAS",
        "colab_type": "code",
        "colab": {}
      },
      "source": [
        ""
      ],
      "execution_count": 0,
      "outputs": []
    }
  ]
}