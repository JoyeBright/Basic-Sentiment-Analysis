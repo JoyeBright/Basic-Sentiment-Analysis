{
  "nbformat": 4,
  "nbformat_minor": 0,
  "metadata": {
    "colab": {
      "name": "DL- KerasEmb.ipynb",
      "provenance": [],
      "collapsed_sections": [],
      "include_colab_link": true
    },
    "kernelspec": {
      "name": "python3",
      "display_name": "Python 3"
    },
    "accelerator": "GPU"
  },
  "cells": [
    {
      "cell_type": "markdown",
      "metadata": {
        "id": "view-in-github",
        "colab_type": "text"
      },
      "source": [
        "<a href=\"https://colab.research.google.com/github/parsa-abbasi/Sentiment-Analysis/blob/master/Multiclass-Classification/DL_KerasEmb.ipynb\" target=\"_parent\"><img src=\"https://colab.research.google.com/assets/colab-badge.svg\" alt=\"Open In Colab\"/></a>"
      ]
    },
    {
      "cell_type": "markdown",
      "metadata": {
        "id": "QthdEc8Cp5Nt",
        "colab_type": "text"
      },
      "source": [
        "# Requirements"
      ]
    },
    {
      "cell_type": "markdown",
      "metadata": {
        "id": "m1eImT5Ehsfs",
        "colab_type": "text"
      },
      "source": [
        "## Install required libraries"
      ]
    },
    {
      "cell_type": "code",
      "metadata": {
        "id": "0yHgWvqWBAqS",
        "colab_type": "code",
        "outputId": "11ffb64d-30cb-4ff5-f367-6b625cf73bde",
        "colab": {
          "base_uri": "https://localhost:8080/",
          "height": 256
        }
      },
      "source": [
        "!pip install hazm\n",
        "!pip install stopwords_guilannlp\n",
        "!pip install matplotlib==3.1.0"
      ],
      "execution_count": 1,
      "outputs": [
        {
          "output_type": "stream",
          "text": [
            "Requirement already satisfied: hazm in /usr/local/lib/python3.6/dist-packages (0.7.0)\n",
            "Requirement already satisfied: libwapiti>=0.2.1; platform_system != \"Windows\" in /usr/local/lib/python3.6/dist-packages (from hazm) (0.2.1)\n",
            "Requirement already satisfied: nltk==3.3 in /usr/local/lib/python3.6/dist-packages (from hazm) (3.3)\n",
            "Requirement already satisfied: six in /usr/local/lib/python3.6/dist-packages (from libwapiti>=0.2.1; platform_system != \"Windows\"->hazm) (1.12.0)\n",
            "Requirement already satisfied: stopwords_guilannlp in /usr/local/lib/python3.6/dist-packages (13.2019.3.5)\n",
            "Requirement already satisfied: matplotlib==3.1.0 in /usr/local/lib/python3.6/dist-packages (3.1.0)\n",
            "Requirement already satisfied: pyparsing!=2.0.4,!=2.1.2,!=2.1.6,>=2.0.1 in /usr/local/lib/python3.6/dist-packages (from matplotlib==3.1.0) (2.4.5)\n",
            "Requirement already satisfied: kiwisolver>=1.0.1 in /usr/local/lib/python3.6/dist-packages (from matplotlib==3.1.0) (1.1.0)\n",
            "Requirement already satisfied: numpy>=1.11 in /usr/local/lib/python3.6/dist-packages (from matplotlib==3.1.0) (1.17.4)\n",
            "Requirement already satisfied: python-dateutil>=2.1 in /usr/local/lib/python3.6/dist-packages (from matplotlib==3.1.0) (2.6.1)\n",
            "Requirement already satisfied: cycler>=0.10 in /usr/local/lib/python3.6/dist-packages (from matplotlib==3.1.0) (0.10.0)\n",
            "Requirement already satisfied: setuptools in /usr/local/lib/python3.6/dist-packages (from kiwisolver>=1.0.1->matplotlib==3.1.0) (42.0.2)\n",
            "Requirement already satisfied: six>=1.5 in /usr/local/lib/python3.6/dist-packages (from python-dateutil>=2.1->matplotlib==3.1.0) (1.12.0)\n"
          ],
          "name": "stdout"
        }
      ]
    },
    {
      "cell_type": "markdown",
      "metadata": {
        "id": "qHENRyUpp-fb",
        "colab_type": "text"
      },
      "source": [
        "## Import Libraries"
      ]
    },
    {
      "cell_type": "code",
      "metadata": {
        "id": "DyJ0hqR8nku1",
        "colab_type": "code",
        "outputId": "124b2a06-9d81-460d-fb26-319558c455c6",
        "colab": {
          "base_uri": "https://localhost:8080/",
          "height": 83
        }
      },
      "source": [
        "# General\n",
        "import numpy as np\n",
        "import pandas as pd\n",
        "import codecs\n",
        "from google.colab import files\n",
        "# Keras\n",
        "from keras import optimizers\n",
        "from keras.models import Model, Sequential\n",
        "from keras.layers import Dense, Input, Embedding, Dropout\n",
        "from keras.layers import GlobalMaxPool1D, MaxPooling1D, GlobalMaxPooling1D\n",
        "from keras.layers import CuDNNLSTM, LSTM, Bidirectional\n",
        "from keras.layers.convolutional import Conv1D\n",
        "from keras.utils.np_utils import to_categorical\n",
        "from keras.metrics import categorical_accuracy\n",
        "from keras.utils import plot_model\n",
        "from keras.preprocessing.text import Tokenizer\n",
        "from keras.preprocessing.sequence import pad_sequences\n",
        "# Preprocessing\n",
        "from stopwords_guilannlp import stopwords_output\n",
        "from hazm import *\n",
        "# Visualization\n",
        "%matplotlib inline\n",
        "import matplotlib.pyplot as plt\n",
        "from keras.utils import plot_model\n",
        "# Measuring metrics\n",
        "from sklearn.metrics import f1_score"
      ],
      "execution_count": 2,
      "outputs": [
        {
          "output_type": "stream",
          "text": [
            "Using TensorFlow backend.\n"
          ],
          "name": "stderr"
        },
        {
          "output_type": "display_data",
          "data": {
            "text/html": [
              "<p style=\"color: red;\">\n",
              "The default version of TensorFlow in Colab will soon switch to TensorFlow 2.x.<br>\n",
              "We recommend you <a href=\"https://www.tensorflow.org/guide/migrate\" target=\"_blank\">upgrade</a> now \n",
              "or ensure your notebook will continue to use TensorFlow 1.x via the <code>%tensorflow_version 1.x</code> magic:\n",
              "<a href=\"https://colab.research.google.com/notebooks/tensorflow_version.ipynb\" target=\"_blank\">more info</a>.</p>\n"
            ],
            "text/plain": [
              "<IPython.core.display.HTML object>"
            ]
          },
          "metadata": {
            "tags": []
          }
        }
      ]
    },
    {
      "cell_type": "markdown",
      "metadata": {
        "id": "56Zm6edfuwXC",
        "colab_type": "text"
      },
      "source": [
        "# Upload dataset files"
      ]
    },
    {
      "cell_type": "markdown",
      "metadata": {
        "id": "wamGYNk-sbGV",
        "colab_type": "text"
      },
      "source": [
        "Upload dataset files to colab environment\n",
        "\n",
        "You can access to dataset files through following links:\n",
        "\n",
        "(x_train, x_test, y_train, y_test)\n",
        "- [Original dataset](https://github.com/parsa-abbasi/Sentiment-Analysis/tree/master/Dataset/Original)\n",
        "- [Balanced with extra data](https://github.com/parsa-abbasi/Sentiment-Analysis/tree/master/Dataset/BalancedWithExtra)\n",
        "- [Data Augmentation - Full Translate](https://github.com/parsa-abbasi/Sentiment-Analysis/tree/master/Dataset/FullTranslate)\n",
        "- [Data Augmentation - Synonyms](https://github.com/parsa-abbasi/Sentiment-Analysis/tree/master/Dataset/Synonyms)"
      ]
    },
    {
      "cell_type": "code",
      "metadata": {
        "id": "VvTYlRzbuwcd",
        "colab_type": "code",
        "outputId": "38fda5ae-60f1-4938-f322-45b4ecd602ca",
        "colab": {
          "resources": {
            "http://localhost:8080/nbextensions/google.colab/files.js": {
              "data": "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",
              "ok": true,
              "headers": [
                [
                  "content-type",
                  "application/javascript"
                ]
              ],
              "status": 200,
              "status_text": "OK"
            }
          },
          "base_uri": "https://localhost:8080/",
          "height": 184
        }
      },
      "source": [
        "from google.colab import files\n",
        "uploaded = files.upload()"
      ],
      "execution_count": 4,
      "outputs": [
        {
          "output_type": "display_data",
          "data": {
            "text/html": [
              "\n",
              "     <input type=\"file\" id=\"files-d895f736-be16-4547-9447-4cf6b53e39fe\" name=\"files[]\" multiple disabled />\n",
              "     <output id=\"result-d895f736-be16-4547-9447-4cf6b53e39fe\">\n",
              "      Upload widget is only available when the cell has been executed in the\n",
              "      current browser session. Please rerun this cell to enable.\n",
              "      </output>\n",
              "      <script src=\"/nbextensions/google.colab/files.js\"></script> "
            ],
            "text/plain": [
              "<IPython.core.display.HTML object>"
            ]
          },
          "metadata": {
            "tags": []
          }
        },
        {
          "output_type": "stream",
          "text": [
            "Saving x_test.csv to x_test.csv\n",
            "Saving x_train.csv to x_train.csv\n",
            "Saving y_test.csv to y_test.csv\n",
            "Saving y_train.csv to y_train.csv\n"
          ],
          "name": "stdout"
        }
      ]
    },
    {
      "cell_type": "markdown",
      "metadata": {
        "id": "6FbuK-Gmupe2",
        "colab_type": "text"
      },
      "source": [
        "\n",
        "# Import & Analyze Dataset"
      ]
    },
    {
      "cell_type": "code",
      "metadata": {
        "id": "RXEXLFZoupUr",
        "colab_type": "code",
        "colab": {}
      },
      "source": [
        "x_train = pd.read_csv('x_train.csv', sep='\\t', index_col=None, header=None, encoding=\"utf-8\")[1]\n",
        "x_test = pd.read_csv('x_test.csv', sep='\\t', index_col=None, header=None, encoding=\"utf-8\")[1]\n",
        "y_train = pd.read_csv('y_train.csv', sep='\\t', index_col=None, header=None)[1]\n",
        "y_test = pd.read_csv('y_test.csv', sep='\\t', index_col=None, header=None)[1]"
      ],
      "execution_count": 0,
      "outputs": []
    },
    {
      "cell_type": "code",
      "metadata": {
        "id": "QX67vEWVyhTQ",
        "colab_type": "code",
        "colab": {}
      },
      "source": [
        "# The dataset csv files created using old version of Pandas\n",
        "# so we need to do some additional preparation\n",
        "x_train = x_train[1:]\n",
        "x_train = x_train.reset_index(drop=True)\n",
        "x_test = x_test[1:]\n",
        "x_test = x_test.reset_index(drop=True)\n",
        "y_train = y_train[1:]\n",
        "y_train = y_train.reset_index(drop=True)\n",
        "y_test = y_test[1:]\n",
        "y_test = y_test.reset_index(drop=True)"
      ],
      "execution_count": 0,
      "outputs": []
    },
    {
      "cell_type": "code",
      "metadata": {
        "id": "MATiU_eixlin",
        "colab_type": "code",
        "outputId": "88889d77-4fbd-4773-bb4c-53be087b8dcc",
        "colab": {
          "base_uri": "https://localhost:8080/",
          "height": 90
        }
      },
      "source": [
        "print('Number of training sentence: ', x_train.shape)\n",
        "print('Number of training label: ', y_train.shape)\n",
        "print('Number of testing sentence: ', x_test.shape)\n",
        "print('Number of testing label: ', y_test.shape)"
      ],
      "execution_count": 7,
      "outputs": [
        {
          "output_type": "stream",
          "text": [
            "Number of training sentence:  (5561,)\n",
            "Number of training label:  (5561,)\n",
            "Number of testing sentence:  (1854,)\n",
            "Number of testing label:  (1854,)\n"
          ],
          "name": "stdout"
        }
      ]
    },
    {
      "cell_type": "code",
      "metadata": {
        "id": "nL5mDIUfzjyG",
        "colab_type": "code",
        "colab": {}
      },
      "source": [
        "# Convert dataframes to numpy arrays\n",
        "x_train = np.asarray(x_train)\n",
        "x_test = np.asarray(x_test)\n",
        "y_train = np.asarray(y_train)\n",
        "y_test = np.asarray(y_test)"
      ],
      "execution_count": 0,
      "outputs": []
    },
    {
      "cell_type": "code",
      "metadata": {
        "id": "t2oX_KNK4t0p",
        "colab_type": "code",
        "outputId": "ca42e6b8-1ec3-45cf-f2a8-aae5cdb2486f",
        "colab": {
          "base_uri": "https://localhost:8080/",
          "height": 35
        }
      },
      "source": [
        "# See the data number of sentence in each category \n",
        "from collections import Counter\n",
        "cnt = Counter(y_train)\n",
        "cnt = dict(cnt)\n",
        "print(cnt)"
      ],
      "execution_count": 9,
      "outputs": [
        {
          "output_type": "stream",
          "text": [
            "{'1': 1623, '2': 988, '0': 2409, '-1': 513, '-2': 28}\n"
          ],
          "name": "stdout"
        }
      ]
    },
    {
      "cell_type": "code",
      "metadata": {
        "id": "iPDHe3qf3hMC",
        "colab_type": "code",
        "outputId": "a1e314a1-d9fd-4c84-d847-2de908501bbb",
        "colab": {
          "base_uri": "https://localhost:8080/",
          "height": 300
        }
      },
      "source": [
        "labels = list(cnt.keys())\n",
        "sizes = list(cnt.values())\n",
        "colors = ['#3fba36', '#66b3ff','#ffcc99','#ff9999', '#d44444']\n",
        "fig1, ax1 = plt.subplots()\n",
        "ax1.pie(sizes, labels=labels, colors=colors,\n",
        "        autopct='%1.1f%%', startangle=90)\n",
        "#draw circle\n",
        "centre_circle = plt.Circle((0,0),0.70,fc='white')\n",
        "fig = plt.gcf()\n",
        "fig.gca().add_artist(centre_circle)\n",
        "# Equal aspect ratio ensures that pie is drawn as a circle\n",
        "ax1.axis('equal')  \n",
        "plt.tight_layout()\n",
        "# Decomment following line if you want to save the figure\n",
        "# plt.savefig('balanced_with_extra.png')\n",
        "plt.show()"
      ],
      "execution_count": 10,
      "outputs": [
        {
          "output_type": "display_data",
          "data": {
            "image/png": "[encoded data removed]",
            "text/plain": [
              "<Figure size 432x288 with 1 Axes>"
            ]
          },
          "metadata": {
            "tags": []
          }
        }
      ]
    },
    {
      "cell_type": "code",
      "metadata": {
        "id": "OBn3mkJKtGgH",
        "colab_type": "code",
        "colab": {}
      },
      "source": [
        "# Decomment following line if you want to download dataset figure\n",
        "# files.download('balanced_with_extra.png')"
      ],
      "execution_count": 0,
      "outputs": []
    },
    {
      "cell_type": "markdown",
      "metadata": {
        "id": "2imgOHrg7Pzz",
        "colab_type": "text"
      },
      "source": [
        "# Preprocess"
      ]
    },
    {
      "cell_type": "code",
      "metadata": {
        "id": "4-XiHjK87VpK",
        "colab_type": "code",
        "colab": {}
      },
      "source": [
        "puncs = ['،', '.', ',', ':', ';', '\"']\n",
        "normalizer = Normalizer()\n",
        "lemmatizer = Lemmatizer()\n",
        "\n",
        "# turn a doc into clean tokens\n",
        "def clean_doc(doc):\n",
        "    doc = normalizer.normalize(doc) # Normalize document using Hazm Normalizer\n",
        "    tokenized = word_tokenize(doc)  # Tokenize text\n",
        "    tokens = []\n",
        "    for t in tokenized:\n",
        "      temp = t\n",
        "      for p in puncs:\n",
        "        temp = temp.replace(p, '')\n",
        "      tokens.append(temp)\n",
        "    # tokens = [w for w in tokens if not w in stop_set]    # Remove stop words\n",
        "    tokens = [w for w in tokens if not len(w) <= 1]\n",
        "    tokens = [w for w in tokens if not w.isdigit()]\n",
        "    tokens = [lemmatizer.lemmatize(w) for w in tokens] # Lemmatize sentence words using Hazm Lemmatizer\n",
        "    tokens = ' '.join(tokens)\n",
        "    return tokens"
      ],
      "execution_count": 0,
      "outputs": []
    },
    {
      "cell_type": "markdown",
      "metadata": {
        "id": "CwV8zcFJ8pki",
        "colab_type": "text"
      },
      "source": [
        "# Prepare data for Deep Learning model"
      ]
    },
    {
      "cell_type": "markdown",
      "metadata": {
        "id": "TSEcRKge69NI",
        "colab_type": "text"
      },
      "source": [
        "## Apply preprocessing to data"
      ]
    },
    {
      "cell_type": "code",
      "metadata": {
        "id": "Eaz_5RG90E8D",
        "colab_type": "code",
        "colab": {}
      },
      "source": [
        "# Apply preprocessing step to training data\n",
        "train_docs = np.empty_like(x_train)\n",
        "for index, document in enumerate(x_train):\n",
        "  train_docs[index] = clean_doc(document)"
      ],
      "execution_count": 0,
      "outputs": []
    },
    {
      "cell_type": "code",
      "metadata": {
        "id": "ZM1XsKN06BXb",
        "colab_type": "code",
        "colab": {}
      },
      "source": [
        "# Applying preprocessing step to test data\n",
        "test_docs = np.empty_like(x_test)\n",
        "for index, document in enumerate(x_test):\n",
        "  test_docs[index] = clean_doc(document)"
      ],
      "execution_count": 0,
      "outputs": []
    },
    {
      "cell_type": "markdown",
      "metadata": {
        "id": "zOVanzfQ7Etd",
        "colab_type": "text"
      },
      "source": [
        "## Setting tokenizer up"
      ]
    },
    {
      "cell_type": "code",
      "metadata": {
        "id": "yXOfMkE1yMOG",
        "colab_type": "code",
        "colab": {}
      },
      "source": [
        "num_words = 2000\n",
        "\n",
        "# Create the tokenizer\n",
        "tokenizer = Tokenizer(num_words=num_words)\n",
        "\n",
        "# fFt the tokenizer on the training documents\n",
        "tokenizer.fit_on_texts(train_docs)"
      ],
      "execution_count": 0,
      "outputs": []
    },
    {
      "cell_type": "code",
      "metadata": {
        "id": "xp3Hgq8m6gnI",
        "colab_type": "code",
        "colab": {}
      },
      "source": [
        "# Find maximum length of training sentences\n",
        "max_length = max([len(s.split()) for s in train_docs])"
      ],
      "execution_count": 0,
      "outputs": []
    },
    {
      "cell_type": "markdown",
      "metadata": {
        "id": "YfKPCiJs7RPS",
        "colab_type": "text"
      },
      "source": [
        "## Embed sentences"
      ]
    },
    {
      "cell_type": "code",
      "metadata": {
        "id": "Hl42Ym2W6PeU",
        "colab_type": "code",
        "colab": {}
      },
      "source": [
        "# Embed training sequences\n",
        "encoded_docs = tokenizer.texts_to_sequences(train_docs)\n",
        "\n",
        "# Pad embeded training sequences\n",
        "x_train_padded = pad_sequences(encoded_docs, maxlen=max_length, padding='post')"
      ],
      "execution_count": 0,
      "outputs": []
    },
    {
      "cell_type": "code",
      "metadata": {
        "id": "mQ_6Su9L16J9",
        "colab_type": "code",
        "colab": {}
      },
      "source": [
        "# Define vocabulary size (largest integer value)\n",
        "vocab_size = len(tokenizer.word_index)"
      ],
      "execution_count": 0,
      "outputs": []
    },
    {
      "cell_type": "code",
      "metadata": {
        "id": "o8NcUFxQpN1f",
        "colab_type": "code",
        "colab": {}
      },
      "source": [
        "# Embed testing sequences\n",
        "encoded_docs = tokenizer.texts_to_sequences(test_docs)\n",
        "# Pad testing sequences\n",
        "x_test_padded = pad_sequences(encoded_docs, maxlen=max_length, padding='post')"
      ],
      "execution_count": 0,
      "outputs": []
    },
    {
      "cell_type": "markdown",
      "metadata": {
        "id": "f8IrxurU7xXB",
        "colab_type": "text"
      },
      "source": [
        "# Deep Learning Models"
      ]
    },
    {
      "cell_type": "code",
      "metadata": {
        "id": "Y4WWnDA877aA",
        "colab_type": "code",
        "colab": {}
      },
      "source": [
        "# Prepare labels for categorical prediction\n",
        "categorical_y_train = to_categorical(y_train, 5)\n",
        "categorical_y_test = to_categorical(y_test, 5)"
      ],
      "execution_count": 0,
      "outputs": []
    },
    {
      "cell_type": "markdown",
      "metadata": {
        "id": "UGzX4V3J2U9F",
        "colab_type": "text"
      },
      "source": [
        "## B-LSTM Model"
      ]
    },
    {
      "cell_type": "code",
      "metadata": {
        "id": "sFdUGLh4-v6P",
        "colab_type": "code",
        "colab": {}
      },
      "source": [
        "model_blstm = Sequential()\n",
        "model_blstm.add(Embedding(vocab_size, 300, input_length=max_length))\n",
        "model_blstm.add(Bidirectional(CuDNNLSTM(300, return_sequences=True, name='lstm_layer')))\n",
        "model_blstm.add(GlobalMaxPool1D())\n",
        "model_blstm.add(Dropout(0.2))\n",
        "model_blstm.add(Dense(300, activation=\"relu\"))\n",
        "model_blstm.add(Dropout(0.1))\n",
        "model_blstm.add(Dense(5, activation='softmax'))"
      ],
      "execution_count": 0,
      "outputs": []
    },
    {
      "cell_type": "code",
      "metadata": {
        "id": "MadF-98Rufk-",
        "colab_type": "code",
        "outputId": "9a06d8ee-14a9-458b-9c77-84657756671c",
        "colab": {
          "base_uri": "https://localhost:8080/",
          "height": 421
        }
      },
      "source": [
        "model_blstm.compile(loss='categorical_crossentropy',\n",
        "              optimizer='adam',\n",
        "              metrics=[categorical_accuracy])\n",
        "\n",
        "model_blstm.summary()\n",
        "batch_size_blstm = 64\n",
        "epochs_blstm = 7"
      ],
      "execution_count": 40,
      "outputs": [
        {
          "output_type": "stream",
          "text": [
            "Model: \"sequential_3\"\n",
            "_________________________________________________________________\n",
            "Layer (type)                 Output Shape              Param #   \n",
            "=================================================================\n",
            "embedding_3 (Embedding)      (None, 297, 300)          2092500   \n",
            "_________________________________________________________________\n",
            "bidirectional_2 (Bidirection (None, 297, 600)          1444800   \n",
            "_________________________________________________________________\n",
            "global_max_pooling1d_3 (Glob (None, 600)               0         \n",
            "_________________________________________________________________\n",
            "dropout_4 (Dropout)          (None, 600)               0         \n",
            "_________________________________________________________________\n",
            "dense_5 (Dense)              (None, 300)               180300    \n",
            "_________________________________________________________________\n",
            "dropout_5 (Dropout)          (None, 300)               0         \n",
            "_________________________________________________________________\n",
            "dense_6 (Dense)              (None, 5)                 1505      \n",
            "=================================================================\n",
            "Total params: 3,719,105\n",
            "Trainable params: 3,719,105\n",
            "Non-trainable params: 0\n",
            "_________________________________________________________________\n"
          ],
          "name": "stdout"
        }
      ]
    },
    {
      "cell_type": "code",
      "metadata": {
        "id": "Yvltc4_D8Sjp",
        "colab_type": "code",
        "outputId": "8bfbe80d-cf5f-4160-d7d7-385059594388",
        "colab": {
          "base_uri": "https://localhost:8080/",
          "height": 274
        }
      },
      "source": [
        "# Train model\n",
        "hist_blstm = model_blstm.fit(x_train_padded, categorical_y_train, batch_size=batch_size_blstm, epochs=epochs_blstm)"
      ],
      "execution_count": 41,
      "outputs": [
        {
          "output_type": "stream",
          "text": [
            "Epoch 1/7\n",
            "5561/5561 [==============================] - 8s 1ms/step - loss: 1.2314 - categorical_accuracy: 0.4742\n",
            "Epoch 2/7\n",
            "5561/5561 [==============================] - 7s 1ms/step - loss: 0.8591 - categorical_accuracy: 0.6666\n",
            "Epoch 3/7\n",
            "5561/5561 [==============================] - 7s 1ms/step - loss: 0.6635 - categorical_accuracy: 0.7475\n",
            "Epoch 4/7\n",
            "5561/5561 [==============================] - 7s 1ms/step - loss: 0.5318 - categorical_accuracy: 0.7995\n",
            "Epoch 5/7\n",
            "5561/5561 [==============================] - 7s 1ms/step - loss: 0.4281 - categorical_accuracy: 0.8457\n",
            "Epoch 6/7\n",
            "5561/5561 [==============================] - 7s 1ms/step - loss: 0.3617 - categorical_accuracy: 0.8759\n",
            "Epoch 7/7\n",
            "5561/5561 [==============================] - 7s 1ms/step - loss: 0.2890 - categorical_accuracy: 0.8980\n"
          ],
          "name": "stdout"
        }
      ]
    },
    {
      "cell_type": "code",
      "metadata": {
        "id": "hiqdfnXMKlsZ",
        "colab_type": "code",
        "outputId": "d9ba6404-e2f5-485e-c91b-68f2f83b6aeb",
        "colab": {
          "base_uri": "https://localhost:8080/",
          "height": 35
        }
      },
      "source": [
        "# Evaluate model\n",
        "loss_blstm, acc_blstm = model_blstm.evaluate(x_test_padded, categorical_y_test, verbose=0)\n",
        "print('Test Accuracy: %f' % (acc_blstm*100))"
      ],
      "execution_count": 42,
      "outputs": [
        {
          "output_type": "stream",
          "text": [
            "Test Accuracy: 64.347357\n"
          ],
          "name": "stdout"
        }
      ]
    },
    {
      "cell_type": "code",
      "metadata": {
        "id": "imptdlcYXZF5",
        "colab_type": "code",
        "colab": {}
      },
      "source": [
        "# Get prediction label\n",
        "y_pred_blstm = model_blstm.predict_classes(x_test_padded[:-1])"
      ],
      "execution_count": 0,
      "outputs": []
    },
    {
      "cell_type": "markdown",
      "metadata": {
        "colab_type": "text",
        "id": "mjCMX44DEv-4"
      },
      "source": [
        "## CNN Model"
      ]
    },
    {
      "cell_type": "code",
      "metadata": {
        "colab_type": "code",
        "id": "FemjzX3_FJFN",
        "colab": {}
      },
      "source": [
        "model_cnn = Sequential()\n",
        "model_cnn.add(Embedding(vocab_size, 300, input_length=max_length))\n",
        "model_cnn.add(Conv1D(filters=64, kernel_size=4, activation='relu', padding='same'))\n",
        "model_cnn.add(MaxPooling1D(pool_size=2))\n",
        "model_cnn.add(Conv1D(filters=64, kernel_size=8, activation='relu', padding='same'))\n",
        "model_cnn.add(MaxPooling1D(pool_size=2))\n",
        "model_cnn.add(Conv1D(filters=64, kernel_size=16, activation='relu', padding='same'))\n",
        "model_cnn.add(GlobalMaxPooling1D())\n",
        "model_cnn.add(Dropout(0.1))\n",
        "model_cnn.add(Dense(500, activation=\"sigmoid\"))\n",
        "model_cnn.add(Dense(5, activation='softmax'))"
      ],
      "execution_count": 0,
      "outputs": []
    },
    {
      "cell_type": "code",
      "metadata": {
        "colab_type": "code",
        "outputId": "b1807e19-cab0-4e2c-bd37-f8f48d66c324",
        "id": "k79NbUPiFJFT",
        "colab": {
          "base_uri": "https://localhost:8080/",
          "height": 531
        }
      },
      "source": [
        "model_cnn.compile(loss='categorical_crossentropy',\n",
        "              optimizer='adam',\n",
        "              metrics=[categorical_accuracy])\n",
        "\n",
        "model_cnn.summary()\n",
        "batch_size_cnn = 64\n",
        "epochs_cnn = 10"
      ],
      "execution_count": 45,
      "outputs": [
        {
          "output_type": "stream",
          "text": [
            "Model: \"sequential_4\"\n",
            "_________________________________________________________________\n",
            "Layer (type)                 Output Shape              Param #   \n",
            "=================================================================\n",
            "embedding_4 (Embedding)      (None, 297, 300)          2092500   \n",
            "_________________________________________________________________\n",
            "conv1d_4 (Conv1D)            (None, 297, 64)           76864     \n",
            "_________________________________________________________________\n",
            "max_pooling1d_3 (MaxPooling1 (None, 148, 64)           0         \n",
            "_________________________________________________________________\n",
            "conv1d_5 (Conv1D)            (None, 148, 64)           32832     \n",
            "_________________________________________________________________\n",
            "max_pooling1d_4 (MaxPooling1 (None, 74, 64)            0         \n",
            "_________________________________________________________________\n",
            "conv1d_6 (Conv1D)            (None, 74, 64)            65600     \n",
            "_________________________________________________________________\n",
            "global_max_pooling1d_4 (Glob (None, 64)                0         \n",
            "_________________________________________________________________\n",
            "dropout_6 (Dropout)          (None, 64)                0         \n",
            "_________________________________________________________________\n",
            "dense_7 (Dense)              (None, 500)               32500     \n",
            "_________________________________________________________________\n",
            "dense_8 (Dense)              (None, 5)                 2505      \n",
            "=================================================================\n",
            "Total params: 2,302,801\n",
            "Trainable params: 2,302,801\n",
            "Non-trainable params: 0\n",
            "_________________________________________________________________\n"
          ],
          "name": "stdout"
        }
      ]
    },
    {
      "cell_type": "code",
      "metadata": {
        "colab_type": "code",
        "outputId": "a2cb1799-05a9-4f8b-9a6a-f07a36271e49",
        "id": "z-k6q09sFJFX",
        "colab": {
          "base_uri": "https://localhost:8080/",
          "height": 384
        }
      },
      "source": [
        "# Train model\n",
        "hist_cnn = model_cnn.fit(x_train_padded, categorical_y_train, batch_size=batch_size_cnn, epochs=epochs_cnn)"
      ],
      "execution_count": 46,
      "outputs": [
        {
          "output_type": "stream",
          "text": [
            "Epoch 1/10\n",
            "5561/5561 [==============================] - 2s 301us/step - loss: 1.1961 - categorical_accuracy: 0.4844\n",
            "Epoch 2/10\n",
            "5561/5561 [==============================] - 1s 167us/step - loss: 0.9029 - categorical_accuracy: 0.6564\n",
            "Epoch 3/10\n",
            "5561/5561 [==============================] - 1s 172us/step - loss: 0.7700 - categorical_accuracy: 0.7283\n",
            "Epoch 4/10\n",
            "5561/5561 [==============================] - 1s 170us/step - loss: 0.6219 - categorical_accuracy: 0.7790\n",
            "Epoch 5/10\n",
            "5561/5561 [==============================] - 1s 175us/step - loss: 0.4821 - categorical_accuracy: 0.8392\n",
            "Epoch 6/10\n",
            "5561/5561 [==============================] - 1s 170us/step - loss: 0.3480 - categorical_accuracy: 0.8950\n",
            "Epoch 7/10\n",
            "5561/5561 [==============================] - 1s 173us/step - loss: 0.2514 - categorical_accuracy: 0.9318\n",
            "Epoch 8/10\n",
            "5561/5561 [==============================] - 1s 172us/step - loss: 0.1795 - categorical_accuracy: 0.9576\n",
            "Epoch 9/10\n",
            "5561/5561 [==============================] - 1s 169us/step - loss: 0.1433 - categorical_accuracy: 0.9657\n",
            "Epoch 10/10\n",
            "5561/5561 [==============================] - 1s 167us/step - loss: 0.1249 - categorical_accuracy: 0.9700\n"
          ],
          "name": "stdout"
        }
      ]
    },
    {
      "cell_type": "code",
      "metadata": {
        "colab_type": "code",
        "id": "96Sh1kXWFJFa",
        "outputId": "007f903d-fdab-4bc2-944a-02794ff3c6e0",
        "colab": {
          "base_uri": "https://localhost:8080/",
          "height": 35
        }
      },
      "source": [
        "# Evaluate model\n",
        "loss_cnn, acc_cnn = model_cnn.evaluate(x_test_padded, categorical_y_test, verbose=0)\n",
        "print('Test Accuracy: %f' % (acc_cnn*100))"
      ],
      "execution_count": 47,
      "outputs": [
        {
          "output_type": "stream",
          "text": [
            "Test Accuracy: 63.430421\n"
          ],
          "name": "stdout"
        }
      ]
    },
    {
      "cell_type": "code",
      "metadata": {
        "colab_type": "code",
        "id": "T4BdQvmYFJFd",
        "colab": {}
      },
      "source": [
        "# Get prediction label\n",
        "y_pred_cnn = model_cnn.predict_classes(x_test_padded[:-1])"
      ],
      "execution_count": 0,
      "outputs": []
    },
    {
      "cell_type": "markdown",
      "metadata": {
        "id": "UmU5nDXelR39",
        "colab_type": "text"
      },
      "source": [
        "# Confusion Matrix"
      ]
    },
    {
      "cell_type": "code",
      "metadata": {
        "id": "uaFeqIhbejZz",
        "colab_type": "code",
        "colab": {}
      },
      "source": [
        "y_test_label = []\n",
        "for counter in range(0, len(categorical_y_test)-1):\n",
        "  label = np.argmax(categorical_y_test[:-1][counter])\n",
        "  y_test_label.append(label)\n",
        "y_test_label = np.array(y_test_label)"
      ],
      "execution_count": 0,
      "outputs": []
    },
    {
      "cell_type": "code",
      "metadata": {
        "id": "b5OhWcBv9K3T",
        "colab_type": "code",
        "colab": {}
      },
      "source": [
        "from sklearn.metrics import confusion_matrix\n",
        "from sklearn.utils.multiclass import unique_labels\n",
        "\n",
        "def plot_confusion_matrix(y_true, y_pred, classes,\n",
        "                          normalize=False,\n",
        "                          title=None,\n",
        "                          cmap=plt.cm.Blues):\n",
        "    \"\"\"\n",
        "    This function prints and plots the confusion matrix.\n",
        "    Normalization can be applied by setting `normalize=True`.\n",
        "    \"\"\"\n",
        "    # Compute confusion matrix\n",
        "    cm = confusion_matrix(y_true, y_pred)\n",
        "    # Only use the labels that appear in the data\n",
        "    classes = classes[unique_labels(y_true, y_pred)]\n",
        "    if normalize:\n",
        "        cm = cm.astype('float') / cm.sum(axis=1)[:, np.newaxis]\n",
        "        print(\"Normalized confusion matrix\")\n",
        "    else:\n",
        "        print('Confusion matrix, without normalization')\n",
        "    \n",
        "    print(cm)\n",
        "\n",
        "    fig, ax = plt.subplots()\n",
        "    im = ax.imshow(cm, interpolation='nearest', cmap=cmap)\n",
        "    print(im)\n",
        "    ax.figure.colorbar(im, ax=ax)\n",
        "    # We want to show all ticks...\n",
        "    ax.set(xticks=np.arange(cm.shape[1]),\n",
        "           yticks=np.arange(cm.shape[0]),\n",
        "           # ... and label them with the respective list entries\n",
        "           xticklabels=classes, yticklabels=classes,\n",
        "           title=title,\n",
        "           ylabel='True label',\n",
        "           xlabel='Predicted label')\n",
        "\n",
        "    # Rotate the tick labels and set their alignment.\n",
        "    plt.setp(ax.get_xticklabels(), rotation=45, ha=\"right\",\n",
        "             rotation_mode=\"anchor\")\n",
        "\n",
        "    # Loop over data dimensions and create text annotations.\n",
        "    fmt = '.2f' if normalize else 'd'\n",
        "    thresh = cm.max() / 2.\n",
        "    for i in range(cm.shape[0]):\n",
        "        for j in range(cm.shape[1]):\n",
        "            ax.text(j, i, format(cm[i, j], fmt),\n",
        "                    ha=\"center\", va=\"center\",\n",
        "                    color=\"white\" if cm[i, j] > thresh else \"black\")\n",
        "    fig.tight_layout()\n",
        "    return ax\n",
        "\n",
        "class_names = np.array([0, 1, 2, -2, -1])\n",
        "np.set_printoptions(precision=2)"
      ],
      "execution_count": 0,
      "outputs": []
    },
    {
      "cell_type": "code",
      "metadata": {
        "id": "O0LipgtoEYLb",
        "colab_type": "code",
        "outputId": "0ab2486a-16aa-4603-e895-ecfce573d84b",
        "colab": {
          "base_uri": "https://localhost:8080/",
          "height": 834
        }
      },
      "source": [
        "# Plot non-normalized confusion matrix\n",
        "plot_confusion_matrix(y_test_label, y_pred_blstm, classes=class_names)\n",
        "plt.savefig('cm-blstm.png')\n",
        "# Plot normalized confusion matrix\n",
        "plot_confusion_matrix(y_test_label, y_pred_blstm, classes=class_names, normalize=True)\n",
        "# Decomment following line if you want to save the figure\n",
        "plt.savefig('cm-blstm-normalized.png')\n",
        "plt.show()"
      ],
      "execution_count": 51,
      "outputs": [
        {
          "output_type": "stream",
          "text": [
            "Confusion matrix, without normalization\n",
            "[[558 110  11   0  64]\n",
            " [140 333  48   1  38]\n",
            " [ 21 106 225   0   2]\n",
            " [  3   1   2   0   6]\n",
            " [ 73  32   2   1  76]]\n",
            "AxesImage(54,36;334.8x217.44)\n",
            "Normalized confusion matrix\n",
            "[[0.75 0.15 0.01 0.   0.09]\n",
            " [0.25 0.59 0.09 0.   0.07]\n",
            " [0.06 0.3  0.64 0.   0.01]\n",
            " [0.25 0.08 0.17 0.   0.5 ]\n",
            " [0.4  0.17 0.01 0.01 0.41]]\n",
            "AxesImage(54,36;334.8x217.44)\n"
          ],
          "name": "stdout"
        },
        {
          "output_type": "display_data",
          "data": {
            "image/png": "[encoded data removed]",
            "text/plain": [
              "<Figure size 432x288 with 2 Axes>"
            ]
          },
          "metadata": {
            "tags": []
          }
        },
        {
          "output_type": "display_data",
          "data": {
            "image/png": "[encoded data removed]",
            "text/plain": [
              "<Figure size 432x288 with 2 Axes>"
            ]
          },
          "metadata": {
            "tags": []
          }
        }
      ]
    },
    {
      "cell_type": "code",
      "metadata": {
        "id": "WuPbjqe-z2Uk",
        "colab_type": "code",
        "colab": {}
      },
      "source": [
        "# Decomment following line if you want to download confusion matrix figure\n",
        "# files.download('cm-blstm.png')\n",
        "# files.download('cm-blstm-normalized.png')"
      ],
      "execution_count": 0,
      "outputs": []
    },
    {
      "cell_type": "code",
      "metadata": {
        "id": "k9qtpFehmYah",
        "colab_type": "code",
        "outputId": "ece6a9f2-be1d-4793-e3a8-f97f9e992498",
        "colab": {
          "base_uri": "https://localhost:8080/",
          "height": 834
        }
      },
      "source": [
        "# Plot non-normalized confusion matrix\n",
        "plot_confusion_matrix(y_test_label, y_pred_cnn, classes=class_names)\n",
        "plt.savefig('cm-cnn.png')\n",
        "# Plot normalized confusion matrix\n",
        "plot_confusion_matrix(y_test_label, y_pred_cnn, classes=class_names, normalize=True)\n",
        "plt.savefig('cm-cnn-normalized.png')\n",
        "plt.show()"
      ],
      "execution_count": 53,
      "outputs": [
        {
          "output_type": "stream",
          "text": [
            "Confusion matrix, without normalization\n",
            "[[516 158   9   0  60]\n",
            " [128 334  68   0  30]\n",
            " [  7  88 256   0   3]\n",
            " [  2   5   1   0   4]\n",
            " [ 69  44   2   0  69]]\n",
            "AxesImage(54,36;334.8x217.44)\n",
            "Normalized confusion matrix\n",
            "[[0.69 0.21 0.01 0.   0.08]\n",
            " [0.23 0.6  0.12 0.   0.05]\n",
            " [0.02 0.25 0.72 0.   0.01]\n",
            " [0.17 0.42 0.08 0.   0.33]\n",
            " [0.38 0.24 0.01 0.   0.38]]\n",
            "AxesImage(54,36;334.8x217.44)\n"
          ],
          "name": "stdout"
        },
        {
          "output_type": "display_data",
          "data": {
            "image/png": "[encoded data removed]",
            "text/plain": [
              "<Figure size 432x288 with 2 Axes>"
            ]
          },
          "metadata": {
            "tags": []
          }
        },
        {
          "output_type": "display_data",
          "data": {
            "image/png": "[encoded data removed]",
            "text/plain": [
              "<Figure size 432x288 with 2 Axes>"
            ]
          },
          "metadata": {
            "tags": []
          }
        }
      ]
    },
    {
      "cell_type": "code",
      "metadata": {
        "id": "pKk9FarH5c0w",
        "colab_type": "code",
        "colab": {}
      },
      "source": [
        "# Decomment following line if you want to download confusion matrix figure\n",
        "# files.download('cm-cnn.png')\n",
        "# files.download('cm-cnn-normalized.png')"
      ],
      "execution_count": 0,
      "outputs": []
    },
    {
      "cell_type": "markdown",
      "metadata": {
        "id": "ZUCXVkw5acDF",
        "colab_type": "text"
      },
      "source": [
        "## F1 Score"
      ]
    },
    {
      "cell_type": "code",
      "metadata": {
        "id": "YJy1sBACadfl",
        "colab_type": "code",
        "colab": {
          "base_uri": "https://localhost:8080/",
          "height": 54
        },
        "outputId": "4820ee24-13a9-4780-f461-8c8520b9c492"
      },
      "source": [
        "print(\"F1 score of KerasEmb B-LSTM model:\")\n",
        "f1_score(y_test_label, y_pred_blstm, average='weighted')"
      ],
      "execution_count": 55,
      "outputs": [
        {
          "output_type": "stream",
          "text": [
            "F1 score of KerasEmb B-LSTM model:\n"
          ],
          "name": "stdout"
        },
        {
          "output_type": "execute_result",
          "data": {
            "text/plain": [
              "0.6418990335654436"
            ]
          },
          "metadata": {
            "tags": []
          },
          "execution_count": 55
        }
      ]
    },
    {
      "cell_type": "code",
      "metadata": {
        "id": "dMRJQcoiampM",
        "colab_type": "code",
        "colab": {
          "base_uri": "https://localhost:8080/",
          "height": 110
        },
        "outputId": "8945f157-8bce-46fb-b59e-8c43e74d6dfc"
      },
      "source": [
        "print(\"F1 score of KerasEmb CNN model:\")\n",
        "f1_score(y_test_label, y_pred_cnn, average='weighted')"
      ],
      "execution_count": 56,
      "outputs": [
        {
          "output_type": "stream",
          "text": [
            "F1 score of KerasEmb CNN model:\n"
          ],
          "name": "stdout"
        },
        {
          "output_type": "stream",
          "text": [
            "/usr/local/lib/python3.6/dist-packages/sklearn/metrics/classification.py:1437: UndefinedMetricWarning: F-score is ill-defined and being set to 0.0 in labels with no predicted samples.\n",
            "  'precision', 'predicted', average, warn_for)\n"
          ],
          "name": "stderr"
        },
        {
          "output_type": "execute_result",
          "data": {
            "text/plain": [
              "0.6331574445830831"
            ]
          },
          "metadata": {
            "tags": []
          },
          "execution_count": 56
        }
      ]
    },
    {
      "cell_type": "markdown",
      "metadata": {
        "id": "sm3iEv4qrRpb",
        "colab_type": "text"
      },
      "source": [
        "# Model Visualization"
      ]
    },
    {
      "cell_type": "code",
      "metadata": {
        "id": "ONz-Y-uRHAAS",
        "colab_type": "code",
        "outputId": "0807e6e2-da03-463d-b983-56b5c088e5c7",
        "colab": {
          "base_uri": "https://localhost:8080/",
          "height": 758
        }
      },
      "source": [
        "plot_model(model_blstm, to_file='multiclass-blstm.png')"
      ],
      "execution_count": 0,
      "outputs": [
        {
          "output_type": "execute_result",
          "data": {
            "image/png": "[encoded data removed]",
            "text/plain": [
              "<IPython.core.display.Image object>"
            ]
          },
          "metadata": {
            "tags": []
          },
          "execution_count": 41
        }
      ]
    },
    {
      "cell_type": "code",
      "metadata": {
        "id": "lmjcuNfT05vZ",
        "colab_type": "code",
        "colab": {}
      },
      "source": [
        "# Decomment following line if you want to download model figure\n",
        "# files.download('multiclass-blstm.png')"
      ],
      "execution_count": 0,
      "outputs": []
    },
    {
      "cell_type": "code",
      "metadata": {
        "id": "qxhbbDPfrvD8",
        "colab_type": "code",
        "outputId": "3201a764-7f7a-4868-d74f-b0e7ba9d4113",
        "colab": {
          "base_uri": "https://localhost:8080/",
          "height": 1000
        }
      },
      "source": [
        "plot_model(model_cnn, to_file='multiclass-cnn.png')"
      ],
      "execution_count": 0,
      "outputs": [
        {
          "output_type": "execute_result",
          "data": {
            "image/png": "[encoded data removed]",
            "text/plain": [
              "<IPython.core.display.Image object>"
            ]
          },
          "metadata": {
            "tags": []
          },
          "execution_count": 43
        }
      ]
    },
    {
      "cell_type": "code",
      "metadata": {
        "id": "-ItW2BcC0WKB",
        "colab_type": "code",
        "colab": {}
      },
      "source": [
        "# Decomment following line if you want to download model figure\n",
        "# files.download('multiclass-cnn.png')"
      ],
      "execution_count": 0,
      "outputs": []
    },
    {
      "cell_type": "code",
      "metadata": {
        "id": "EnH-wBSQ1BTl",
        "colab_type": "code",
        "colab": {}
      },
      "source": [
        ""
      ],
      "execution_count": 0,
      "outputs": []
    }
  ]
}